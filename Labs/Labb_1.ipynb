{
 "cells": [
  {
   "cell_type": "code",
   "execution_count": 2,
   "metadata": {},
   "outputs": [],
   "source": [
    "import pandas as pd\n",
    "import seaborn as sns\n",
    "import matplotlib.pyplot as plt\n",
    "import plotly.express as px\n",
    "\n",
    "file_path = 'C:/Users/Johan/OneDrive/Documents/GitHub/Databehandling-Johan-Clausen-Lind/Data/Folkhalsomyndigheten_Covid19.xlsx'\n",
    "file_path_vaccine = 'C:/Users/Johan/OneDrive/Documents/GitHub/Databehandling-Johan-Clausen-Lind/Data/Folkhalsomyndigheten_Covid19_Vaccine.xlsx'\n",
    "covid_vaccine_data = pd.read_excel(file_path_vaccine)\n",
    "covid_data = pd.read_excel(file_path)\n",
    "veckodata_riket = pd.read_excel(file_path, sheet_name='Veckodata Riket')\n",
    "Vaccinerade_kommun_ålder = pd.read_excel(file_path_vaccine, sheet_name='Vaccinerade kommun och ålder')\n"
   ]
  },
  {
   "cell_type": "code",
   "execution_count": null,
   "metadata": {},
   "outputs": [],
   "source": [
    "veckodata_riket.info()"
   ]
  },
  {
   "cell_type": "code",
   "execution_count": null,
   "metadata": {},
   "outputs": [],
   "source": [
    "veckodata_riket.describe()"
   ]
  },
  {
   "cell_type": "code",
   "execution_count": null,
   "metadata": {},
   "outputs": [],
   "source": [
    "veckodata_riket.value_counts()"
   ]
  },
  {
   "cell_type": "code",
   "execution_count": null,
   "metadata": {},
   "outputs": [],
   "source": [
    "veckodata_riket.head()"
   ]
  },
  {
   "cell_type": "code",
   "execution_count": null,
   "metadata": {},
   "outputs": [],
   "source": [
    "veckodata_riket.columns"
   ]
  },
  {
   "cell_type": "code",
   "execution_count": null,
   "metadata": {},
   "outputs": [],
   "source": [
    "veckodata_riket.index"
   ]
  },
  {
   "cell_type": "code",
   "execution_count": 3,
   "metadata": {},
   "outputs": [
    {
     "data": {
      "text/html": [
       "<div>\n",
       "<style scoped>\n",
       "    .dataframe tbody tr th:only-of-type {\n",
       "        vertical-align: middle;\n",
       "    }\n",
       "\n",
       "    .dataframe tbody tr th {\n",
       "        vertical-align: top;\n",
       "    }\n",
       "\n",
       "    .dataframe thead th {\n",
       "        text-align: right;\n",
       "    }\n",
       "</style>\n",
       "<table border=\"1\" class=\"dataframe\">\n",
       "  <thead>\n",
       "    <tr style=\"text-align: right;\">\n",
       "      <th></th>\n",
       "      <th>Antal_fall_vecka</th>\n",
       "      <th>Antal_fall_100000inv_vecka</th>\n",
       "      <th>Antal_fall_100000inv_14dagar</th>\n",
       "      <th>Kum_antal_fall</th>\n",
       "      <th>Kum_fall_100000inv</th>\n",
       "      <th>Antal_nyaintensivvårdade_vecka</th>\n",
       "      <th>Kum_antal_intensivvårdade</th>\n",
       "      <th>Antal_avlidna_vecka</th>\n",
       "      <th>Antal_avlidna_milj_inv_vecka</th>\n",
       "      <th>Kum_antal_avlidna</th>\n",
       "      <th>Kum_antal_avlidna_milj_inv</th>\n",
       "      <th>Vecka</th>\n",
       "    </tr>\n",
       "  </thead>\n",
       "  <tbody>\n",
       "    <tr>\n",
       "      <th>0</th>\n",
       "      <td>1</td>\n",
       "      <td>0</td>\n",
       "      <td>0</td>\n",
       "      <td>1</td>\n",
       "      <td>0</td>\n",
       "      <td>0</td>\n",
       "      <td>0</td>\n",
       "      <td>0</td>\n",
       "      <td>0.0</td>\n",
       "      <td>0</td>\n",
       "      <td>0.0</td>\n",
       "      <td>2020v6</td>\n",
       "    </tr>\n",
       "    <tr>\n",
       "      <th>1</th>\n",
       "      <td>0</td>\n",
       "      <td>0</td>\n",
       "      <td>0</td>\n",
       "      <td>1</td>\n",
       "      <td>0</td>\n",
       "      <td>0</td>\n",
       "      <td>0</td>\n",
       "      <td>0</td>\n",
       "      <td>0.0</td>\n",
       "      <td>0</td>\n",
       "      <td>0.0</td>\n",
       "      <td>2020v7</td>\n",
       "    </tr>\n",
       "    <tr>\n",
       "      <th>2</th>\n",
       "      <td>0</td>\n",
       "      <td>0</td>\n",
       "      <td>0</td>\n",
       "      <td>1</td>\n",
       "      <td>0</td>\n",
       "      <td>0</td>\n",
       "      <td>0</td>\n",
       "      <td>0</td>\n",
       "      <td>0.0</td>\n",
       "      <td>0</td>\n",
       "      <td>0.0</td>\n",
       "      <td>2020v8</td>\n",
       "    </tr>\n",
       "    <tr>\n",
       "      <th>3</th>\n",
       "      <td>13</td>\n",
       "      <td>0</td>\n",
       "      <td>0</td>\n",
       "      <td>14</td>\n",
       "      <td>0</td>\n",
       "      <td>0</td>\n",
       "      <td>0</td>\n",
       "      <td>0</td>\n",
       "      <td>0.0</td>\n",
       "      <td>0</td>\n",
       "      <td>0.0</td>\n",
       "      <td>2020v9</td>\n",
       "    </tr>\n",
       "    <tr>\n",
       "      <th>4</th>\n",
       "      <td>211</td>\n",
       "      <td>2</td>\n",
       "      <td>2</td>\n",
       "      <td>225</td>\n",
       "      <td>2</td>\n",
       "      <td>3</td>\n",
       "      <td>3</td>\n",
       "      <td>0</td>\n",
       "      <td>0.0</td>\n",
       "      <td>0</td>\n",
       "      <td>0.0</td>\n",
       "      <td>2020v10</td>\n",
       "    </tr>\n",
       "  </tbody>\n",
       "</table>\n",
       "</div>"
      ],
      "text/plain": [
       "   Antal_fall_vecka  Antal_fall_100000inv_vecka  Antal_fall_100000inv_14dagar  \\\n",
       "0                 1                           0                             0   \n",
       "1                 0                           0                             0   \n",
       "2                 0                           0                             0   \n",
       "3                13                           0                             0   \n",
       "4               211                           2                             2   \n",
       "\n",
       "   Kum_antal_fall  Kum_fall_100000inv  Antal_nyaintensivvårdade_vecka  \\\n",
       "0               1                   0                               0   \n",
       "1               1                   0                               0   \n",
       "2               1                   0                               0   \n",
       "3              14                   0                               0   \n",
       "4             225                   2                               3   \n",
       "\n",
       "   Kum_antal_intensivvårdade  Antal_avlidna_vecka  \\\n",
       "0                          0                    0   \n",
       "1                          0                    0   \n",
       "2                          0                    0   \n",
       "3                          0                    0   \n",
       "4                          3                    0   \n",
       "\n",
       "   Antal_avlidna_milj_inv_vecka  Kum_antal_avlidna  \\\n",
       "0                           0.0                  0   \n",
       "1                           0.0                  0   \n",
       "2                           0.0                  0   \n",
       "3                           0.0                  0   \n",
       "4                           0.0                  0   \n",
       "\n",
       "   Kum_antal_avlidna_milj_inv    Vecka  \n",
       "0                         0.0   2020v6  \n",
       "1                         0.0   2020v7  \n",
       "2                         0.0   2020v8  \n",
       "3                         0.0   2020v9  \n",
       "4                         0.0  2020v10  "
      ]
     },
     "execution_count": 3,
     "metadata": {},
     "output_type": "execute_result"
    }
   ],
   "source": [
    "veckodata_riket['Vecka'] = veckodata_riket['år'].astype(str) + 'v' + veckodata_riket['veckonummer'].astype(str)\n",
    "veckodata_riket = veckodata_riket.drop(columns=['år', 'veckonummer'])\n",
    "veckodata_riket.head()\n"
   ]
  },
  {
   "cell_type": "code",
   "execution_count": null,
   "metadata": {},
   "outputs": [],
   "source": [
    "# Ställ in storleken på hela figuren\n",
    "plt.figure(figsize=(12, 10))\n",
    "\n",
    "# Subplot 1: Antal avlidna per vecka\n",
    "plt.subplot(2, 2, 1) # (rows, columns, panel number)\n",
    "sns.lineplot(data=veckodata_riket, x='Vecka', y='Antal_avlidna_vecka')\n",
    "plt.title('Antal Avlidna per Vecka')\n",
    "plt.xticks(rotation=45)"
   ]
  },
  {
   "cell_type": "code",
   "execution_count": null,
   "metadata": {},
   "outputs": [],
   "source": [
    "fig = px.line(veckodata_riket, x='Vecka', y='Antal_avlidna_vecka', title='Antal Avlidna per Vecka')\n",
    "fig.show()\n"
   ]
  },
  {
   "cell_type": "code",
   "execution_count": null,
   "metadata": {},
   "outputs": [],
   "source": [
    "# Ställ in storleken på hela figuren\n",
    "plt.figure(figsize=(12, 10))\n",
    "\n",
    "# Subplot 1: Antal avlidna per vecka\n",
    "plt.subplot(2, 2, 1) # (rows, columns, panel number)\n",
    "sns.lineplot(data=veckodata_riket, x='Vecka', y='Antal_fall_vecka')\n",
    "plt.title('Antal nya fall per vecka')\n",
    "plt.xticks(rotation=45)"
   ]
  },
  {
   "cell_type": "code",
   "execution_count": null,
   "metadata": {},
   "outputs": [],
   "source": [
    "fig = px.line(veckodata_riket, x='Vecka', y='Antal_fall_vecka', title='Antal nya fall per vecka')\n",
    "fig.show()\n"
   ]
  },
  {
   "cell_type": "code",
   "execution_count": null,
   "metadata": {},
   "outputs": [],
   "source": [
    "plt.subplot(2, 2, 3) # Tredje positionen i en 2x2 grid\n",
    "sns.lineplot(data=veckodata_riket, x='Vecka', y='Antal_avlidna_vecka', label='Avlidna Fall')\n",
    "sns.lineplot(data=veckodata_riket, x='Vecka', y='Antal_fall_vecka', label='Nya Fall')\n",
    "plt.title('Avlidna Fall och Nya Fall per Vecka')\n",
    "plt.xticks(rotation=45)\n",
    "plt.legend()  # Visa en legend för att skilja linjerna\n"
   ]
  },
  {
   "cell_type": "code",
   "execution_count": null,
   "metadata": {},
   "outputs": [],
   "source": [
    "\n",
    "# Omstrukturera data för Plotly\n",
    "melted_data = veckodata_riket.melt(id_vars=['Vecka'], \n",
    "                                   value_vars=['Antal_avlidna_vecka', 'Antal_fall_vecka'],\n",
    "                                   var_name='Typ', value_name='Antal')\n",
    "\n",
    "# Skapa linjediagrammet\n",
    "fig = px.line(melted_data, x='Vecka', y='Antal', color='Typ', \n",
    "             title='Avlidna Fall och Nya Fall per Vecka')\n",
    "fig.show()\n"
   ]
  },
  {
   "cell_type": "code",
   "execution_count": null,
   "metadata": {},
   "outputs": [],
   "source": [
    "# Ställ in storleken på hela figuren\n",
    "plt.figure(figsize=(12, 10))\n",
    "\n",
    "# Subplot 1: Antal avlidna per vecka\n",
    "plt.subplot(2, 2, 1) # (rows, columns, panel number)\n",
    "sns.lineplot(data=veckodata_riket, x='Vecka', y='Kum_antal_fall')\n",
    "plt.title('Antal fall kumulativt per vecka')\n",
    "plt.xticks(rotation=45)"
   ]
  },
  {
   "cell_type": "code",
   "execution_count": null,
   "metadata": {},
   "outputs": [],
   "source": [
    "fig = px.line(veckodata_riket, x='Vecka', y='Kum_antal_fall', title='Antal fall kumulativt per vecka')\n",
    "fig.show()\n"
   ]
  },
  {
   "cell_type": "code",
   "execution_count": null,
   "metadata": {},
   "outputs": [],
   "source": [
    "Vaccinerade_kommun_ålder.info"
   ]
  },
  {
   "cell_type": "code",
   "execution_count": null,
   "metadata": {},
   "outputs": [],
   "source": [
    "Vaccinerade_kommun_ålder.columns"
   ]
  },
  {
   "cell_type": "code",
   "execution_count": null,
   "metadata": {},
   "outputs": [],
   "source": [
    "antal_län=Vaccinerade_kommun_ålder['Län'].nunique()\n",
    "print(f'Det finns {antal_län} län i datan.')"
   ]
  },
  {
   "cell_type": "code",
   "execution_count": null,
   "metadata": {},
   "outputs": [],
   "source": [
    "antal_kommuner = Vaccinerade_kommun_ålder['Kommun'].nunique()\n",
    "print(f'Det finns {antal_kommuner} kommuner i datan.')"
   ]
  },
  {
   "cell_type": "code",
   "execution_count": null,
   "metadata": {},
   "outputs": [],
   "source": [
    "total_befolkning = Vaccinerade_kommun_ålder['Befolkning'].sum()\n",
    "print(f'Den totala befolkningen är {total_befolkning} individer.')"
   ]
  },
  {
   "cell_type": "code",
   "execution_count": null,
   "metadata": {},
   "outputs": [],
   "source": [
    "Vaccinerade_kommun_ålder.columns\n",
    "Vaccinerade_kommun_ålder['Ålder']"
   ]
  },
  {
   "cell_type": "code",
   "execution_count": 4,
   "metadata": {},
   "outputs": [
    {
     "name": "stdout",
     "output_type": "stream",
     "text": [
      "Antal barn under 18 år i Sverige: 745370\n"
     ]
    }
   ],
   "source": [
    "# Enligt världsbanken finns det 10,42 miljoner människor i Sverige.\n",
    "# Fick hjälp av chatgpt på funktionen.\n",
    "def extract_lower_age(age_str):\n",
    "    if age_str == \"90 eller äldre\":\n",
    "        return 90\n",
    "    return int(age_str.split('-')[0])\n",
    "\n",
    "# Skapa en ny kolumn med den nedre åldersgränsen\n",
    "Vaccinerade_kommun_ålder['Nedre_Ålder'] = Vaccinerade_kommun_ålder['Ålder'].apply(extract_lower_age)\n",
    "\n",
    "# Filtrera datasetet för rader där Nedre_Ålder är under 18\n",
    "barn_under_18_data = Vaccinerade_kommun_ålder[Vaccinerade_kommun_ålder['Nedre_Ålder'] < 18]\n",
    "\n",
    "# Summera befolkningen för dessa rader\n",
    "barn_under_18 = barn_under_18_data['Befolkning'].sum()\n",
    "print(f\"Antal barn under 18 år i Sverige: {barn_under_18}\")\n"
   ]
  },
  {
   "cell_type": "code",
   "execution_count": 7,
   "metadata": {},
   "outputs": [
    {
     "data": {
      "application/vnd.plotly.v1+json": {
       "config": {
        "plotlyServerURL": "https://plot.ly"
       },
       "data": [
        {
         "alignmentgroup": "True",
         "hovertemplate": "Ålder=%{x}<br>Befolkning=%{y}<br>Kommun=%{marker.color}<extra></extra>",
         "legendgroup": "",
         "marker": {
          "color": [
           114,
           114,
           114,
           114,
           114,
           114,
           114,
           114,
           114,
           114,
           115,
           115,
           115,
           115,
           115,
           115,
           115,
           115,
           115,
           115,
           117,
           117,
           117,
           117,
           117,
           117,
           117,
           117,
           117,
           117,
           120,
           120,
           120,
           120,
           120,
           120,
           120,
           120,
           120,
           120,
           123,
           123,
           123,
           123,
           123,
           123,
           123,
           123,
           123,
           123,
           125,
           125,
           125,
           125,
           125,
           125,
           125,
           125,
           125,
           125,
           126,
           126,
           126,
           126,
           126,
           126,
           126,
           126,
           126,
           126,
           127,
           127,
           127,
           127,
           127,
           127,
           127,
           127,
           127,
           127,
           128,
           128,
           128,
           128,
           128,
           128,
           128,
           128,
           128,
           128,
           136,
           136,
           136,
           136,
           136,
           136,
           136,
           136,
           136,
           136,
           138,
           138,
           138,
           138,
           138,
           138,
           138,
           138,
           138,
           138,
           139,
           139,
           139,
           139,
           139,
           139,
           139,
           139,
           139,
           139,
           140,
           140,
           140,
           140,
           140,
           140,
           140,
           140,
           140,
           140,
           160,
           160,
           160,
           160,
           160,
           160,
           160,
           160,
           160,
           160,
           162,
           162,
           162,
           162,
           162,
           162,
           162,
           162,
           162,
           162,
           163,
           163,
           163,
           163,
           163,
           163,
           163,
           163,
           163,
           163,
           180,
           180,
           180,
           180,
           180,
           180,
           180,
           180,
           180,
           180,
           181,
           181,
           181,
           181,
           181,
           181,
           181,
           181,
           181,
           181,
           182,
           182,
           182,
           182,
           182,
           182,
           182,
           182,
           182,
           182,
           183,
           183,
           183,
           183,
           183,
           183,
           183,
           183,
           183,
           183,
           184,
           184,
           184,
           184,
           184,
           184,
           184,
           184,
           184,
           184,
           186,
           186,
           186,
           186,
           186,
           186,
           186,
           186,
           186,
           186,
           187,
           187,
           187,
           187,
           187,
           187,
           187,
           187,
           187,
           187,
           188,
           188,
           188,
           188,
           188,
           188,
           188,
           188,
           188,
           188,
           191,
           191,
           191,
           191,
           191,
           191,
           191,
           191,
           191,
           191,
           192,
           192,
           192,
           192,
           192,
           192,
           192,
           192,
           192,
           192,
           305,
           305,
           305,
           305,
           305,
           305,
           305,
           305,
           305,
           305,
           319,
           319,
           319,
           319,
           319,
           319,
           319,
           319,
           319,
           319,
           330,
           330,
           330,
           330,
           330,
           330,
           330,
           330,
           330,
           330,
           331,
           331,
           331,
           331,
           331,
           331,
           331,
           331,
           331,
           331,
           360,
           360,
           360,
           360,
           360,
           360,
           360,
           360,
           360,
           360,
           380,
           380,
           380,
           380,
           380,
           380,
           380,
           380,
           380,
           380,
           381,
           381,
           381,
           381,
           381,
           381,
           381,
           381,
           381,
           381,
           382,
           382,
           382,
           382,
           382,
           382,
           382,
           382,
           382,
           382,
           428,
           428,
           428,
           428,
           428,
           428,
           428,
           428,
           428,
           428,
           461,
           461,
           461,
           461,
           461,
           461,
           461,
           461,
           461,
           461,
           480,
           480,
           480,
           480,
           480,
           480,
           480,
           480,
           480,
           480,
           481,
           481,
           481,
           481,
           481,
           481,
           481,
           481,
           481,
           481,
           482,
           482,
           482,
           482,
           482,
           482,
           482,
           482,
           482,
           482,
           483,
           483,
           483,
           483,
           483,
           483,
           483,
           483,
           483,
           483,
           484,
           484,
           484,
           484,
           484,
           484,
           484,
           484,
           484,
           484,
           486,
           486,
           486,
           486,
           486,
           486,
           486,
           486,
           486,
           486,
           488,
           488,
           488,
           488,
           488,
           488,
           488,
           488,
           488,
           488,
           509,
           509,
           509,
           509,
           509,
           509,
           509,
           509,
           509,
           509,
           512,
           512,
           512,
           512,
           512,
           512,
           512,
           512,
           512,
           512,
           513,
           513,
           513,
           513,
           513,
           513,
           513,
           513,
           513,
           513,
           560,
           560,
           560,
           560,
           560,
           560,
           560,
           560,
           560,
           560,
           561,
           561,
           561,
           561,
           561,
           561,
           561,
           561,
           561,
           561,
           562,
           562,
           562,
           562,
           562,
           562,
           562,
           562,
           562,
           562,
           563,
           563,
           563,
           563,
           563,
           563,
           563,
           563,
           563,
           563,
           580,
           580,
           580,
           580,
           580,
           580,
           580,
           580,
           580,
           580,
           581,
           581,
           581,
           581,
           581,
           581,
           581,
           581,
           581,
           581,
           582,
           582,
           582,
           582,
           582,
           582,
           582,
           582,
           582,
           582,
           583,
           583,
           583,
           583,
           583,
           583,
           583,
           583,
           583,
           583,
           584,
           584,
           584,
           584,
           584,
           584,
           584,
           584,
           584,
           584,
           586,
           586,
           586,
           586,
           586,
           586,
           586,
           586,
           586,
           586,
           604,
           604,
           604,
           604,
           604,
           604,
           604,
           604,
           604,
           604,
           617,
           617,
           617,
           617,
           617,
           617,
           617,
           617,
           617,
           617,
           642,
           642,
           642,
           642,
           642,
           642,
           642,
           642,
           642,
           642,
           643,
           643,
           643,
           643,
           643,
           643,
           643,
           643,
           643,
           643,
           662,
           662,
           662,
           662,
           662,
           662,
           662,
           662,
           662,
           662,
           665,
           665,
           665,
           665,
           665,
           665,
           665,
           665,
           665,
           665,
           680,
           680,
           680,
           680,
           680,
           680,
           680,
           680,
           680,
           680,
           682,
           682,
           682,
           682,
           682,
           682,
           682,
           682,
           682,
           682,
           683,
           683,
           683,
           683,
           683,
           683,
           683,
           683,
           683,
           683,
           684,
           684,
           684,
           684,
           684,
           684,
           684,
           684,
           684,
           684,
           685,
           685,
           685,
           685,
           685,
           685,
           685,
           685,
           685,
           685,
           686,
           686,
           686,
           686,
           686,
           686,
           686,
           686,
           686,
           686,
           687,
           687,
           687,
           687,
           687,
           687,
           687,
           687,
           687,
           687,
           760,
           760,
           760,
           760,
           760,
           760,
           760,
           760,
           760,
           760,
           761,
           761,
           761,
           761,
           761,
           761,
           761,
           761,
           761,
           761,
           763,
           763,
           763,
           763,
           763,
           763,
           763,
           763,
           763,
           763,
           764,
           764,
           764,
           764,
           764,
           764,
           764,
           764,
           764,
           764,
           765,
           765,
           765,
           765,
           765,
           765,
           765,
           765,
           765,
           765,
           767,
           767,
           767,
           767,
           767,
           767,
           767,
           767,
           767,
           767,
           780,
           780,
           780,
           780,
           780,
           780,
           780,
           780,
           780,
           780,
           781,
           781,
           781,
           781,
           781,
           781,
           781,
           781,
           781,
           781,
           821,
           821,
           821,
           821,
           821,
           821,
           821,
           821,
           821,
           821,
           834,
           834,
           834,
           834,
           834,
           834,
           834,
           834,
           834,
           834,
           840,
           840,
           840,
           840,
           840,
           840,
           840,
           840,
           840,
           840,
           860,
           860,
           860,
           860,
           860,
           860,
           860,
           860,
           860,
           860,
           861,
           861,
           861,
           861,
           861,
           861,
           861,
           861,
           861,
           861,
           862,
           862,
           862,
           862,
           862,
           862,
           862,
           862,
           862,
           862,
           880,
           880,
           880,
           880,
           880,
           880,
           880,
           880,
           880,
           880,
           881,
           881,
           881,
           881,
           881,
           881,
           881,
           881,
           881,
           881,
           882,
           882,
           882,
           882,
           882,
           882,
           882,
           882,
           882,
           882,
           883,
           883,
           883,
           883,
           883,
           883,
           883,
           883,
           883,
           883,
           884,
           884,
           884,
           884,
           884,
           884,
           884,
           884,
           884,
           884,
           885,
           885,
           885,
           885,
           885,
           885,
           885,
           885,
           885,
           885,
           980,
           980,
           980,
           980,
           980,
           980,
           980,
           980,
           980,
           980,
           1060,
           1060,
           1060,
           1060,
           1060,
           1060,
           1060,
           1060,
           1060,
           1060,
           1080,
           1080,
           1080,
           1080,
           1080,
           1080,
           1080,
           1080,
           1080,
           1080,
           1081,
           1081,
           1081,
           1081,
           1081,
           1081,
           1081,
           1081,
           1081,
           1081,
           1082,
           1082,
           1082,
           1082,
           1082,
           1082,
           1082,
           1082,
           1082,
           1082,
           1083,
           1083,
           1083,
           1083,
           1083,
           1083,
           1083,
           1083,
           1083,
           1083,
           1214,
           1214,
           1214,
           1214,
           1214,
           1214,
           1214,
           1214,
           1214,
           1214,
           1230,
           1230,
           1230,
           1230,
           1230,
           1230,
           1230,
           1230,
           1230,
           1230,
           1231,
           1231,
           1231,
           1231,
           1231,
           1231,
           1231,
           1231,
           1231,
           1231,
           1233,
           1233,
           1233,
           1233,
           1233,
           1233,
           1233,
           1233,
           1233,
           1233,
           1256,
           1256,
           1256,
           1256,
           1256,
           1256,
           1256,
           1256,
           1256,
           1256,
           1257,
           1257,
           1257,
           1257,
           1257,
           1257,
           1257,
           1257,
           1257,
           1257,
           1260,
           1260,
           1260,
           1260,
           1260,
           1260,
           1260,
           1260,
           1260,
           1260,
           1261,
           1261,
           1261,
           1261,
           1261,
           1261,
           1261,
           1261,
           1261,
           1261,
           1262,
           1262,
           1262,
           1262,
           1262,
           1262,
           1262,
           1262,
           1262,
           1262,
           1263,
           1263,
           1263,
           1263,
           1263,
           1263,
           1263,
           1263,
           1263,
           1263,
           1264,
           1264,
           1264,
           1264,
           1264,
           1264,
           1264,
           1264,
           1264,
           1264,
           1265,
           1265,
           1265,
           1265,
           1265,
           1265,
           1265,
           1265,
           1265,
           1265,
           1266,
           1266,
           1266,
           1266,
           1266,
           1266,
           1266,
           1266,
           1266,
           1266,
           1267,
           1267,
           1267,
           1267,
           1267,
           1267,
           1267,
           1267,
           1267,
           1267,
           1270,
           1270,
           1270,
           1270,
           1270,
           1270,
           1270,
           1270,
           1270,
           1270,
           1272,
           1272,
           1272,
           1272,
           1272,
           1272,
           1272,
           1272,
           1272,
           1272,
           1273,
           1273,
           1273,
           1273,
           1273,
           1273,
           1273,
           1273,
           1273,
           1273,
           1275,
           1275,
           1275,
           1275,
           1275,
           1275,
           1275,
           1275,
           1275,
           1275,
           1276,
           1276,
           1276,
           1276,
           1276,
           1276,
           1276,
           1276,
           1276,
           1276,
           1277,
           1277,
           1277,
           1277,
           1277,
           1277,
           1277,
           1277,
           1277,
           1277,
           1278,
           1278,
           1278,
           1278,
           1278,
           1278,
           1278,
           1278,
           1278,
           1278,
           1280,
           1280,
           1280,
           1280,
           1280,
           1280,
           1280,
           1280,
           1280,
           1280,
           1281,
           1281,
           1281,
           1281,
           1281,
           1281,
           1281,
           1281,
           1281,
           1281,
           1282,
           1282,
           1282,
           1282,
           1282,
           1282,
           1282,
           1282,
           1282,
           1282,
           1283,
           1283,
           1283,
           1283,
           1283,
           1283,
           1283,
           1283,
           1283,
           1283,
           1284,
           1284,
           1284,
           1284,
           1284,
           1284,
           1284,
           1284,
           1284,
           1284,
           1285,
           1285,
           1285,
           1285,
           1285,
           1285,
           1285,
           1285,
           1285,
           1285,
           1286,
           1286,
           1286,
           1286,
           1286,
           1286,
           1286,
           1286,
           1286,
           1286,
           1287,
           1287,
           1287,
           1287,
           1287,
           1287,
           1287,
           1287,
           1287,
           1287,
           1290,
           1290,
           1290,
           1290,
           1290,
           1290,
           1290,
           1290,
           1290,
           1290,
           1291,
           1291,
           1291,
           1291,
           1291,
           1291,
           1291,
           1291,
           1291,
           1291,
           1292,
           1292,
           1292,
           1292,
           1292,
           1292,
           1292,
           1292,
           1292,
           1292,
           1293,
           1293,
           1293,
           1293,
           1293,
           1293,
           1293,
           1293,
           1293,
           1293,
           1315,
           1315,
           1315,
           1315,
           1315,
           1315,
           1315,
           1315,
           1315,
           1315,
           1380,
           1380,
           1380,
           1380,
           1380,
           1380,
           1380,
           1380,
           1380,
           1380,
           1381,
           1381,
           1381,
           1381,
           1381,
           1381,
           1381,
           1381,
           1381,
           1381,
           1382,
           1382,
           1382,
           1382,
           1382,
           1382,
           1382,
           1382,
           1382,
           1382,
           1383,
           1383,
           1383,
           1383,
           1383,
           1383,
           1383,
           1383,
           1383,
           1383,
           1384,
           1384,
           1384,
           1384,
           1384,
           1384,
           1384,
           1384,
           1384,
           1384,
           1401,
           1401,
           1401,
           1401,
           1401,
           1401,
           1401,
           1401,
           1401,
           1401,
           1402,
           1402,
           1402,
           1402,
           1402,
           1402,
           1402,
           1402,
           1402,
           1402,
           1407,
           1407,
           1407,
           1407,
           1407,
           1407,
           1407,
           1407,
           1407,
           1407,
           1415,
           1415,
           1415,
           1415,
           1415,
           1415,
           1415,
           1415,
           1415,
           1415,
           1419,
           1419,
           1419,
           1419,
           1419,
           1419,
           1419,
           1419,
           1419,
           1419,
           1421,
           1421,
           1421,
           1421,
           1421,
           1421,
           1421,
           1421,
           1421,
           1421,
           1427,
           1427,
           1427,
           1427,
           1427,
           1427,
           1427,
           1427,
           1427,
           1427,
           1430,
           1430,
           1430,
           1430,
           1430,
           1430,
           1430,
           1430,
           1430,
           1430,
           1435,
           1435,
           1435,
           1435,
           1435,
           1435,
           1435,
           1435,
           1435,
           1435,
           1438,
           1438,
           1438,
           1438,
           1438,
           1438,
           1438,
           1438,
           1438,
           1438,
           1439,
           1439,
           1439,
           1439,
           1439,
           1439,
           1439,
           1439,
           1439,
           1439,
           1440,
           1440,
           1440,
           1440,
           1440,
           1440,
           1440,
           1440,
           1440,
           1440,
           1441,
           1441,
           1441,
           1441,
           1441,
           1441,
           1441,
           1441,
           1441,
           1441,
           1442,
           1442,
           1442,
           1442,
           1442,
           1442,
           1442,
           1442,
           1442,
           1442,
           1443,
           1443,
           1443,
           1443,
           1443,
           1443,
           1443,
           1443,
           1443,
           1443,
           1444,
           1444,
           1444,
           1444,
           1444,
           1444,
           1444,
           1444,
           1444,
           1444,
           1445,
           1445,
           1445,
           1445,
           1445,
           1445,
           1445,
           1445,
           1445,
           1445,
           1446,
           1446,
           1446,
           1446,
           1446,
           1446,
           1446,
           1446,
           1446,
           1446,
           1447,
           1447,
           1447,
           1447,
           1447,
           1447,
           1447,
           1447,
           1447,
           1447,
           1452,
           1452,
           1452,
           1452,
           1452,
           1452,
           1452,
           1452,
           1452,
           1452,
           1460,
           1460,
           1460,
           1460,
           1460,
           1460,
           1460,
           1460,
           1460,
           1460,
           1461,
           1461,
           1461,
           1461,
           1461,
           1461,
           1461,
           1461,
           1461,
           1461,
           1462,
           1462,
           1462,
           1462,
           1462,
           1462,
           1462,
           1462,
           1462,
           1462,
           1463,
           1463,
           1463,
           1463,
           1463,
           1463,
           1463,
           1463,
           1463,
           1463,
           1465,
           1465,
           1465,
           1465,
           1465,
           1465,
           1465,
           1465,
           1465,
           1465,
           1466,
           1466,
           1466,
           1466,
           1466,
           1466,
           1466,
           1466,
           1466,
           1466,
           1470,
           1470,
           1470,
           1470,
           1470,
           1470,
           1470,
           1470,
           1470,
           1470,
           1471,
           1471,
           1471,
           1471,
           1471,
           1471,
           1471,
           1471,
           1471,
           1471,
           1472,
           1472,
           1472,
           1472,
           1472,
           1472,
           1472,
           1472,
           1472,
           1472,
           1473,
           1473,
           1473,
           1473,
           1473,
           1473,
           1473,
           1473,
           1473,
           1473,
           1480,
           1480,
           1480,
           1480,
           1480,
           1480,
           1480,
           1480,
           1480,
           1480,
           1481,
           1481,
           1481,
           1481,
           1481,
           1481,
           1481,
           1481,
           1481,
           1481,
           1482,
           1482,
           1482,
           1482,
           1482,
           1482,
           1482,
           1482,
           1482,
           1482,
           1484,
           1484,
           1484,
           1484,
           1484,
           1484,
           1484,
           1484,
           1484,
           1484,
           1485,
           1485,
           1485,
           1485,
           1485,
           1485,
           1485,
           1485,
           1485,
           1485,
           1486,
           1486,
           1486,
           1486,
           1486,
           1486,
           1486,
           1486,
           1486,
           1486,
           1487,
           1487,
           1487,
           1487,
           1487,
           1487,
           1487,
           1487,
           1487,
           1487,
           1488,
           1488,
           1488,
           1488,
           1488,
           1488,
           1488,
           1488,
           1488,
           1488,
           1489,
           1489,
           1489,
           1489,
           1489,
           1489,
           1489,
           1489,
           1489,
           1489,
           1490,
           1490,
           1490,
           1490,
           1490,
           1490,
           1490,
           1490,
           1490,
           1490,
           1491,
           1491,
           1491,
           1491,
           1491,
           1491,
           1491,
           1491,
           1491,
           1491,
           1492,
           1492,
           1492,
           1492,
           1492,
           1492,
           1492,
           1492,
           1492,
           1492,
           1493,
           1493,
           1493,
           1493,
           1493,
           1493,
           1493,
           1493,
           1493,
           1493,
           1494,
           1494,
           1494,
           1494,
           1494,
           1494,
           1494,
           1494,
           1494,
           1494,
           1495,
           1495,
           1495,
           1495,
           1495,
           1495,
           1495,
           1495,
           1495,
           1495,
           1496,
           1496,
           1496,
           1496,
           1496,
           1496,
           1496,
           1496,
           1496,
           1496,
           1497,
           1497,
           1497,
           1497,
           1497,
           1497,
           1497,
           1497,
           1497,
           1497,
           1498,
           1498,
           1498,
           1498,
           1498,
           1498,
           1498,
           1498,
           1498,
           1498,
           1499,
           1499,
           1499,
           1499,
           1499,
           1499,
           1499,
           1499,
           1499,
           1499,
           1715,
           1715,
           1715,
           1715,
           1715,
           1715,
           1715,
           1715,
           1715,
           1715,
           1730,
           1730,
           1730,
           1730,
           1730,
           1730,
           1730,
           1730,
           1730,
           1730,
           1737,
           1737,
           1737,
           1737,
           1737,
           1737,
           1737,
           1737,
           1737,
           1737,
           1760,
           1760,
           1760,
           1760,
           1760,
           1760,
           1760,
           1760,
           1760,
           1760,
           1761,
           1761,
           1761,
           1761,
           1761,
           1761,
           1761,
           1761,
           1761,
           1761,
           1762,
           1762,
           1762,
           1762,
           1762,
           1762,
           1762,
           1762,
           1762,
           1762,
           1763,
           1763,
           1763,
           1763,
           1763,
           1763,
           1763,
           1763,
           1763,
           1763,
           1764,
           1764,
           1764,
           1764,
           1764,
           1764,
           1764,
           1764,
           1764,
           1764,
           1765,
           1765,
           1765,
           1765,
           1765,
           1765,
           1765,
           1765,
           1765,
           1765,
           1766,
           1766,
           1766,
           1766,
           1766,
           1766,
           1766,
           1766,
           1766,
           1766,
           1780,
           1780,
           1780,
           1780,
           1780,
           1780,
           1780,
           1780,
           1780,
           1780,
           1781,
           1781,
           1781,
           1781,
           1781,
           1781,
           1781,
           1781,
           1781,
           1781,
           1782,
           1782,
           1782,
           1782,
           1782,
           1782,
           1782,
           1782,
           1782,
           1782,
           1783,
           1783,
           1783,
           1783,
           1783,
           1783,
           1783,
           1783,
           1783,
           1783,
           1784,
           1784,
           1784,
           1784,
           1784,
           1784,
           1784,
           1784,
           1784,
           1784,
           1785,
           1785,
           1785,
           1785,
           1785,
           1785,
           1785,
           1785,
           1785,
           1785,
           1814,
           1814,
           1814,
           1814,
           1814,
           1814,
           1814,
           1814,
           1814,
           1814,
           1860,
           1860,
           1860,
           1860,
           1860,
           1860,
           1860,
           1860,
           1860,
           1860,
           1861,
           1861,
           1861,
           1861,
           1861,
           1861,
           1861,
           1861,
           1861,
           1861,
           1862,
           1862,
           1862,
           1862,
           1862,
           1862,
           1862,
           1862,
           1862,
           1862,
           1863,
           1863,
           1863,
           1863,
           1863,
           1863,
           1863,
           1863,
           1863,
           1863,
           1864,
           1864,
           1864,
           1864,
           1864,
           1864,
           1864,
           1864,
           1864,
           1864,
           1880,
           1880,
           1880,
           1880,
           1880,
           1880,
           1880,
           1880,
           1880,
           1880,
           1881,
           1881,
           1881,
           1881,
           1881,
           1881,
           1881,
           1881,
           1881,
           1881,
           1882,
           1882,
           1882,
           1882,
           1882,
           1882,
           1882,
           1882,
           1882,
           1882,
           1883,
           1883,
           1883,
           1883,
           1883,
           1883,
           1883,
           1883,
           1883,
           1883,
           1884,
           1884,
           1884,
           1884,
           1884,
           1884,
           1884,
           1884,
           1884,
           1884,
           1885,
           1885,
           1885,
           1885,
           1885,
           1885,
           1885,
           1885,
           1885,
           1885,
           1904,
           1904,
           1904,
           1904,
           1904,
           1904,
           1904,
           1904,
           1904,
           1904,
           1907,
           1907,
           1907,
           1907,
           1907,
           1907,
           1907,
           1907,
           1907,
           1907,
           1960,
           1960,
           1960,
           1960,
           1960,
           1960,
           1960,
           1960,
           1960,
           1960,
           1961,
           1961,
           1961,
           1961,
           1961,
           1961,
           1961,
           1961,
           1961,
           1961,
           1962,
           1962,
           1962,
           1962,
           1962,
           1962,
           1962,
           1962,
           1962,
           1962,
           1980,
           1980,
           1980,
           1980,
           1980,
           1980,
           1980,
           1980,
           1980,
           1980,
           1981,
           1981,
           1981,
           1981,
           1981,
           1981,
           1981,
           1981,
           1981,
           1981,
           1982,
           1982,
           1982,
           1982,
           1982,
           1982,
           1982,
           1982,
           1982,
           1982,
           1983,
           1983,
           1983,
           1983,
           1983,
           1983,
           1983,
           1983,
           1983,
           1983,
           1984,
           1984,
           1984,
           1984,
           1984,
           1984,
           1984,
           1984,
           1984,
           1984,
           2021,
           2021,
           2021,
           2021,
           2021,
           2021,
           2021,
           2021,
           2021,
           2021,
           2023,
           2023,
           2023,
           2023,
           2023,
           2023,
           2023,
           2023,
           2023,
           2023,
           2026,
           2026,
           2026,
           2026,
           2026,
           2026,
           2026,
           2026,
           2026,
           2026,
           2029,
           2029,
           2029,
           2029,
           2029,
           2029,
           2029,
           2029,
           2029,
           2029,
           2031,
           2031,
           2031,
           2031,
           2031,
           2031,
           2031,
           2031,
           2031,
           2031,
           2034,
           2034,
           2034,
           2034,
           2034,
           2034,
           2034,
           2034,
           2034,
           2034,
           2039,
           2039,
           2039,
           2039,
           2039,
           2039,
           2039,
           2039,
           2039,
           2039,
           2061,
           2061,
           2061,
           2061,
           2061,
           2061,
           2061,
           2061,
           2061,
           2061,
           2062,
           2062,
           2062,
           2062,
           2062,
           2062,
           2062,
           2062,
           2062,
           2062,
           2080,
           2080,
           2080,
           2080,
           2080,
           2080,
           2080,
           2080,
           2080,
           2080,
           2081,
           2081,
           2081,
           2081,
           2081,
           2081,
           2081,
           2081,
           2081,
           2081,
           2082,
           2082,
           2082,
           2082,
           2082,
           2082,
           2082,
           2082,
           2082,
           2082,
           2083,
           2083,
           2083,
           2083,
           2083,
           2083,
           2083,
           2083,
           2083,
           2083,
           2084,
           2084,
           2084,
           2084,
           2084,
           2084,
           2084,
           2084,
           2084,
           2084,
           2085,
           2085,
           2085,
           2085,
           2085,
           2085,
           2085,
           2085,
           2085,
           2085,
           2101,
           2101,
           2101,
           2101,
           2101,
           2101,
           2101,
           2101,
           2101,
           2101,
           2104,
           2104,
           2104,
           2104,
           2104,
           2104,
           2104,
           2104,
           2104,
           2104,
           2121,
           2121,
           2121,
           2121,
           2121,
           2121,
           2121,
           2121,
           2121,
           2121,
           2132,
           2132,
           2132,
           2132,
           2132,
           2132,
           2132,
           2132,
           2132,
           2132,
           2161,
           2161,
           2161,
           2161,
           2161,
           2161,
           2161,
           2161,
           2161,
           2161,
           2180,
           2180,
           2180,
           2180,
           2180,
           2180,
           2180,
           2180,
           2180,
           2180,
           2181,
           2181,
           2181,
           2181,
           2181,
           2181,
           2181,
           2181,
           2181,
           2181,
           2182,
           2182,
           2182,
           2182,
           2182,
           2182,
           2182,
           2182,
           2182,
           2182,
           2183,
           2183,
           2183,
           2183,
           2183,
           2183,
           2183,
           2183,
           2183,
           2183,
           2184,
           2184,
           2184,
           2184,
           2184,
           2184,
           2184,
           2184,
           2184,
           2184,
           2260,
           2260,
           2260,
           2260,
           2260,
           2260,
           2260,
           2260,
           2260,
           2260,
           2262,
           2262,
           2262,
           2262,
           2262,
           2262,
           2262,
           2262,
           2262,
           2262,
           2280,
           2280,
           2280,
           2280,
           2280,
           2280,
           2280,
           2280,
           2280,
           2280,
           2281,
           2281,
           2281,
           2281,
           2281,
           2281,
           2281,
           2281,
           2281,
           2281,
           2282,
           2282,
           2282,
           2282,
           2282,
           2282,
           2282,
           2282,
           2282,
           2282,
           2283,
           2283,
           2283,
           2283,
           2283,
           2283,
           2283,
           2283,
           2283,
           2283,
           2284,
           2284,
           2284,
           2284,
           2284,
           2284,
           2284,
           2284,
           2284,
           2284,
           2303,
           2303,
           2303,
           2303,
           2303,
           2303,
           2303,
           2303,
           2303,
           2303,
           2305,
           2305,
           2305,
           2305,
           2305,
           2305,
           2305,
           2305,
           2305,
           2305,
           2309,
           2309,
           2309,
           2309,
           2309,
           2309,
           2309,
           2309,
           2309,
           2309,
           2313,
           2313,
           2313,
           2313,
           2313,
           2313,
           2313,
           2313,
           2313,
           2313,
           2321,
           2321,
           2321,
           2321,
           2321,
           2321,
           2321,
           2321,
           2321,
           2321,
           2326,
           2326,
           2326,
           2326,
           2326,
           2326,
           2326,
           2326,
           2326,
           2326,
           2361,
           2361,
           2361,
           2361,
           2361,
           2361,
           2361,
           2361,
           2361,
           2361,
           2380,
           2380,
           2380,
           2380,
           2380,
           2380,
           2380,
           2380,
           2380,
           2380,
           2401,
           2401,
           2401,
           2401,
           2401,
           2401,
           2401,
           2401,
           2401,
           2401,
           2403,
           2403,
           2403,
           2403,
           2403,
           2403,
           2403,
           2403,
           2403,
           2403,
           2404,
           2404,
           2404,
           2404,
           2404,
           2404,
           2404,
           2404,
           2404,
           2404,
           2409,
           2409,
           2409,
           2409,
           2409,
           2409,
           2409,
           2409,
           2409,
           2409,
           2417,
           2417,
           2417,
           2417,
           2417,
           2417,
           2417,
           2417,
           2417,
           2417,
           2418,
           2418,
           2418,
           2418,
           2418,
           2418,
           2418,
           2418,
           2418,
           2418,
           2421,
           2421,
           2421,
           2421,
           2421,
           2421,
           2421,
           2421,
           2421,
           2421,
           2422,
           2422,
           2422,
           2422,
           2422,
           2422,
           2422,
           2422,
           2422,
           2422,
           2425,
           2425,
           2425,
           2425,
           2425,
           2425,
           2425,
           2425,
           2425,
           2425,
           2460,
           2460,
           2460,
           2460,
           2460,
           2460,
           2460,
           2460,
           2460,
           2460,
           2462,
           2462,
           2462,
           2462,
           2462,
           2462,
           2462,
           2462,
           2462,
           2462,
           2463,
           2463,
           2463,
           2463,
           2463,
           2463,
           2463,
           2463,
           2463,
           2463,
           2480,
           2480,
           2480,
           2480,
           2480,
           2480,
           2480,
           2480,
           2480,
           2480,
           2481,
           2481,
           2481,
           2481,
           2481,
           2481,
           2481,
           2481,
           2481,
           2481,
           2482,
           2482,
           2482,
           2482,
           2482,
           2482,
           2482,
           2482,
           2482,
           2482,
           2505,
           2505,
           2505,
           2505,
           2505,
           2505,
           2505,
           2505,
           2505,
           2505,
           2506,
           2506,
           2506,
           2506,
           2506,
           2506,
           2506,
           2506,
           2506,
           2506,
           2510,
           2510,
           2510,
           2510,
           2510,
           2510,
           2510,
           2510,
           2510,
           2510,
           2513,
           2513,
           2513,
           2513,
           2513,
           2513,
           2513,
           2513,
           2513,
           2513,
           2514,
           2514,
           2514,
           2514,
           2514,
           2514,
           2514,
           2514,
           2514,
           2514,
           2518,
           2518,
           2518,
           2518,
           2518,
           2518,
           2518,
           2518,
           2518,
           2518,
           2521,
           2521,
           2521,
           2521,
           2521,
           2521,
           2521,
           2521,
           2521,
           2521,
           2523,
           2523,
           2523,
           2523,
           2523,
           2523,
           2523,
           2523,
           2523,
           2523,
           2560,
           2560,
           2560,
           2560,
           2560,
           2560,
           2560,
           2560,
           2560,
           2560,
           2580,
           2580,
           2580,
           2580,
           2580,
           2580,
           2580,
           2580,
           2580,
           2580,
           2581,
           2581,
           2581,
           2581,
           2581,
           2581,
           2581,
           2581,
           2581,
           2581,
           2582,
           2582,
           2582,
           2582,
           2582,
           2582,
           2582,
           2582,
           2582,
           2582,
           2583,
           2583,
           2583,
           2583,
           2583,
           2583,
           2583,
           2583,
           2583,
           2583,
           2584,
           2584,
           2584,
           2584,
           2584,
           2584,
           2584,
           2584,
           2584,
           2584
          ],
          "coloraxis": "coloraxis",
          "pattern": {
           "shape": ""
          }
         },
         "name": "",
         "offsetgroup": "",
         "orientation": "v",
         "showlegend": false,
         "textposition": "auto",
         "type": "bar",
         "x": [
          "12-15",
          "16-17",
          "18-29",
          "30-39",
          "40-49",
          "50-59",
          "60-69",
          "70-79",
          "80-89",
          "90 eller äldre",
          "12-15",
          "16-17",
          "18-29",
          "30-39",
          "40-49",
          "50-59",
          "60-69",
          "70-79",
          "80-89",
          "90 eller äldre",
          "12-15",
          "16-17",
          "18-29",
          "30-39",
          "40-49",
          "50-59",
          "60-69",
          "70-79",
          "80-89",
          "90 eller äldre",
          "12-15",
          "16-17",
          "18-29",
          "30-39",
          "40-49",
          "50-59",
          "60-69",
          "70-79",
          "80-89",
          "90 eller äldre",
          "12-15",
          "16-17",
          "18-29",
          "30-39",
          "40-49",
          "50-59",
          "60-69",
          "70-79",
          "80-89",
          "90 eller äldre",
          "12-15",
          "16-17",
          "18-29",
          "30-39",
          "40-49",
          "50-59",
          "60-69",
          "70-79",
          "80-89",
          "90 eller äldre",
          "12-15",
          "16-17",
          "18-29",
          "30-39",
          "40-49",
          "50-59",
          "60-69",
          "70-79",
          "80-89",
          "90 eller äldre",
          "12-15",
          "16-17",
          "18-29",
          "30-39",
          "40-49",
          "50-59",
          "60-69",
          "70-79",
          "80-89",
          "90 eller äldre",
          "12-15",
          "16-17",
          "18-29",
          "30-39",
          "40-49",
          "50-59",
          "60-69",
          "70-79",
          "80-89",
          "90 eller äldre",
          "12-15",
          "16-17",
          "18-29",
          "30-39",
          "40-49",
          "50-59",
          "60-69",
          "70-79",
          "80-89",
          "90 eller äldre",
          "12-15",
          "16-17",
          "18-29",
          "30-39",
          "40-49",
          "50-59",
          "60-69",
          "70-79",
          "80-89",
          "90 eller äldre",
          "12-15",
          "16-17",
          "18-29",
          "30-39",
          "40-49",
          "50-59",
          "60-69",
          "70-79",
          "80-89",
          "90 eller äldre",
          "12-15",
          "16-17",
          "18-29",
          "30-39",
          "40-49",
          "50-59",
          "60-69",
          "70-79",
          "80-89",
          "90 eller äldre",
          "12-15",
          "16-17",
          "18-29",
          "30-39",
          "40-49",
          "50-59",
          "60-69",
          "70-79",
          "80-89",
          "90 eller äldre",
          "12-15",
          "16-17",
          "18-29",
          "30-39",
          "40-49",
          "50-59",
          "60-69",
          "70-79",
          "80-89",
          "90 eller äldre",
          "12-15",
          "16-17",
          "18-29",
          "30-39",
          "40-49",
          "50-59",
          "60-69",
          "70-79",
          "80-89",
          "90 eller äldre",
          "12-15",
          "16-17",
          "18-29",
          "30-39",
          "40-49",
          "50-59",
          "60-69",
          "70-79",
          "80-89",
          "90 eller äldre",
          "12-15",
          "16-17",
          "18-29",
          "30-39",
          "40-49",
          "50-59",
          "60-69",
          "70-79",
          "80-89",
          "90 eller äldre",
          "12-15",
          "16-17",
          "18-29",
          "30-39",
          "40-49",
          "50-59",
          "60-69",
          "70-79",
          "80-89",
          "90 eller äldre",
          "12-15",
          "16-17",
          "18-29",
          "30-39",
          "40-49",
          "50-59",
          "60-69",
          "70-79",
          "80-89",
          "90 eller äldre",
          "12-15",
          "16-17",
          "18-29",
          "30-39",
          "40-49",
          "50-59",
          "60-69",
          "70-79",
          "80-89",
          "90 eller äldre",
          "12-15",
          "16-17",
          "18-29",
          "30-39",
          "40-49",
          "50-59",
          "60-69",
          "70-79",
          "80-89",
          "90 eller äldre",
          "12-15",
          "16-17",
          "18-29",
          "30-39",
          "40-49",
          "50-59",
          "60-69",
          "70-79",
          "80-89",
          "90 eller äldre",
          "12-15",
          "16-17",
          "18-29",
          "30-39",
          "40-49",
          "50-59",
          "60-69",
          "70-79",
          "80-89",
          "90 eller äldre",
          "12-15",
          "16-17",
          "18-29",
          "30-39",
          "40-49",
          "50-59",
          "60-69",
          "70-79",
          "80-89",
          "90 eller äldre",
          "12-15",
          "16-17",
          "18-29",
          "30-39",
          "40-49",
          "50-59",
          "60-69",
          "70-79",
          "80-89",
          "90 eller äldre",
          "12-15",
          "16-17",
          "18-29",
          "30-39",
          "40-49",
          "50-59",
          "60-69",
          "70-79",
          "80-89",
          "90 eller äldre",
          "12-15",
          "16-17",
          "18-29",
          "30-39",
          "40-49",
          "50-59",
          "60-69",
          "70-79",
          "80-89",
          "90 eller äldre",
          "12-15",
          "16-17",
          "18-29",
          "30-39",
          "40-49",
          "50-59",
          "60-69",
          "70-79",
          "80-89",
          "90 eller äldre",
          "12-15",
          "16-17",
          "18-29",
          "30-39",
          "40-49",
          "50-59",
          "60-69",
          "70-79",
          "80-89",
          "90 eller äldre",
          "12-15",
          "16-17",
          "18-29",
          "30-39",
          "40-49",
          "50-59",
          "60-69",
          "70-79",
          "80-89",
          "90 eller äldre",
          "12-15",
          "16-17",
          "18-29",
          "30-39",
          "40-49",
          "50-59",
          "60-69",
          "70-79",
          "80-89",
          "90 eller äldre",
          "12-15",
          "16-17",
          "18-29",
          "30-39",
          "40-49",
          "50-59",
          "60-69",
          "70-79",
          "80-89",
          "90 eller äldre",
          "12-15",
          "16-17",
          "18-29",
          "30-39",
          "40-49",
          "50-59",
          "60-69",
          "70-79",
          "80-89",
          "90 eller äldre",
          "12-15",
          "16-17",
          "18-29",
          "30-39",
          "40-49",
          "50-59",
          "60-69",
          "70-79",
          "80-89",
          "90 eller äldre",
          "12-15",
          "16-17",
          "18-29",
          "30-39",
          "40-49",
          "50-59",
          "60-69",
          "70-79",
          "80-89",
          "90 eller äldre",
          "12-15",
          "16-17",
          "18-29",
          "30-39",
          "40-49",
          "50-59",
          "60-69",
          "70-79",
          "80-89",
          "90 eller äldre",
          "12-15",
          "16-17",
          "18-29",
          "30-39",
          "40-49",
          "50-59",
          "60-69",
          "70-79",
          "80-89",
          "90 eller äldre",
          "12-15",
          "16-17",
          "18-29",
          "30-39",
          "40-49",
          "50-59",
          "60-69",
          "70-79",
          "80-89",
          "90 eller äldre",
          "12-15",
          "16-17",
          "18-29",
          "30-39",
          "40-49",
          "50-59",
          "60-69",
          "70-79",
          "80-89",
          "90 eller äldre",
          "12-15",
          "16-17",
          "18-29",
          "30-39",
          "40-49",
          "50-59",
          "60-69",
          "70-79",
          "80-89",
          "90 eller äldre",
          "12-15",
          "16-17",
          "18-29",
          "30-39",
          "40-49",
          "50-59",
          "60-69",
          "70-79",
          "80-89",
          "90 eller äldre",
          "12-15",
          "16-17",
          "18-29",
          "30-39",
          "40-49",
          "50-59",
          "60-69",
          "70-79",
          "80-89",
          "90 eller äldre",
          "12-15",
          "16-17",
          "18-29",
          "30-39",
          "40-49",
          "50-59",
          "60-69",
          "70-79",
          "80-89",
          "90 eller äldre",
          "12-15",
          "16-17",
          "18-29",
          "30-39",
          "40-49",
          "50-59",
          "60-69",
          "70-79",
          "80-89",
          "90 eller äldre",
          "12-15",
          "16-17",
          "18-29",
          "30-39",
          "40-49",
          "50-59",
          "60-69",
          "70-79",
          "80-89",
          "90 eller äldre",
          "12-15",
          "16-17",
          "18-29",
          "30-39",
          "40-49",
          "50-59",
          "60-69",
          "70-79",
          "80-89",
          "90 eller äldre",
          "12-15",
          "16-17",
          "18-29",
          "30-39",
          "40-49",
          "50-59",
          "60-69",
          "70-79",
          "80-89",
          "90 eller äldre",
          "12-15",
          "16-17",
          "18-29",
          "30-39",
          "40-49",
          "50-59",
          "60-69",
          "70-79",
          "80-89",
          "90 eller äldre",
          "12-15",
          "16-17",
          "18-29",
          "30-39",
          "40-49",
          "50-59",
          "60-69",
          "70-79",
          "80-89",
          "90 eller äldre",
          "12-15",
          "16-17",
          "18-29",
          "30-39",
          "40-49",
          "50-59",
          "60-69",
          "70-79",
          "80-89",
          "90 eller äldre",
          "12-15",
          "16-17",
          "18-29",
          "30-39",
          "40-49",
          "50-59",
          "60-69",
          "70-79",
          "80-89",
          "90 eller äldre",
          "12-15",
          "16-17",
          "18-29",
          "30-39",
          "40-49",
          "50-59",
          "60-69",
          "70-79",
          "80-89",
          "90 eller äldre",
          "12-15",
          "16-17",
          "18-29",
          "30-39",
          "40-49",
          "50-59",
          "60-69",
          "70-79",
          "80-89",
          "90 eller äldre",
          "12-15",
          "16-17",
          "18-29",
          "30-39",
          "40-49",
          "50-59",
          "60-69",
          "70-79",
          "80-89",
          "90 eller äldre",
          "12-15",
          "16-17",
          "18-29",
          "30-39",
          "40-49",
          "50-59",
          "60-69",
          "70-79",
          "80-89",
          "90 eller äldre",
          "12-15",
          "16-17",
          "18-29",
          "30-39",
          "40-49",
          "50-59",
          "60-69",
          "70-79",
          "80-89",
          "90 eller äldre",
          "12-15",
          "16-17",
          "18-29",
          "30-39",
          "40-49",
          "50-59",
          "60-69",
          "70-79",
          "80-89",
          "90 eller äldre",
          "12-15",
          "16-17",
          "18-29",
          "30-39",
          "40-49",
          "50-59",
          "60-69",
          "70-79",
          "80-89",
          "90 eller äldre",
          "12-15",
          "16-17",
          "18-29",
          "30-39",
          "40-49",
          "50-59",
          "60-69",
          "70-79",
          "80-89",
          "90 eller äldre",
          "12-15",
          "16-17",
          "18-29",
          "30-39",
          "40-49",
          "50-59",
          "60-69",
          "70-79",
          "80-89",
          "90 eller äldre",
          "12-15",
          "16-17",
          "18-29",
          "30-39",
          "40-49",
          "50-59",
          "60-69",
          "70-79",
          "80-89",
          "90 eller äldre",
          "12-15",
          "16-17",
          "18-29",
          "30-39",
          "40-49",
          "50-59",
          "60-69",
          "70-79",
          "80-89",
          "90 eller äldre",
          "12-15",
          "16-17",
          "18-29",
          "30-39",
          "40-49",
          "50-59",
          "60-69",
          "70-79",
          "80-89",
          "90 eller äldre",
          "12-15",
          "16-17",
          "18-29",
          "30-39",
          "40-49",
          "50-59",
          "60-69",
          "70-79",
          "80-89",
          "90 eller äldre",
          "12-15",
          "16-17",
          "18-29",
          "30-39",
          "40-49",
          "50-59",
          "60-69",
          "70-79",
          "80-89",
          "90 eller äldre",
          "12-15",
          "16-17",
          "18-29",
          "30-39",
          "40-49",
          "50-59",
          "60-69",
          "70-79",
          "80-89",
          "90 eller äldre",
          "12-15",
          "16-17",
          "18-29",
          "30-39",
          "40-49",
          "50-59",
          "60-69",
          "70-79",
          "80-89",
          "90 eller äldre",
          "12-15",
          "16-17",
          "18-29",
          "30-39",
          "40-49",
          "50-59",
          "60-69",
          "70-79",
          "80-89",
          "90 eller äldre",
          "12-15",
          "16-17",
          "18-29",
          "30-39",
          "40-49",
          "50-59",
          "60-69",
          "70-79",
          "80-89",
          "90 eller äldre",
          "12-15",
          "16-17",
          "18-29",
          "30-39",
          "40-49",
          "50-59",
          "60-69",
          "70-79",
          "80-89",
          "90 eller äldre",
          "12-15",
          "16-17",
          "18-29",
          "30-39",
          "40-49",
          "50-59",
          "60-69",
          "70-79",
          "80-89",
          "90 eller äldre",
          "12-15",
          "16-17",
          "18-29",
          "30-39",
          "40-49",
          "50-59",
          "60-69",
          "70-79",
          "80-89",
          "90 eller äldre",
          "12-15",
          "16-17",
          "18-29",
          "30-39",
          "40-49",
          "50-59",
          "60-69",
          "70-79",
          "80-89",
          "90 eller äldre",
          "12-15",
          "16-17",
          "18-29",
          "30-39",
          "40-49",
          "50-59",
          "60-69",
          "70-79",
          "80-89",
          "90 eller äldre",
          "12-15",
          "16-17",
          "18-29",
          "30-39",
          "40-49",
          "50-59",
          "60-69",
          "70-79",
          "80-89",
          "90 eller äldre",
          "12-15",
          "16-17",
          "18-29",
          "30-39",
          "40-49",
          "50-59",
          "60-69",
          "70-79",
          "80-89",
          "90 eller äldre",
          "12-15",
          "16-17",
          "18-29",
          "30-39",
          "40-49",
          "50-59",
          "60-69",
          "70-79",
          "80-89",
          "90 eller äldre",
          "12-15",
          "16-17",
          "18-29",
          "30-39",
          "40-49",
          "50-59",
          "60-69",
          "70-79",
          "80-89",
          "90 eller äldre",
          "12-15",
          "16-17",
          "18-29",
          "30-39",
          "40-49",
          "50-59",
          "60-69",
          "70-79",
          "80-89",
          "90 eller äldre",
          "12-15",
          "16-17",
          "18-29",
          "30-39",
          "40-49",
          "50-59",
          "60-69",
          "70-79",
          "80-89",
          "90 eller äldre",
          "12-15",
          "16-17",
          "18-29",
          "30-39",
          "40-49",
          "50-59",
          "60-69",
          "70-79",
          "80-89",
          "90 eller äldre",
          "12-15",
          "16-17",
          "18-29",
          "30-39",
          "40-49",
          "50-59",
          "60-69",
          "70-79",
          "80-89",
          "90 eller äldre",
          "12-15",
          "16-17",
          "18-29",
          "30-39",
          "40-49",
          "50-59",
          "60-69",
          "70-79",
          "80-89",
          "90 eller äldre",
          "12-15",
          "16-17",
          "18-29",
          "30-39",
          "40-49",
          "50-59",
          "60-69",
          "70-79",
          "80-89",
          "90 eller äldre",
          "12-15",
          "16-17",
          "18-29",
          "30-39",
          "40-49",
          "50-59",
          "60-69",
          "70-79",
          "80-89",
          "90 eller äldre",
          "12-15",
          "16-17",
          "18-29",
          "30-39",
          "40-49",
          "50-59",
          "60-69",
          "70-79",
          "80-89",
          "90 eller äldre",
          "12-15",
          "16-17",
          "18-29",
          "30-39",
          "40-49",
          "50-59",
          "60-69",
          "70-79",
          "80-89",
          "90 eller äldre",
          "12-15",
          "16-17",
          "18-29",
          "30-39",
          "40-49",
          "50-59",
          "60-69",
          "70-79",
          "80-89",
          "90 eller äldre",
          "12-15",
          "16-17",
          "18-29",
          "30-39",
          "40-49",
          "50-59",
          "60-69",
          "70-79",
          "80-89",
          "90 eller äldre",
          "12-15",
          "16-17",
          "18-29",
          "30-39",
          "40-49",
          "50-59",
          "60-69",
          "70-79",
          "80-89",
          "90 eller äldre",
          "12-15",
          "16-17",
          "18-29",
          "30-39",
          "40-49",
          "50-59",
          "60-69",
          "70-79",
          "80-89",
          "90 eller äldre",
          "12-15",
          "16-17",
          "18-29",
          "30-39",
          "40-49",
          "50-59",
          "60-69",
          "70-79",
          "80-89",
          "90 eller äldre",
          "12-15",
          "16-17",
          "18-29",
          "30-39",
          "40-49",
          "50-59",
          "60-69",
          "70-79",
          "80-89",
          "90 eller äldre",
          "12-15",
          "16-17",
          "18-29",
          "30-39",
          "40-49",
          "50-59",
          "60-69",
          "70-79",
          "80-89",
          "90 eller äldre",
          "12-15",
          "16-17",
          "18-29",
          "30-39",
          "40-49",
          "50-59",
          "60-69",
          "70-79",
          "80-89",
          "90 eller äldre",
          "12-15",
          "16-17",
          "18-29",
          "30-39",
          "40-49",
          "50-59",
          "60-69",
          "70-79",
          "80-89",
          "90 eller äldre",
          "12-15",
          "16-17",
          "18-29",
          "30-39",
          "40-49",
          "50-59",
          "60-69",
          "70-79",
          "80-89",
          "90 eller äldre",
          "12-15",
          "16-17",
          "18-29",
          "30-39",
          "40-49",
          "50-59",
          "60-69",
          "70-79",
          "80-89",
          "90 eller äldre",
          "12-15",
          "16-17",
          "18-29",
          "30-39",
          "40-49",
          "50-59",
          "60-69",
          "70-79",
          "80-89",
          "90 eller äldre",
          "12-15",
          "16-17",
          "18-29",
          "30-39",
          "40-49",
          "50-59",
          "60-69",
          "70-79",
          "80-89",
          "90 eller äldre",
          "12-15",
          "16-17",
          "18-29",
          "30-39",
          "40-49",
          "50-59",
          "60-69",
          "70-79",
          "80-89",
          "90 eller äldre",
          "12-15",
          "16-17",
          "18-29",
          "30-39",
          "40-49",
          "50-59",
          "60-69",
          "70-79",
          "80-89",
          "90 eller äldre",
          "12-15",
          "16-17",
          "18-29",
          "30-39",
          "40-49",
          "50-59",
          "60-69",
          "70-79",
          "80-89",
          "90 eller äldre",
          "12-15",
          "16-17",
          "18-29",
          "30-39",
          "40-49",
          "50-59",
          "60-69",
          "70-79",
          "80-89",
          "90 eller äldre",
          "12-15",
          "16-17",
          "18-29",
          "30-39",
          "40-49",
          "50-59",
          "60-69",
          "70-79",
          "80-89",
          "90 eller äldre",
          "12-15",
          "16-17",
          "18-29",
          "30-39",
          "40-49",
          "50-59",
          "60-69",
          "70-79",
          "80-89",
          "90 eller äldre",
          "12-15",
          "16-17",
          "18-29",
          "30-39",
          "40-49",
          "50-59",
          "60-69",
          "70-79",
          "80-89",
          "90 eller äldre",
          "12-15",
          "16-17",
          "18-29",
          "30-39",
          "40-49",
          "50-59",
          "60-69",
          "70-79",
          "80-89",
          "90 eller äldre",
          "12-15",
          "16-17",
          "18-29",
          "30-39",
          "40-49",
          "50-59",
          "60-69",
          "70-79",
          "80-89",
          "90 eller äldre",
          "12-15",
          "16-17",
          "18-29",
          "30-39",
          "40-49",
          "50-59",
          "60-69",
          "70-79",
          "80-89",
          "90 eller äldre",
          "12-15",
          "16-17",
          "18-29",
          "30-39",
          "40-49",
          "50-59",
          "60-69",
          "70-79",
          "80-89",
          "90 eller äldre",
          "12-15",
          "16-17",
          "18-29",
          "30-39",
          "40-49",
          "50-59",
          "60-69",
          "70-79",
          "80-89",
          "90 eller äldre",
          "12-15",
          "16-17",
          "18-29",
          "30-39",
          "40-49",
          "50-59",
          "60-69",
          "70-79",
          "80-89",
          "90 eller äldre",
          "12-15",
          "16-17",
          "18-29",
          "30-39",
          "40-49",
          "50-59",
          "60-69",
          "70-79",
          "80-89",
          "90 eller äldre",
          "12-15",
          "16-17",
          "18-29",
          "30-39",
          "40-49",
          "50-59",
          "60-69",
          "70-79",
          "80-89",
          "90 eller äldre",
          "12-15",
          "16-17",
          "18-29",
          "30-39",
          "40-49",
          "50-59",
          "60-69",
          "70-79",
          "80-89",
          "90 eller äldre",
          "12-15",
          "16-17",
          "18-29",
          "30-39",
          "40-49",
          "50-59",
          "60-69",
          "70-79",
          "80-89",
          "90 eller äldre",
          "12-15",
          "16-17",
          "18-29",
          "30-39",
          "40-49",
          "50-59",
          "60-69",
          "70-79",
          "80-89",
          "90 eller äldre",
          "12-15",
          "16-17",
          "18-29",
          "30-39",
          "40-49",
          "50-59",
          "60-69",
          "70-79",
          "80-89",
          "90 eller äldre",
          "12-15",
          "16-17",
          "18-29",
          "30-39",
          "40-49",
          "50-59",
          "60-69",
          "70-79",
          "80-89",
          "90 eller äldre",
          "12-15",
          "16-17",
          "18-29",
          "30-39",
          "40-49",
          "50-59",
          "60-69",
          "70-79",
          "80-89",
          "90 eller äldre",
          "12-15",
          "16-17",
          "18-29",
          "30-39",
          "40-49",
          "50-59",
          "60-69",
          "70-79",
          "80-89",
          "90 eller äldre",
          "12-15",
          "16-17",
          "18-29",
          "30-39",
          "40-49",
          "50-59",
          "60-69",
          "70-79",
          "80-89",
          "90 eller äldre",
          "12-15",
          "16-17",
          "18-29",
          "30-39",
          "40-49",
          "50-59",
          "60-69",
          "70-79",
          "80-89",
          "90 eller äldre",
          "12-15",
          "16-17",
          "18-29",
          "30-39",
          "40-49",
          "50-59",
          "60-69",
          "70-79",
          "80-89",
          "90 eller äldre",
          "12-15",
          "16-17",
          "18-29",
          "30-39",
          "40-49",
          "50-59",
          "60-69",
          "70-79",
          "80-89",
          "90 eller äldre",
          "12-15",
          "16-17",
          "18-29",
          "30-39",
          "40-49",
          "50-59",
          "60-69",
          "70-79",
          "80-89",
          "90 eller äldre",
          "12-15",
          "16-17",
          "18-29",
          "30-39",
          "40-49",
          "50-59",
          "60-69",
          "70-79",
          "80-89",
          "90 eller äldre",
          "12-15",
          "16-17",
          "18-29",
          "30-39",
          "40-49",
          "50-59",
          "60-69",
          "70-79",
          "80-89",
          "90 eller äldre",
          "12-15",
          "16-17",
          "18-29",
          "30-39",
          "40-49",
          "50-59",
          "60-69",
          "70-79",
          "80-89",
          "90 eller äldre",
          "12-15",
          "16-17",
          "18-29",
          "30-39",
          "40-49",
          "50-59",
          "60-69",
          "70-79",
          "80-89",
          "90 eller äldre",
          "12-15",
          "16-17",
          "18-29",
          "30-39",
          "40-49",
          "50-59",
          "60-69",
          "70-79",
          "80-89",
          "90 eller äldre",
          "12-15",
          "16-17",
          "18-29",
          "30-39",
          "40-49",
          "50-59",
          "60-69",
          "70-79",
          "80-89",
          "90 eller äldre",
          "12-15",
          "16-17",
          "18-29",
          "30-39",
          "40-49",
          "50-59",
          "60-69",
          "70-79",
          "80-89",
          "90 eller äldre",
          "12-15",
          "16-17",
          "18-29",
          "30-39",
          "40-49",
          "50-59",
          "60-69",
          "70-79",
          "80-89",
          "90 eller äldre",
          "12-15",
          "16-17",
          "18-29",
          "30-39",
          "40-49",
          "50-59",
          "60-69",
          "70-79",
          "80-89",
          "90 eller äldre",
          "12-15",
          "16-17",
          "18-29",
          "30-39",
          "40-49",
          "50-59",
          "60-69",
          "70-79",
          "80-89",
          "90 eller äldre",
          "12-15",
          "16-17",
          "18-29",
          "30-39",
          "40-49",
          "50-59",
          "60-69",
          "70-79",
          "80-89",
          "90 eller äldre",
          "12-15",
          "16-17",
          "18-29",
          "30-39",
          "40-49",
          "50-59",
          "60-69",
          "70-79",
          "80-89",
          "90 eller äldre",
          "12-15",
          "16-17",
          "18-29",
          "30-39",
          "40-49",
          "50-59",
          "60-69",
          "70-79",
          "80-89",
          "90 eller äldre",
          "12-15",
          "16-17",
          "18-29",
          "30-39",
          "40-49",
          "50-59",
          "60-69",
          "70-79",
          "80-89",
          "90 eller äldre",
          "12-15",
          "16-17",
          "18-29",
          "30-39",
          "40-49",
          "50-59",
          "60-69",
          "70-79",
          "80-89",
          "90 eller äldre",
          "12-15",
          "16-17",
          "18-29",
          "30-39",
          "40-49",
          "50-59",
          "60-69",
          "70-79",
          "80-89",
          "90 eller äldre",
          "12-15",
          "16-17",
          "18-29",
          "30-39",
          "40-49",
          "50-59",
          "60-69",
          "70-79",
          "80-89",
          "90 eller äldre",
          "12-15",
          "16-17",
          "18-29",
          "30-39",
          "40-49",
          "50-59",
          "60-69",
          "70-79",
          "80-89",
          "90 eller äldre",
          "12-15",
          "16-17",
          "18-29",
          "30-39",
          "40-49",
          "50-59",
          "60-69",
          "70-79",
          "80-89",
          "90 eller äldre",
          "12-15",
          "16-17",
          "18-29",
          "30-39",
          "40-49",
          "50-59",
          "60-69",
          "70-79",
          "80-89",
          "90 eller äldre",
          "12-15",
          "16-17",
          "18-29",
          "30-39",
          "40-49",
          "50-59",
          "60-69",
          "70-79",
          "80-89",
          "90 eller äldre",
          "12-15",
          "16-17",
          "18-29",
          "30-39",
          "40-49",
          "50-59",
          "60-69",
          "70-79",
          "80-89",
          "90 eller äldre",
          "12-15",
          "16-17",
          "18-29",
          "30-39",
          "40-49",
          "50-59",
          "60-69",
          "70-79",
          "80-89",
          "90 eller äldre",
          "12-15",
          "16-17",
          "18-29",
          "30-39",
          "40-49",
          "50-59",
          "60-69",
          "70-79",
          "80-89",
          "90 eller äldre",
          "12-15",
          "16-17",
          "18-29",
          "30-39",
          "40-49",
          "50-59",
          "60-69",
          "70-79",
          "80-89",
          "90 eller äldre",
          "12-15",
          "16-17",
          "18-29",
          "30-39",
          "40-49",
          "50-59",
          "60-69",
          "70-79",
          "80-89",
          "90 eller äldre",
          "12-15",
          "16-17",
          "18-29",
          "30-39",
          "40-49",
          "50-59",
          "60-69",
          "70-79",
          "80-89",
          "90 eller äldre",
          "12-15",
          "16-17",
          "18-29",
          "30-39",
          "40-49",
          "50-59",
          "60-69",
          "70-79",
          "80-89",
          "90 eller äldre",
          "12-15",
          "16-17",
          "18-29",
          "30-39",
          "40-49",
          "50-59",
          "60-69",
          "70-79",
          "80-89",
          "90 eller äldre",
          "12-15",
          "16-17",
          "18-29",
          "30-39",
          "40-49",
          "50-59",
          "60-69",
          "70-79",
          "80-89",
          "90 eller äldre",
          "12-15",
          "16-17",
          "18-29",
          "30-39",
          "40-49",
          "50-59",
          "60-69",
          "70-79",
          "80-89",
          "90 eller äldre",
          "12-15",
          "16-17",
          "18-29",
          "30-39",
          "40-49",
          "50-59",
          "60-69",
          "70-79",
          "80-89",
          "90 eller äldre",
          "12-15",
          "16-17",
          "18-29",
          "30-39",
          "40-49",
          "50-59",
          "60-69",
          "70-79",
          "80-89",
          "90 eller äldre",
          "12-15",
          "16-17",
          "18-29",
          "30-39",
          "40-49",
          "50-59",
          "60-69",
          "70-79",
          "80-89",
          "90 eller äldre",
          "12-15",
          "16-17",
          "18-29",
          "30-39",
          "40-49",
          "50-59",
          "60-69",
          "70-79",
          "80-89",
          "90 eller äldre",
          "12-15",
          "16-17",
          "18-29",
          "30-39",
          "40-49",
          "50-59",
          "60-69",
          "70-79",
          "80-89",
          "90 eller äldre",
          "12-15",
          "16-17",
          "18-29",
          "30-39",
          "40-49",
          "50-59",
          "60-69",
          "70-79",
          "80-89",
          "90 eller äldre",
          "12-15",
          "16-17",
          "18-29",
          "30-39",
          "40-49",
          "50-59",
          "60-69",
          "70-79",
          "80-89",
          "90 eller äldre",
          "12-15",
          "16-17",
          "18-29",
          "30-39",
          "40-49",
          "50-59",
          "60-69",
          "70-79",
          "80-89",
          "90 eller äldre",
          "12-15",
          "16-17",
          "18-29",
          "30-39",
          "40-49",
          "50-59",
          "60-69",
          "70-79",
          "80-89",
          "90 eller äldre",
          "12-15",
          "16-17",
          "18-29",
          "30-39",
          "40-49",
          "50-59",
          "60-69",
          "70-79",
          "80-89",
          "90 eller äldre",
          "12-15",
          "16-17",
          "18-29",
          "30-39",
          "40-49",
          "50-59",
          "60-69",
          "70-79",
          "80-89",
          "90 eller äldre",
          "12-15",
          "16-17",
          "18-29",
          "30-39",
          "40-49",
          "50-59",
          "60-69",
          "70-79",
          "80-89",
          "90 eller äldre",
          "12-15",
          "16-17",
          "18-29",
          "30-39",
          "40-49",
          "50-59",
          "60-69",
          "70-79",
          "80-89",
          "90 eller äldre",
          "12-15",
          "16-17",
          "18-29",
          "30-39",
          "40-49",
          "50-59",
          "60-69",
          "70-79",
          "80-89",
          "90 eller äldre",
          "12-15",
          "16-17",
          "18-29",
          "30-39",
          "40-49",
          "50-59",
          "60-69",
          "70-79",
          "80-89",
          "90 eller äldre",
          "12-15",
          "16-17",
          "18-29",
          "30-39",
          "40-49",
          "50-59",
          "60-69",
          "70-79",
          "80-89",
          "90 eller äldre",
          "12-15",
          "16-17",
          "18-29",
          "30-39",
          "40-49",
          "50-59",
          "60-69",
          "70-79",
          "80-89",
          "90 eller äldre",
          "12-15",
          "16-17",
          "18-29",
          "30-39",
          "40-49",
          "50-59",
          "60-69",
          "70-79",
          "80-89",
          "90 eller äldre",
          "12-15",
          "16-17",
          "18-29",
          "30-39",
          "40-49",
          "50-59",
          "60-69",
          "70-79",
          "80-89",
          "90 eller äldre",
          "12-15",
          "16-17",
          "18-29",
          "30-39",
          "40-49",
          "50-59",
          "60-69",
          "70-79",
          "80-89",
          "90 eller äldre",
          "12-15",
          "16-17",
          "18-29",
          "30-39",
          "40-49",
          "50-59",
          "60-69",
          "70-79",
          "80-89",
          "90 eller äldre",
          "12-15",
          "16-17",
          "18-29",
          "30-39",
          "40-49",
          "50-59",
          "60-69",
          "70-79",
          "80-89",
          "90 eller äldre",
          "12-15",
          "16-17",
          "18-29",
          "30-39",
          "40-49",
          "50-59",
          "60-69",
          "70-79",
          "80-89",
          "90 eller äldre",
          "12-15",
          "16-17",
          "18-29",
          "30-39",
          "40-49",
          "50-59",
          "60-69",
          "70-79",
          "80-89",
          "90 eller äldre",
          "12-15",
          "16-17",
          "18-29",
          "30-39",
          "40-49",
          "50-59",
          "60-69",
          "70-79",
          "80-89",
          "90 eller äldre",
          "12-15",
          "16-17",
          "18-29",
          "30-39",
          "40-49",
          "50-59",
          "60-69",
          "70-79",
          "80-89",
          "90 eller äldre",
          "12-15",
          "16-17",
          "18-29",
          "30-39",
          "40-49",
          "50-59",
          "60-69",
          "70-79",
          "80-89",
          "90 eller äldre",
          "12-15",
          "16-17",
          "18-29",
          "30-39",
          "40-49",
          "50-59",
          "60-69",
          "70-79",
          "80-89",
          "90 eller äldre",
          "12-15",
          "16-17",
          "18-29",
          "30-39",
          "40-49",
          "50-59",
          "60-69",
          "70-79",
          "80-89",
          "90 eller äldre",
          "12-15",
          "16-17",
          "18-29",
          "30-39",
          "40-49",
          "50-59",
          "60-69",
          "70-79",
          "80-89",
          "90 eller äldre",
          "12-15",
          "16-17",
          "18-29",
          "30-39",
          "40-49",
          "50-59",
          "60-69",
          "70-79",
          "80-89",
          "90 eller äldre",
          "12-15",
          "16-17",
          "18-29",
          "30-39",
          "40-49",
          "50-59",
          "60-69",
          "70-79",
          "80-89",
          "90 eller äldre",
          "12-15",
          "16-17",
          "18-29",
          "30-39",
          "40-49",
          "50-59",
          "60-69",
          "70-79",
          "80-89",
          "90 eller äldre",
          "12-15",
          "16-17",
          "18-29",
          "30-39",
          "40-49",
          "50-59",
          "60-69",
          "70-79",
          "80-89",
          "90 eller äldre",
          "12-15",
          "16-17",
          "18-29",
          "30-39",
          "40-49",
          "50-59",
          "60-69",
          "70-79",
          "80-89",
          "90 eller äldre",
          "12-15",
          "16-17",
          "18-29",
          "30-39",
          "40-49",
          "50-59",
          "60-69",
          "70-79",
          "80-89",
          "90 eller äldre",
          "12-15",
          "16-17",
          "18-29",
          "30-39",
          "40-49",
          "50-59",
          "60-69",
          "70-79",
          "80-89",
          "90 eller äldre",
          "12-15",
          "16-17",
          "18-29",
          "30-39",
          "40-49",
          "50-59",
          "60-69",
          "70-79",
          "80-89",
          "90 eller äldre",
          "12-15",
          "16-17",
          "18-29",
          "30-39",
          "40-49",
          "50-59",
          "60-69",
          "70-79",
          "80-89",
          "90 eller äldre",
          "12-15",
          "16-17",
          "18-29",
          "30-39",
          "40-49",
          "50-59",
          "60-69",
          "70-79",
          "80-89",
          "90 eller äldre",
          "12-15",
          "16-17",
          "18-29",
          "30-39",
          "40-49",
          "50-59",
          "60-69",
          "70-79",
          "80-89",
          "90 eller äldre",
          "12-15",
          "16-17",
          "18-29",
          "30-39",
          "40-49",
          "50-59",
          "60-69",
          "70-79",
          "80-89",
          "90 eller äldre",
          "12-15",
          "16-17",
          "18-29",
          "30-39",
          "40-49",
          "50-59",
          "60-69",
          "70-79",
          "80-89",
          "90 eller äldre",
          "12-15",
          "16-17",
          "18-29",
          "30-39",
          "40-49",
          "50-59",
          "60-69",
          "70-79",
          "80-89",
          "90 eller äldre",
          "12-15",
          "16-17",
          "18-29",
          "30-39",
          "40-49",
          "50-59",
          "60-69",
          "70-79",
          "80-89",
          "90 eller äldre",
          "12-15",
          "16-17",
          "18-29",
          "30-39",
          "40-49",
          "50-59",
          "60-69",
          "70-79",
          "80-89",
          "90 eller äldre",
          "12-15",
          "16-17",
          "18-29",
          "30-39",
          "40-49",
          "50-59",
          "60-69",
          "70-79",
          "80-89",
          "90 eller äldre",
          "12-15",
          "16-17",
          "18-29",
          "30-39",
          "40-49",
          "50-59",
          "60-69",
          "70-79",
          "80-89",
          "90 eller äldre",
          "12-15",
          "16-17",
          "18-29",
          "30-39",
          "40-49",
          "50-59",
          "60-69",
          "70-79",
          "80-89",
          "90 eller äldre",
          "12-15",
          "16-17",
          "18-29",
          "30-39",
          "40-49",
          "50-59",
          "60-69",
          "70-79",
          "80-89",
          "90 eller äldre",
          "12-15",
          "16-17",
          "18-29",
          "30-39",
          "40-49",
          "50-59",
          "60-69",
          "70-79",
          "80-89",
          "90 eller äldre",
          "12-15",
          "16-17",
          "18-29",
          "30-39",
          "40-49",
          "50-59",
          "60-69",
          "70-79",
          "80-89",
          "90 eller äldre",
          "12-15",
          "16-17",
          "18-29",
          "30-39",
          "40-49",
          "50-59",
          "60-69",
          "70-79",
          "80-89",
          "90 eller äldre",
          "12-15",
          "16-17",
          "18-29",
          "30-39",
          "40-49",
          "50-59",
          "60-69",
          "70-79",
          "80-89",
          "90 eller äldre",
          "12-15",
          "16-17",
          "18-29",
          "30-39",
          "40-49",
          "50-59",
          "60-69",
          "70-79",
          "80-89",
          "90 eller äldre",
          "12-15",
          "16-17",
          "18-29",
          "30-39",
          "40-49",
          "50-59",
          "60-69",
          "70-79",
          "80-89",
          "90 eller äldre",
          "12-15",
          "16-17",
          "18-29",
          "30-39",
          "40-49",
          "50-59",
          "60-69",
          "70-79",
          "80-89",
          "90 eller äldre",
          "12-15",
          "16-17",
          "18-29",
          "30-39",
          "40-49",
          "50-59",
          "60-69",
          "70-79",
          "80-89",
          "90 eller äldre",
          "12-15",
          "16-17",
          "18-29",
          "30-39",
          "40-49",
          "50-59",
          "60-69",
          "70-79",
          "80-89",
          "90 eller äldre",
          "12-15",
          "16-17",
          "18-29",
          "30-39",
          "40-49",
          "50-59",
          "60-69",
          "70-79",
          "80-89",
          "90 eller äldre",
          "12-15",
          "16-17",
          "18-29",
          "30-39",
          "40-49",
          "50-59",
          "60-69",
          "70-79",
          "80-89",
          "90 eller äldre",
          "12-15",
          "16-17",
          "18-29",
          "30-39",
          "40-49",
          "50-59",
          "60-69",
          "70-79",
          "80-89",
          "90 eller äldre",
          "12-15",
          "16-17",
          "18-29",
          "30-39",
          "40-49",
          "50-59",
          "60-69",
          "70-79",
          "80-89",
          "90 eller äldre",
          "12-15",
          "16-17",
          "18-29",
          "30-39",
          "40-49",
          "50-59",
          "60-69",
          "70-79",
          "80-89",
          "90 eller äldre",
          "12-15",
          "16-17",
          "18-29",
          "30-39",
          "40-49",
          "50-59",
          "60-69",
          "70-79",
          "80-89",
          "90 eller äldre",
          "12-15",
          "16-17",
          "18-29",
          "30-39",
          "40-49",
          "50-59",
          "60-69",
          "70-79",
          "80-89",
          "90 eller äldre",
          "12-15",
          "16-17",
          "18-29",
          "30-39",
          "40-49",
          "50-59",
          "60-69",
          "70-79",
          "80-89",
          "90 eller äldre",
          "12-15",
          "16-17",
          "18-29",
          "30-39",
          "40-49",
          "50-59",
          "60-69",
          "70-79",
          "80-89",
          "90 eller äldre",
          "12-15",
          "16-17",
          "18-29",
          "30-39",
          "40-49",
          "50-59",
          "60-69",
          "70-79",
          "80-89",
          "90 eller äldre",
          "12-15",
          "16-17",
          "18-29",
          "30-39",
          "40-49",
          "50-59",
          "60-69",
          "70-79",
          "80-89",
          "90 eller äldre",
          "12-15",
          "16-17",
          "18-29",
          "30-39",
          "40-49",
          "50-59",
          "60-69",
          "70-79",
          "80-89",
          "90 eller äldre",
          "12-15",
          "16-17",
          "18-29",
          "30-39",
          "40-49",
          "50-59",
          "60-69",
          "70-79",
          "80-89",
          "90 eller äldre",
          "12-15",
          "16-17",
          "18-29",
          "30-39",
          "40-49",
          "50-59",
          "60-69",
          "70-79",
          "80-89",
          "90 eller äldre",
          "12-15",
          "16-17",
          "18-29",
          "30-39",
          "40-49",
          "50-59",
          "60-69",
          "70-79",
          "80-89",
          "90 eller äldre",
          "12-15",
          "16-17",
          "18-29",
          "30-39",
          "40-49",
          "50-59",
          "60-69",
          "70-79",
          "80-89",
          "90 eller äldre",
          "12-15",
          "16-17",
          "18-29",
          "30-39",
          "40-49",
          "50-59",
          "60-69",
          "70-79",
          "80-89",
          "90 eller äldre",
          "12-15",
          "16-17",
          "18-29",
          "30-39",
          "40-49",
          "50-59",
          "60-69",
          "70-79",
          "80-89",
          "90 eller äldre",
          "12-15",
          "16-17",
          "18-29",
          "30-39",
          "40-49",
          "50-59",
          "60-69",
          "70-79",
          "80-89",
          "90 eller äldre",
          "12-15",
          "16-17",
          "18-29",
          "30-39",
          "40-49",
          "50-59",
          "60-69",
          "70-79",
          "80-89",
          "90 eller äldre",
          "12-15",
          "16-17",
          "18-29",
          "30-39",
          "40-49",
          "50-59",
          "60-69",
          "70-79",
          "80-89",
          "90 eller äldre",
          "12-15",
          "16-17",
          "18-29",
          "30-39",
          "40-49",
          "50-59",
          "60-69",
          "70-79",
          "80-89",
          "90 eller äldre",
          "12-15",
          "16-17",
          "18-29",
          "30-39",
          "40-49",
          "50-59",
          "60-69",
          "70-79",
          "80-89",
          "90 eller äldre",
          "12-15",
          "16-17",
          "18-29",
          "30-39",
          "40-49",
          "50-59",
          "60-69",
          "70-79",
          "80-89",
          "90 eller äldre",
          "12-15",
          "16-17",
          "18-29",
          "30-39",
          "40-49",
          "50-59",
          "60-69",
          "70-79",
          "80-89",
          "90 eller äldre",
          "12-15",
          "16-17",
          "18-29",
          "30-39",
          "40-49",
          "50-59",
          "60-69",
          "70-79",
          "80-89",
          "90 eller äldre",
          "12-15",
          "16-17",
          "18-29",
          "30-39",
          "40-49",
          "50-59",
          "60-69",
          "70-79",
          "80-89",
          "90 eller äldre",
          "12-15",
          "16-17",
          "18-29",
          "30-39",
          "40-49",
          "50-59",
          "60-69",
          "70-79",
          "80-89",
          "90 eller äldre",
          "12-15",
          "16-17",
          "18-29",
          "30-39",
          "40-49",
          "50-59",
          "60-69",
          "70-79",
          "80-89",
          "90 eller äldre",
          "12-15",
          "16-17",
          "18-29",
          "30-39",
          "40-49",
          "50-59",
          "60-69",
          "70-79",
          "80-89",
          "90 eller äldre",
          "12-15",
          "16-17",
          "18-29",
          "30-39",
          "40-49",
          "50-59",
          "60-69",
          "70-79",
          "80-89",
          "90 eller äldre",
          "12-15",
          "16-17",
          "18-29",
          "30-39",
          "40-49",
          "50-59",
          "60-69",
          "70-79",
          "80-89",
          "90 eller äldre",
          "12-15",
          "16-17",
          "18-29",
          "30-39",
          "40-49",
          "50-59",
          "60-69",
          "70-79",
          "80-89",
          "90 eller äldre",
          "12-15",
          "16-17",
          "18-29",
          "30-39",
          "40-49",
          "50-59",
          "60-69",
          "70-79",
          "80-89",
          "90 eller äldre",
          "12-15",
          "16-17",
          "18-29",
          "30-39",
          "40-49",
          "50-59",
          "60-69",
          "70-79",
          "80-89",
          "90 eller äldre",
          "12-15",
          "16-17",
          "18-29",
          "30-39",
          "40-49",
          "50-59",
          "60-69",
          "70-79",
          "80-89",
          "90 eller äldre",
          "12-15",
          "16-17",
          "18-29",
          "30-39",
          "40-49",
          "50-59",
          "60-69",
          "70-79",
          "80-89",
          "90 eller äldre",
          "12-15",
          "16-17",
          "18-29",
          "30-39",
          "40-49",
          "50-59",
          "60-69",
          "70-79",
          "80-89",
          "90 eller äldre",
          "12-15",
          "16-17",
          "18-29",
          "30-39",
          "40-49",
          "50-59",
          "60-69",
          "70-79",
          "80-89",
          "90 eller äldre",
          "12-15",
          "16-17",
          "18-29",
          "30-39",
          "40-49",
          "50-59",
          "60-69",
          "70-79",
          "80-89",
          "90 eller äldre",
          "12-15",
          "16-17",
          "18-29",
          "30-39",
          "40-49",
          "50-59",
          "60-69",
          "70-79",
          "80-89",
          "90 eller äldre",
          "12-15",
          "16-17",
          "18-29",
          "30-39",
          "40-49",
          "50-59",
          "60-69",
          "70-79",
          "80-89",
          "90 eller äldre",
          "12-15",
          "16-17",
          "18-29",
          "30-39",
          "40-49",
          "50-59",
          "60-69",
          "70-79",
          "80-89",
          "90 eller äldre",
          "12-15",
          "16-17",
          "18-29",
          "30-39",
          "40-49",
          "50-59",
          "60-69",
          "70-79",
          "80-89",
          "90 eller äldre",
          "12-15",
          "16-17",
          "18-29",
          "30-39",
          "40-49",
          "50-59",
          "60-69",
          "70-79",
          "80-89",
          "90 eller äldre",
          "12-15",
          "16-17",
          "18-29",
          "30-39",
          "40-49",
          "50-59",
          "60-69",
          "70-79",
          "80-89",
          "90 eller äldre",
          "12-15",
          "16-17",
          "18-29",
          "30-39",
          "40-49",
          "50-59",
          "60-69",
          "70-79",
          "80-89",
          "90 eller äldre",
          "12-15",
          "16-17",
          "18-29",
          "30-39",
          "40-49",
          "50-59",
          "60-69",
          "70-79",
          "80-89",
          "90 eller äldre",
          "12-15",
          "16-17",
          "18-29",
          "30-39",
          "40-49",
          "50-59",
          "60-69",
          "70-79",
          "80-89",
          "90 eller äldre",
          "12-15",
          "16-17",
          "18-29",
          "30-39",
          "40-49",
          "50-59",
          "60-69",
          "70-79",
          "80-89",
          "90 eller äldre",
          "12-15",
          "16-17",
          "18-29",
          "30-39",
          "40-49",
          "50-59",
          "60-69",
          "70-79",
          "80-89",
          "90 eller äldre",
          "12-15",
          "16-17",
          "18-29",
          "30-39",
          "40-49",
          "50-59",
          "60-69",
          "70-79",
          "80-89",
          "90 eller äldre",
          "12-15",
          "16-17",
          "18-29",
          "30-39",
          "40-49",
          "50-59",
          "60-69",
          "70-79",
          "80-89",
          "90 eller äldre",
          "12-15",
          "16-17",
          "18-29",
          "30-39",
          "40-49",
          "50-59",
          "60-69",
          "70-79",
          "80-89",
          "90 eller äldre",
          "12-15",
          "16-17",
          "18-29",
          "30-39",
          "40-49",
          "50-59",
          "60-69",
          "70-79",
          "80-89",
          "90 eller äldre",
          "12-15",
          "16-17",
          "18-29",
          "30-39",
          "40-49",
          "50-59",
          "60-69",
          "70-79",
          "80-89",
          "90 eller äldre",
          "12-15",
          "16-17",
          "18-29",
          "30-39",
          "40-49",
          "50-59",
          "60-69",
          "70-79",
          "80-89",
          "90 eller äldre",
          "12-15",
          "16-17",
          "18-29",
          "30-39",
          "40-49",
          "50-59",
          "60-69",
          "70-79",
          "80-89",
          "90 eller äldre",
          "12-15",
          "16-17",
          "18-29",
          "30-39",
          "40-49",
          "50-59",
          "60-69",
          "70-79",
          "80-89",
          "90 eller äldre",
          "12-15",
          "16-17",
          "18-29",
          "30-39",
          "40-49",
          "50-59",
          "60-69",
          "70-79",
          "80-89",
          "90 eller äldre",
          "12-15",
          "16-17",
          "18-29",
          "30-39",
          "40-49",
          "50-59",
          "60-69",
          "70-79",
          "80-89",
          "90 eller äldre",
          "12-15",
          "16-17",
          "18-29",
          "30-39",
          "40-49",
          "50-59",
          "60-69",
          "70-79",
          "80-89",
          "90 eller äldre",
          "12-15",
          "16-17",
          "18-29",
          "30-39",
          "40-49",
          "50-59",
          "60-69",
          "70-79",
          "80-89",
          "90 eller äldre",
          "12-15",
          "16-17",
          "18-29",
          "30-39",
          "40-49",
          "50-59",
          "60-69",
          "70-79",
          "80-89",
          "90 eller äldre",
          "12-15",
          "16-17",
          "18-29",
          "30-39",
          "40-49",
          "50-59",
          "60-69",
          "70-79",
          "80-89",
          "90 eller äldre",
          "12-15",
          "16-17",
          "18-29",
          "30-39",
          "40-49",
          "50-59",
          "60-69",
          "70-79",
          "80-89",
          "90 eller äldre",
          "12-15",
          "16-17",
          "18-29",
          "30-39",
          "40-49",
          "50-59",
          "60-69",
          "70-79",
          "80-89",
          "90 eller äldre",
          "12-15",
          "16-17",
          "18-29",
          "30-39",
          "40-49",
          "50-59",
          "60-69",
          "70-79",
          "80-89",
          "90 eller äldre",
          "12-15",
          "16-17",
          "18-29",
          "30-39",
          "40-49",
          "50-59",
          "60-69",
          "70-79",
          "80-89",
          "90 eller äldre",
          "12-15",
          "16-17",
          "18-29",
          "30-39",
          "40-49",
          "50-59",
          "60-69",
          "70-79",
          "80-89",
          "90 eller äldre",
          "12-15",
          "16-17",
          "18-29",
          "30-39",
          "40-49",
          "50-59",
          "60-69",
          "70-79",
          "80-89",
          "90 eller äldre",
          "12-15",
          "16-17",
          "18-29",
          "30-39",
          "40-49",
          "50-59",
          "60-69",
          "70-79",
          "80-89",
          "90 eller äldre"
         ],
         "xaxis": "x",
         "y": [
          2422,
          1203,
          6692,
          7332,
          6946,
          6332,
          4258,
          3987,
          1934,
          337,
          2109,
          1014,
          4210,
          4286,
          5277,
          4996,
          3215,
          2651,
          1412,
          242,
          2655,
          1376,
          5995,
          6157,
          6737,
          7185,
          4511,
          4601,
          2065,
          371,
          2556,
          1338,
          5484,
          5706,
          6427,
          7054,
          4869,
          4324,
          1671,
          312,
          4286,
          2110,
          12501,
          13196,
          11632,
          10163,
          7441,
          6383,
          3392,
          727,
          1994,
          912,
          2938,
          3125,
          4419,
          4356,
          2937,
          2514,
          1239,
          219,
          6542,
          3137,
          16400,
          16793,
          17125,
          15106,
          10026,
          7642,
          3487,
          737,
          5286,
          2484,
          14525,
          13797,
          13871,
          12356,
          8629,
          6714,
          2909,
          527,
          1094,
          565,
          2174,
          2214,
          2364,
          2415,
          1333,
          1452,
          857,
          144,
          4975,
          2349,
          14345,
          15303,
          13557,
          12067,
          8112,
          7213,
          3315,
          531,
          2937,
          1453,
          6300,
          6153,
          6939,
          7377,
          4500,
          3974,
          2198,
          444,
          1679,
          772,
          4538,
          4817,
          4375,
          3808,
          2705,
          2460,
          986,
          183,
          719,
          358,
          1380,
          1500,
          1642,
          1658,
          1040,
          986,
          477,
          53,
          4403,
          2138,
          9661,
          8519,
          10607,
          10681,
          6772,
          6743,
          3775,
          819,
          2192,
          1195,
          4366,
          2995,
          4391,
          4877,
          3131,
          3021,
          1823,
          521,
          4536,
          2227,
          10199,
          10307,
          10882,
          10677,
          6951,
          5646,
          2926,
          641,
          42332,
          19501,
          148698,
          178611,
          135739,
          121354,
          96337,
          73370,
          31155,
          8562,
          5092,
          2539,
          15392,
          15288,
          13588,
          13613,
          10052,
          7532,
          3932,
          776,
          6322,
          3014,
          13490,
          14392,
          15886,
          15097,
          9963,
          8970,
          4088,
          988,
          2146,
          928,
          8491,
          11824,
          7469,
          6048,
          4695,
          3380,
          1301,
          324,
          2834,
          1212,
          14281,
          18716,
          11278,
          9066,
          7206,
          6272,
          2828,
          794,
          2790,
          1399,
          5878,
          5462,
          6717,
          6608,
          4813,
          4835,
          2506,
          725,
          716,
          386,
          1305,
          1031,
          1586,
          1915,
          1411,
          1491,
          536,
          103,
          2669,
          1298,
          7520,
          7887,
          6877,
          8638,
          8770,
          9059,
          4063,
          900,
          2756,
          1280,
          7284,
          7749,
          7160,
          6741,
          4468,
          3432,
          1879,
          299,
          1401,
          640,
          3668,
          3933,
          3538,
          4135,
          3341,
          3311,
          1530,
          278,
          1290,
          649,
          2830,
          2884,
          3075,
          3362,
          2075,
          2135,
          898,
          136,
          492,
          223,
          1099,
          1131,
          1090,
          1314,
          1230,
          1165,
          557,
          102,
          1254,
          595,
          2532,
          2919,
          3071,
          2476,
          1542,
          1472,
          516,
          107,
          676,
          275,
          1739,
          1820,
          1494,
          1842,
          1929,
          1684,
          845,
          176,
          988,
          461,
          2631,
          2690,
          2367,
          2802,
          2573,
          2491,
          1219,
          308,
          10934,
          5149,
          46902,
          37114,
          28677,
          26330,
          21772,
          19982,
          8801,
          2160,
          2328,
          1139,
          6269,
          6529,
          5440,
          6312,
          5205,
          4790,
          2279,
          523,
          935,
          485,
          2489,
          2600,
          2287,
          2850,
          3066,
          3195,
          1402,
          303,
          391,
          226,
          1144,
          909,
          938,
          1211,
          1193,
          1253,
          524,
          104,
          607,
          255,
          1206,
          1390,
          1478,
          1511,
          1372,
          1448,
          581,
          108,
          2826,
          1440,
          7260,
          7273,
          6668,
          7161,
          6633,
          6765,
          3447,
          760,
          548,
          266,
          1343,
          1452,
          1322,
          1438,
          1517,
          1663,
          844,
          182,
          745,
          374,
          1849,
          1582,
          1697,
          2108,
          2195,
          2366,
          1093,
          208,
          1660,
          810,
          4657,
          4305,
          3736,
          4319,
          4136,
          3934,
          1868,
          476,
          5464,
          2729,
          15448,
          14378,
          12851,
          13885,
          11347,
          10572,
          5054,
          1162,
          2020,
          1061,
          4301,
          4685,
          4769,
          5210,
          4360,
          4448,
          1926,
          378,
          743,
          330,
          1586,
          1680,
          1814,
          2045,
          1723,
          1961,
          759,
          132,
          217,
          125,
          576,
          595,
          587,
          713,
          647,
          794,
          325,
          89,
          152,
          81,
          337,
          346,
          388,
          482,
          574,
          592,
          261,
          56,
          458,
          236,
          1103,
          1159,
          1047,
          1328,
          1340,
          1297,
          666,
          148,
          228,
          110,
          608,
          636,
          558,
          809,
          741,
          744,
          319,
          78,
          479,
          265,
          1284,
          1339,
          1283,
          1594,
          1413,
          1495,
          770,
          152,
          971,
          480,
          2586,
          2667,
          2515,
          2960,
          2636,
          2678,
          1306,
          290,
          304,
          162,
          720,
          783,
          761,
          1033,
          1089,
          1314,
          534,
          128,
          7805,
          3776,
          31146,
          23364,
          19916,
          19500,
          15429,
          13586,
          7320,
          1769,
          7268,
          3458,
          21769,
          20382,
          17702,
          18066,
          14990,
          13653,
          6516,
          1441,
          739,
          335,
          1424,
          1744,
          1766,
          1997,
          1887,
          1902,
          830,
          164,
          2134,
          1017,
          5368,
          5235,
          5039,
          6011,
          5328,
          5036,
          2450,
          604,
          266,
          138,
          721,
          791,
          696,
          1062,
          1063,
          1245,
          629,
          133,
          1373,
          711,
          3746,
          3723,
          3501,
          3602,
          3024,
          2969,
          1488,
          345,
          326,
          151,
          766,
          892,
          767,
          852,
          933,
          745,
          367,
          73,
          454,
          263,
          1218,
          1143,
          1179,
          1342,
          1096,
          1027,
          413,
          124,
          395,
          207,
          852,
          933,
          869,
          935,
          834,
          975,
          359,
          91,
          797,
          376,
          1337,
          1886,
          1752,
          1480,
          1213,
          1177,
          527,
          91,
          1565,
          767,
          3784,
          3594,
          3470,
          4171,
          3440,
          2894,
          1516,
          391,
          788,
          349,
          1806,
          2097,
          1791,
          1917,
          1591,
          1415,
          685,
          153,
          6979,
          3271,
          24184,
          20248,
          17270,
          17470,
          13799,
          12944,
          6749,
          1668,
          1512,
          795,
          4217,
          4150,
          3505,
          4039,
          3603,
          3313,
          1565,
          433,
          1717,
          826,
          4552,
          4333,
          4065,
          4722,
          4207,
          3500,
          1859,
          417,
          634,
          299,
          1532,
          1328,
          1300,
          1475,
          1328,
          1342,
          655,
          184,
          1407,
          627,
          3449,
          3291,
          3010,
          3665,
          3265,
          3175,
          1648,
          432,
          814,
          416,
          2243,
          2189,
          1917,
          2252,
          2213,
          2149,
          1058,
          288,
          888,
          467,
          2561,
          2263,
          2055,
          2430,
          2050,
          2204,
          1233,
          306,
          454,
          208,
          1145,
          1095,
          1083,
          1273,
          1089,
          1109,
          550,
          158,
          493,
          229,
          975,
          966,
          991,
          1060,
          987,
          1072,
          450,
          119,
          527,
          281,
          1353,
          1310,
          1336,
          1702,
          1685,
          1604,
          865,
          243,
          1078,
          522,
          2465,
          2528,
          2435,
          2392,
          2354,
          2187,
          1024,
          317,
          989,
          424,
          2052,
          2477,
          2460,
          2252,
          1813,
          1721,
          840,
          238,
          501,
          221,
          1300,
          1223,
          1146,
          1330,
          1180,
          1246,
          632,
          158,
          4689,
          2307,
          16358,
          13427,
          11510,
          11160,
          9054,
          8768,
          4335,
          1005,
          1324,
          672,
          3471,
          3518,
          3334,
          3883,
          3393,
          3249,
          1701,
          428,
          267,
          132,
          585,
          573,
          608,
          739,
          862,
          736,
          354,
          69,
          309,
          167,
          759,
          709,
          729,
          1046,
          989,
          1035,
          449,
          101,
          792,
          371,
          1377,
          1712,
          1896,
          2024,
          2105,
          2316,
          956,
          160,
          685,
          301,
          1550,
          1523,
          1414,
          1902,
          1998,
          1806,
          936,
          223,
          570,
          300,
          1503,
          1546,
          1417,
          1734,
          1765,
          1705,
          864,
          184,
          432,
          211,
          1076,
          976,
          1000,
          1279,
          1269,
          1205,
          659,
          157,
          3347,
          1526,
          11432,
          10033,
          8471,
          8809,
          7299,
          6922,
          3390,
          842,
          956,
          441,
          2393,
          2546,
          2109,
          2697,
          2443,
          2365,
          1358,
          317,
          1231,
          662,
          3489,
          3235,
          3102,
          3645,
          3093,
          3237,
          1720,
          342,
          1612,
          750,
          4056,
          3964,
          3802,
          4864,
          5027,
          5305,
          2624,
          618,
          682,
          327,
          1950,
          1890,
          1646,
          2038,
          1974,
          1908,
          1000,
          235,
          395,
          196,
          909,
          949,
          1040,
          1399,
          1845,
          2024,
          985,
          180,
          2710,
          1290,
          7395,
          6977,
          6731,
          8114,
          8223,
          7900,
          3789,
          795,
          564,
          294,
          1641,
          1538,
          1345,
          1915,
          1656,
          1614,
          968,
          226,
          3218,
          1664,
          9694,
          8393,
          8158,
          8337,
          7117,
          7302,
          3628,
          790,
          1483,
          732,
          3363,
          3326,
          3414,
          3858,
          3363,
          3495,
          1859,
          459,
          1484,
          729,
          4062,
          3818,
          3543,
          4477,
          3837,
          3842,
          2115,
          447,
          768,
          411,
          2065,
          1969,
          1984,
          2407,
          2300,
          2265,
          1149,
          241,
          747,
          348,
          1748,
          2032,
          1891,
          1956,
          1526,
          1311,
          553,
          129,
          1667,
          727,
          2804,
          3408,
          3957,
          3453,
          2151,
          2289,
          1371,
          237,
          1029,
          466,
          2681,
          2840,
          2783,
          2377,
          1907,
          1590,
          817,
          176,
          2108,
          1074,
          3531,
          3747,
          5151,
          5739,
          3909,
          4348,
          2231,
          391,
          796,
          369,
          1791,
          1827,
          1676,
          1930,
          1648,
          1659,
          785,
          180,
          501,
          245,
          1300,
          1261,
          1193,
          1390,
          1339,
          1201,
          560,
          151,
          857,
          404,
          2113,
          2052,
          2024,
          2195,
          1679,
          1503,
          630,
          119,
          1943,
          997,
          3448,
          4049,
          4788,
          4537,
          2837,
          3205,
          1417,
          269,
          1701,
          791,
          2257,
          2143,
          3821,
          3628,
          2262,
          2456,
          1531,
          303,
          1423,
          608,
          2329,
          3233,
          3546,
          2893,
          2068,
          2028,
          921,
          190,
          810,
          400,
          2006,
          2133,
          2093,
          2306,
          1870,
          1721,
          708,
          152,
          882,
          390,
          2162,
          2473,
          2259,
          2813,
          2562,
          2228,
          1023,
          208,
          729,
          366,
          1818,
          2028,
          1924,
          2085,
          1954,
          1768,
          810,
          191,
          902,
          400,
          1800,
          2134,
          2215,
          2382,
          2020,
          1780,
          812,
          202,
          662,
          301,
          1605,
          1631,
          1538,
          1681,
          1891,
          1705,
          837,
          173,
          666,
          337,
          1423,
          1509,
          1486,
          1760,
          1471,
          1570,
          766,
          128,
          644,
          310,
          1572,
          1559,
          1471,
          1689,
          1561,
          1608,
          874,
          224,
          431,
          205,
          929,
          1006,
          788,
          989,
          840,
          768,
          383,
          104,
          818,
          412,
          2372,
          2233,
          2095,
          2432,
          2032,
          1989,
          899,
          221,
          960,
          493,
          2099,
          2201,
          2227,
          2147,
          1515,
          1419,
          667,
          115,
          674,
          315,
          1565,
          1554,
          1748,
          2105,
          2234,
          2410,
          1188,
          285,
          15977,
          7182,
          57279,
          63772,
          47997,
          39449,
          31777,
          24925,
          12135,
          3152,
          6035,
          2819,
          28119,
          16929,
          15567,
          13977,
          11343,
          10745,
          5067,
          1156,
          2293,
          1024,
          6031,
          6324,
          5957,
          6006,
          5085,
          4819,
          2178,
          468,
          7307,
          3523,
          21984,
          21240,
          18944,
          19668,
          15654,
          13575,
          6557,
          1582,
          1442,
          728,
          2796,
          2837,
          3492,
          3851,
          3302,
          3826,
          1830,
          386,
          1868,
          894,
          4628,
          4708,
          4436,
          4658,
          3547,
          3088,
          1540,
          343,
          1397,
          680,
          3632,
          3438,
          3542,
          4131,
          4226,
          4446,
          2029,
          464,
          2236,
          1113,
          5668,
          5930,
          5785,
          6398,
          5320,
          4832,
          2427,
          499,
          4323,
          2130,
          11988,
          11083,
          10055,
          11149,
          9741,
          9093,
          4620,
          1133,
          740,
          355,
          1884,
          1732,
          1747,
          2516,
          3128,
          3364,
          1563,
          349,
          2145,
          1020,
          5152,
          5417,
          5266,
          5934,
          5074,
          5154,
          2532,
          667,
          2470,
          1215,
          6747,
          6613,
          5981,
          7038,
          5974,
          5809,
          3098,
          796,
          551,
          300,
          1234,
          1248,
          1195,
          1403,
          1293,
          1133,
          574,
          158,
          5034,
          2398,
          15531,
          14475,
          12268,
          13034,
          11086,
          10329,
          5342,
          1271,
          1199,
          613,
          3004,
          3127,
          2987,
          3437,
          3445,
          3390,
          1511,
          343,
          2194,
          1028,
          5833,
          5757,
          5247,
          5951,
          5626,
          5555,
          2764,
          676,
          3206,
          1522,
          8107,
          8476,
          7879,
          8502,
          8218,
          8033,
          3621,
          890,
          5123,
          2550,
          9900,
          9458,
          11412,
          12680,
          8904,
          8404,
          4367,
          867,
          2641,
          1123,
          4446,
          4844,
          6078,
          5543,
          3706,
          3136,
          1473,
          329,
          2305,
          991,
          4767,
          5558,
          5621,
          5193,
          3884,
          3191,
          1581,
          414,
          680,
          354,
          1422,
          1168,
          1439,
          1916,
          1773,
          1718,
          784,
          173,
          1500,
          787,
          3442,
          3491,
          3540,
          3947,
          2845,
          2644,
          1420,
          284,
          762,
          368,
          1574,
          1755,
          1783,
          2202,
          2302,
          2379,
          1001,
          211,
          636,
          322,
          1561,
          1471,
          1609,
          2121,
          2390,
          2381,
          1084,
          211,
          326,
          137,
          883,
          853,
          972,
          1272,
          1471,
          1673,
          632,
          167,
          471,
          253,
          1248,
          1335,
          1163,
          1368,
          1354,
          1268,
          635,
          156,
          566,
          256,
          1356,
          1406,
          1359,
          1709,
          1922,
          1931,
          813,
          205,
          215,
          114,
          527,
          545,
          531,
          604,
          571,
          671,
          340,
          67,
          306,
          150,
          750,
          751,
          686,
          898,
          910,
          833,
          369,
          96,
          1765,
          863,
          4060,
          4591,
          4478,
          4123,
          2876,
          2866,
          1350,
          204,
          2711,
          1312,
          4622,
          5371,
          6359,
          6040,
          3974,
          3701,
          1980,
          401,
          626,
          314,
          1520,
          1647,
          1448,
          1581,
          1362,
          1265,
          561,
          126,
          536,
          260,
          1038,
          1231,
          1271,
          1353,
          1024,
          1040,
          457,
          86,
          271,
          126,
          635,
          659,
          632,
          803,
          769,
          745,
          337,
          92,
          296,
          105,
          597,
          663,
          623,
          775,
          741,
          769,
          330,
          85,
          277,
          151,
          795,
          786,
          749,
          888,
          883,
          1118,
          487,
          98,
          198,
          93,
          508,
          476,
          467,
          752,
          843,
          839,
          365,
          87,
          574,
          284,
          1371,
          1421,
          1378,
          1641,
          1451,
          1483,
          658,
          177,
          399,
          195,
          1049,
          956,
          913,
          1278,
          1295,
          1417,
          652,
          191,
          431,
          168,
          1092,
          1054,
          923,
          1185,
          1259,
          1286,
          581,
          161,
          667,
          291,
          1754,
          2122,
          1726,
          1932,
          1695,
          1441,
          612,
          133,
          1871,
          858,
          4314,
          4320,
          4103,
          4786,
          4233,
          3923,
          1856,
          445,
          529,
          230,
          1192,
          1302,
          1144,
          1507,
          1401,
          1395,
          611,
          118,
          428,
          199,
          1204,
          1112,
          1034,
          1286,
          1200,
          1174,
          538,
          118,
          760,
          348,
          2013,
          1917,
          1884,
          2183,
          2075,
          1820,
          929,
          194,
          668,
          292,
          1416,
          1488,
          1469,
          1854,
          1811,
          1750,
          779,
          153,
          525,
          262,
          1383,
          1433,
          1218,
          1510,
          1337,
          1310,
          729,
          164,
          415,
          205,
          1097,
          1020,
          987,
          1204,
          1322,
          1232,
          518,
          128,
          25395,
          11922,
          102778,
          104015,
          76366,
          69463,
          55765,
          44288,
          19954,
          5160,
          3679,
          1703,
          9991,
          10898,
          9847,
          9180,
          6566,
          5254,
          2606,
          629,
          2500,
          1163,
          6187,
          6640,
          5901,
          6593,
          5220,
          4597,
          2487,
          582,
          617,
          289,
          1444,
          1444,
          1448,
          1939,
          2139,
          2165,
          1019,
          256,
          2844,
          1297,
          7765,
          7416,
          6566,
          7360,
          6601,
          5688,
          3066,
          745,
          621,
          271,
          1560,
          1775,
          1680,
          1679,
          1559,
          1525,
          700,
          175,
          1966,
          963,
          5131,
          4953,
          4346,
          5334,
          4639,
          4357,
          2315,
          471,
          2958,
          1467,
          9178,
          8009,
          7014,
          7656,
          6109,
          5439,
          2758,
          650,
          2172,
          1071,
          5133,
          5448,
          5154,
          5141,
          4606,
          4717,
          2243,
          511,
          5623,
          2694,
          17454,
          16024,
          13883,
          14298,
          11541,
          10403,
          5421,
          1311,
          1193,
          569,
          3051,
          3055,
          2880,
          3362,
          3014,
          2864,
          1396,
          370,
          605,
          281,
          1447,
          1294,
          1281,
          1705,
          1615,
          1544,
          858,
          239,
          1037,
          525,
          3084,
          3066,
          2515,
          3280,
          3104,
          3121,
          1677,
          359,
          1962,
          929,
          5310,
          4928,
          4666,
          5405,
          4823,
          4626,
          2369,
          527,
          877,
          460,
          2517,
          2381,
          2053,
          2654,
          2159,
          2086,
          1015,
          230,
          2553,
          1223,
          9311,
          8362,
          6419,
          6978,
          5909,
          5288,
          2732,
          650,
          420,
          184,
          1032,
          1080,
          1040,
          1209,
          1142,
          1267,
          592,
          118,
          560,
          272,
          1600,
          1602,
          1340,
          1763,
          1588,
          1438,
          799,
          200,
          1633,
          852,
          4373,
          4282,
          3769,
          4174,
          3866,
          3397,
          1881,
          471,
          540,
          314,
          1269,
          1536,
          1407,
          1548,
          1435,
          1502,
          711,
          159,
          346,
          154,
          942,
          1112,
          883,
          1185,
          1172,
          1011,
          482,
          136,
          428,
          217,
          1245,
          1221,
          1223,
          1550,
          1671,
          1638,
          811,
          180,
          162,
          96,
          414,
          394,
          363,
          603,
          606,
          614,
          225,
          62,
          1012,
          444,
          1463,
          2220,
          2359,
          2139,
          1808,
          1643,
          773,
          143,
          169,
          71,
          405,
          427,
          351,
          508,
          517,
          460,
          290,
          74,
          588,
          267,
          1272,
          1499,
          1343,
          1560,
          1243,
          1373,
          686,
          124,
          402,
          184,
          1011,
          1115,
          932,
          1278,
          1177,
          1209,
          557,
          139,
          459,
          207,
          1224,
          1191,
          1085,
          1402,
          1238,
          1226,
          595,
          137,
          572,
          270,
          1625,
          1476,
          1419,
          1873,
          1906,
          1609,
          818,
          208,
          4153,
          2014,
          16388,
          13008,
          11047,
          11840,
          10126,
          9403,
          4763,
          1132,
          1045,
          515,
          2838,
          2740,
          2565,
          3320,
          3160,
          3280,
          1519,
          359,
          454,
          214,
          1313,
          1114,
          1013,
          1325,
          1378,
          1452,
          685,
          180,
          444,
          221,
          1190,
          1228,
          1106,
          1632,
          1901,
          1617,
          879,
          196,
          1100,
          542,
          3090,
          3016,
          2848,
          3424,
          3245,
          3292,
          1650,
          469,
          675,
          370,
          1802,
          1644,
          1509,
          2147,
          2027,
          2021,
          1085,
          259,
          491,
          187,
          851,
          1347,
          1063,
          1013,
          913,
          874,
          434,
          82,
          254,
          108,
          576,
          579,
          551,
          835,
          795,
          807,
          381,
          94,
          815,
          391,
          1944,
          2129,
          1880,
          2091,
          1887,
          1855,
          826,
          166,
          398,
          201,
          1080,
          950,
          1040,
          1356,
          1284,
          1394,
          628,
          140,
          299,
          143,
          815,
          724,
          593,
          915,
          905,
          940,
          521,
          98,
          163,
          88,
          457,
          425,
          481,
          653,
          731,
          701,
          358,
          72,
          7733,
          3542,
          27125,
          21701,
          19150,
          18815,
          15153,
          14289,
          6599,
          1585,
          1263,
          524,
          2774,
          3053,
          2864,
          2862,
          2169,
          2218,
          1063,
          219,
          475,
          272,
          1277,
          1199,
          1192,
          1542,
          1654,
          1696,
          764,
          153,
          1422,
          687,
          4058,
          3690,
          3275,
          4137,
          3527,
          3622,
          1968,
          408,
          538,
          254,
          1109,
          1233,
          1213,
          1387,
          1344,
          1511,
          726,
          122,
          1138,
          505,
          2869,
          2770,
          2607,
          3077,
          2922,
          3037,
          1349,
          342,
          172,
          102,
          465,
          450,
          447,
          602,
          663,
          686,
          287,
          60,
          501,
          249,
          1089,
          1238,
          1146,
          1332,
          1188,
          1294,
          590,
          127,
          455,
          198,
          1032,
          1012,
          975,
          1190,
          1090,
          1063,
          477,
          107,
          824,
          387,
          2105,
          2136,
          1805,
          2158,
          1859,
          1895,
          1031,
          207,
          262,
          127,
          627,
          651,
          587,
          715,
          778,
          812,
          342,
          83,
          7520,
          3747,
          23221,
          22451,
          19137,
          20524,
          15701,
          14704,
          7545,
          1772,
          1116,
          481,
          2734,
          2806,
          2529,
          2991,
          2825,
          2885,
          1318,
          306,
          662,
          331,
          1574,
          1639,
          1469,
          1753,
          1539,
          1525,
          823,
          191,
          1220,
          615,
          3379,
          3203,
          2817,
          3418,
          3127,
          3059,
          1549,
          369,
          590,
          299,
          1793,
          1663,
          1457,
          1881,
          1713,
          1845,
          935,
          201,
          331,
          144,
          823,
          773,
          676,
          953,
          893,
          912,
          464,
          90,
          434,
          215,
          1224,
          1179,
          1128,
          1412,
          1339,
          1359,
          667,
          148,
          542,
          236,
          1054,
          1302,
          1137,
          1332,
          1334,
          1356,
          596,
          112,
          705,
          334,
          1704,
          1742,
          1714,
          2076,
          2191,
          2381,
          1090,
          258,
          445,
          225,
          1220,
          1105,
          1109,
          1391,
          1574,
          1889,
          889,
          216,
          285,
          143,
          858,
          842,
          641,
          1001,
          942,
          926,
          460,
          116,
          321,
          160,
          790,
          774,
          746,
          930,
          964,
          979,
          515,
          109,
          489,
          237,
          1066,
          1190,
          1144,
          1535,
          1590,
          1628,
          697,
          121,
          935,
          496,
          2370,
          2433,
          2324,
          2633,
          2688,
          2860,
          1367,
          268,
          2902,
          1427,
          7726,
          7906,
          7262,
          7208,
          6786,
          6737,
          3160,
          706,
          2647,
          1305,
          7686,
          7033,
          5927,
          6588,
          5643,
          5164,
          2572,
          538,
          507,
          241,
          1140,
          1426,
          1264,
          1416,
          1525,
          1495,
          663,
          139,
          748,
          330,
          1772,
          1823,
          1565,
          2076,
          2106,
          2032,
          932,
          205,
          1028,
          490,
          2698,
          2787,
          2468,
          2907,
          2934,
          2873,
          1417,
          330,
          1163,
          561,
          3114,
          3423,
          2898,
          3275,
          3190,
          3219,
          1563,
          413,
          241,
          112,
          597,
          630,
          583,
          829,
          873,
          938,
          310,
          95,
          426,
          211,
          1176,
          1103,
          906,
          1331,
          1342,
          1233,
          570,
          125,
          514,
          264,
          1310,
          1323,
          1190,
          1500,
          1538,
          1636,
          777,
          181,
          449,
          206,
          1029,
          1052,
          952,
          1319,
          1295,
          1359,
          547,
          106,
          850,
          446,
          2103,
          2140,
          1980,
          2491,
          2531,
          2662,
          1200,
          279,
          4877,
          2351,
          15177,
          13928,
          12372,
          13418,
          11209,
          10475,
          5147,
          1061,
          1742,
          945,
          4848,
          4875,
          4397,
          5365,
          4651,
          4596,
          2362,
          477,
          1124,
          550,
          2858,
          2755,
          2601,
          3499,
          3496,
          3566,
          1612,
          355,
          1200,
          613,
          3174,
          3093,
          2923,
          3423,
          3422,
          3463,
          1652,
          394,
          1778,
          898,
          4565,
          4419,
          4188,
          4917,
          4881,
          5026,
          2178,
          460,
          378,
          200,
          1032,
          965,
          936,
          1304,
          1416,
          1219,
          623,
          128,
          829,
          422,
          2253,
          2090,
          2158,
          2580,
          2090,
          2158,
          971,
          161,
          1228,
          561,
          2991,
          3009,
          2752,
          3140,
          3007,
          3383,
          1594,
          309,
          4820,
          2436,
          13519,
          12763,
          12005,
          13410,
          11001,
          10717,
          5389,
          1093,
          738,
          367,
          2002,
          1861,
          1793,
          2563,
          2661,
          2649,
          1159,
          275,
          809,
          394,
          1986,
          2057,
          1913,
          2427,
          2740,
          2591,
          1352,
          308,
          2700,
          1272,
          6533,
          6769,
          6608,
          7198,
          6786,
          6781,
          3293,
          692,
          235,
          97,
          506,
          593,
          514,
          723,
          741,
          724,
          381,
          76,
          245,
          142,
          645,
          625,
          605,
          922,
          948,
          923,
          371,
          91,
          961,
          450,
          1483,
          1853,
          2044,
          2033,
          1781,
          1722,
          681,
          133,
          449,
          220,
          1245,
          1254,
          1127,
          1427,
          1691,
          1676,
          814,
          190,
          621,
          263,
          1663,
          1938,
          1641,
          1514,
          1333,
          1018,
          459,
          92,
          309,
          166,
          759,
          828,
          682,
          905,
          1024,
          1004,
          487,
          113,
          364,
          188,
          1169,
          1160,
          1049,
          1393,
          1446,
          1476,
          705,
          163,
          3052,
          1447,
          9348,
          8878,
          7629,
          7834,
          6991,
          6990,
          3260,
          696,
          308,
          163,
          833,
          741,
          783,
          923,
          954,
          966,
          492,
          105,
          99,
          52,
          289,
          278,
          231,
          280,
          301,
          325,
          177,
          58,
          282,
          101,
          580,
          622,
          629,
          646,
          726,
          744,
          350,
          98,
          325,
          156,
          689,
          855,
          725,
          796,
          1009,
          877,
          392,
          91,
          194,
          87,
          407,
          443,
          390,
          525,
          576,
          560,
          267,
          55,
          143,
          60,
          386,
          301,
          307,
          355,
          450,
          417,
          196,
          42,
          266,
          103,
          625,
          576,
          588,
          762,
          870,
          803,
          405,
          109,
          94,
          40,
          251,
          257,
          246,
          339,
          365,
          322,
          200,
          43,
          110,
          53,
          223,
          250,
          228,
          312,
          398,
          367,
          183,
          61,
          442,
          221,
          1133,
          1244,
          1032,
          1120,
          967,
          905,
          491,
          117,
          294,
          148,
          850,
          737,
          638,
          775,
          972,
          825,
          416,
          90,
          109,
          58,
          327,
          270,
          291,
          348,
          401,
          422,
          206,
          54,
          5852,
          2765,
          24573,
          20192,
          16097,
          14638,
          12082,
          11298,
          5070,
          1066,
          591,
          286,
          1535,
          1575,
          1255,
          1481,
          1555,
          1444,
          753,
          145,
          3366,
          1678,
          9620,
          9414,
          8704,
          9308,
          9152,
          8421,
          4248,
          876,
          249,
          108,
          702,
          771,
          644,
          751,
          860,
          784,
          459,
          85,
          96,
          50,
          284,
          304,
          270,
          386,
          407,
          359,
          195,
          57,
          161,
          78,
          536,
          554,
          460,
          666,
          734,
          681,
          338,
          72,
          98,
          55,
          315,
          353,
          256,
          386,
          560,
          524,
          291,
          69,
          638,
          340,
          1762,
          1692,
          1610,
          2193,
          2253,
          2198,
          1164,
          237,
          159,
          77,
          423,
          342,
          354,
          530,
          737,
          749,
          351,
          78,
          221,
          118,
          659,
          542,
          475,
          688,
          956,
          1012,
          539,
          84,
          664,
          335,
          2038,
          2423,
          1829,
          2295,
          2392,
          1997,
          1155,
          245,
          328,
          160,
          1022,
          963,
          869,
          1019,
          1033,
          1018,
          500,
          133,
          3427,
          1716,
          12599,
          10549,
          9112,
          10434,
          8757,
          7924,
          4078,
          800,
          1838,
          942,
          5510,
          5310,
          4969,
          5586,
          5169,
          5181,
          2263,
          433,
          1156,
          573,
          3802,
          3464,
          3117,
          3618,
          3577,
          3532,
          1645,
          370,
          452,
          225,
          990,
          876,
          978,
          1142,
          1488,
          1478,
          624,
          108,
          954,
          519,
          3167,
          3202,
          2385,
          3079,
          2781,
          2194,
          1280,
          219
         ],
         "yaxis": "y"
        }
       ],
       "layout": {
        "barmode": "relative",
        "coloraxis": {
         "colorbar": {
          "title": {
           "text": "Kommun"
          }
         },
         "colorscale": [
          [
           0,
           "#0d0887"
          ],
          [
           0.1111111111111111,
           "#46039f"
          ],
          [
           0.2222222222222222,
           "#7201a8"
          ],
          [
           0.3333333333333333,
           "#9c179e"
          ],
          [
           0.4444444444444444,
           "#bd3786"
          ],
          [
           0.5555555555555556,
           "#d8576b"
          ],
          [
           0.6666666666666666,
           "#ed7953"
          ],
          [
           0.7777777777777778,
           "#fb9f3a"
          ],
          [
           0.8888888888888888,
           "#fdca26"
          ],
          [
           1,
           "#f0f921"
          ]
         ]
        },
        "legend": {
         "tracegroupgap": 0
        },
        "template": {
         "data": {
          "bar": [
           {
            "error_x": {
             "color": "#2a3f5f"
            },
            "error_y": {
             "color": "#2a3f5f"
            },
            "marker": {
             "line": {
              "color": "#E5ECF6",
              "width": 0.5
             },
             "pattern": {
              "fillmode": "overlay",
              "size": 10,
              "solidity": 0.2
             }
            },
            "type": "bar"
           }
          ],
          "barpolar": [
           {
            "marker": {
             "line": {
              "color": "#E5ECF6",
              "width": 0.5
             },
             "pattern": {
              "fillmode": "overlay",
              "size": 10,
              "solidity": 0.2
             }
            },
            "type": "barpolar"
           }
          ],
          "carpet": [
           {
            "aaxis": {
             "endlinecolor": "#2a3f5f",
             "gridcolor": "white",
             "linecolor": "white",
             "minorgridcolor": "white",
             "startlinecolor": "#2a3f5f"
            },
            "baxis": {
             "endlinecolor": "#2a3f5f",
             "gridcolor": "white",
             "linecolor": "white",
             "minorgridcolor": "white",
             "startlinecolor": "#2a3f5f"
            },
            "type": "carpet"
           }
          ],
          "choropleth": [
           {
            "colorbar": {
             "outlinewidth": 0,
             "ticks": ""
            },
            "type": "choropleth"
           }
          ],
          "contour": [
           {
            "colorbar": {
             "outlinewidth": 0,
             "ticks": ""
            },
            "colorscale": [
             [
              0,
              "#0d0887"
             ],
             [
              0.1111111111111111,
              "#46039f"
             ],
             [
              0.2222222222222222,
              "#7201a8"
             ],
             [
              0.3333333333333333,
              "#9c179e"
             ],
             [
              0.4444444444444444,
              "#bd3786"
             ],
             [
              0.5555555555555556,
              "#d8576b"
             ],
             [
              0.6666666666666666,
              "#ed7953"
             ],
             [
              0.7777777777777778,
              "#fb9f3a"
             ],
             [
              0.8888888888888888,
              "#fdca26"
             ],
             [
              1,
              "#f0f921"
             ]
            ],
            "type": "contour"
           }
          ],
          "contourcarpet": [
           {
            "colorbar": {
             "outlinewidth": 0,
             "ticks": ""
            },
            "type": "contourcarpet"
           }
          ],
          "heatmap": [
           {
            "colorbar": {
             "outlinewidth": 0,
             "ticks": ""
            },
            "colorscale": [
             [
              0,
              "#0d0887"
             ],
             [
              0.1111111111111111,
              "#46039f"
             ],
             [
              0.2222222222222222,
              "#7201a8"
             ],
             [
              0.3333333333333333,
              "#9c179e"
             ],
             [
              0.4444444444444444,
              "#bd3786"
             ],
             [
              0.5555555555555556,
              "#d8576b"
             ],
             [
              0.6666666666666666,
              "#ed7953"
             ],
             [
              0.7777777777777778,
              "#fb9f3a"
             ],
             [
              0.8888888888888888,
              "#fdca26"
             ],
             [
              1,
              "#f0f921"
             ]
            ],
            "type": "heatmap"
           }
          ],
          "heatmapgl": [
           {
            "colorbar": {
             "outlinewidth": 0,
             "ticks": ""
            },
            "colorscale": [
             [
              0,
              "#0d0887"
             ],
             [
              0.1111111111111111,
              "#46039f"
             ],
             [
              0.2222222222222222,
              "#7201a8"
             ],
             [
              0.3333333333333333,
              "#9c179e"
             ],
             [
              0.4444444444444444,
              "#bd3786"
             ],
             [
              0.5555555555555556,
              "#d8576b"
             ],
             [
              0.6666666666666666,
              "#ed7953"
             ],
             [
              0.7777777777777778,
              "#fb9f3a"
             ],
             [
              0.8888888888888888,
              "#fdca26"
             ],
             [
              1,
              "#f0f921"
             ]
            ],
            "type": "heatmapgl"
           }
          ],
          "histogram": [
           {
            "marker": {
             "pattern": {
              "fillmode": "overlay",
              "size": 10,
              "solidity": 0.2
             }
            },
            "type": "histogram"
           }
          ],
          "histogram2d": [
           {
            "colorbar": {
             "outlinewidth": 0,
             "ticks": ""
            },
            "colorscale": [
             [
              0,
              "#0d0887"
             ],
             [
              0.1111111111111111,
              "#46039f"
             ],
             [
              0.2222222222222222,
              "#7201a8"
             ],
             [
              0.3333333333333333,
              "#9c179e"
             ],
             [
              0.4444444444444444,
              "#bd3786"
             ],
             [
              0.5555555555555556,
              "#d8576b"
             ],
             [
              0.6666666666666666,
              "#ed7953"
             ],
             [
              0.7777777777777778,
              "#fb9f3a"
             ],
             [
              0.8888888888888888,
              "#fdca26"
             ],
             [
              1,
              "#f0f921"
             ]
            ],
            "type": "histogram2d"
           }
          ],
          "histogram2dcontour": [
           {
            "colorbar": {
             "outlinewidth": 0,
             "ticks": ""
            },
            "colorscale": [
             [
              0,
              "#0d0887"
             ],
             [
              0.1111111111111111,
              "#46039f"
             ],
             [
              0.2222222222222222,
              "#7201a8"
             ],
             [
              0.3333333333333333,
              "#9c179e"
             ],
             [
              0.4444444444444444,
              "#bd3786"
             ],
             [
              0.5555555555555556,
              "#d8576b"
             ],
             [
              0.6666666666666666,
              "#ed7953"
             ],
             [
              0.7777777777777778,
              "#fb9f3a"
             ],
             [
              0.8888888888888888,
              "#fdca26"
             ],
             [
              1,
              "#f0f921"
             ]
            ],
            "type": "histogram2dcontour"
           }
          ],
          "mesh3d": [
           {
            "colorbar": {
             "outlinewidth": 0,
             "ticks": ""
            },
            "type": "mesh3d"
           }
          ],
          "parcoords": [
           {
            "line": {
             "colorbar": {
              "outlinewidth": 0,
              "ticks": ""
             }
            },
            "type": "parcoords"
           }
          ],
          "pie": [
           {
            "automargin": true,
            "type": "pie"
           }
          ],
          "scatter": [
           {
            "fillpattern": {
             "fillmode": "overlay",
             "size": 10,
             "solidity": 0.2
            },
            "type": "scatter"
           }
          ],
          "scatter3d": [
           {
            "line": {
             "colorbar": {
              "outlinewidth": 0,
              "ticks": ""
             }
            },
            "marker": {
             "colorbar": {
              "outlinewidth": 0,
              "ticks": ""
             }
            },
            "type": "scatter3d"
           }
          ],
          "scattercarpet": [
           {
            "marker": {
             "colorbar": {
              "outlinewidth": 0,
              "ticks": ""
             }
            },
            "type": "scattercarpet"
           }
          ],
          "scattergeo": [
           {
            "marker": {
             "colorbar": {
              "outlinewidth": 0,
              "ticks": ""
             }
            },
            "type": "scattergeo"
           }
          ],
          "scattergl": [
           {
            "marker": {
             "colorbar": {
              "outlinewidth": 0,
              "ticks": ""
             }
            },
            "type": "scattergl"
           }
          ],
          "scattermapbox": [
           {
            "marker": {
             "colorbar": {
              "outlinewidth": 0,
              "ticks": ""
             }
            },
            "type": "scattermapbox"
           }
          ],
          "scatterpolar": [
           {
            "marker": {
             "colorbar": {
              "outlinewidth": 0,
              "ticks": ""
             }
            },
            "type": "scatterpolar"
           }
          ],
          "scatterpolargl": [
           {
            "marker": {
             "colorbar": {
              "outlinewidth": 0,
              "ticks": ""
             }
            },
            "type": "scatterpolargl"
           }
          ],
          "scatterternary": [
           {
            "marker": {
             "colorbar": {
              "outlinewidth": 0,
              "ticks": ""
             }
            },
            "type": "scatterternary"
           }
          ],
          "surface": [
           {
            "colorbar": {
             "outlinewidth": 0,
             "ticks": ""
            },
            "colorscale": [
             [
              0,
              "#0d0887"
             ],
             [
              0.1111111111111111,
              "#46039f"
             ],
             [
              0.2222222222222222,
              "#7201a8"
             ],
             [
              0.3333333333333333,
              "#9c179e"
             ],
             [
              0.4444444444444444,
              "#bd3786"
             ],
             [
              0.5555555555555556,
              "#d8576b"
             ],
             [
              0.6666666666666666,
              "#ed7953"
             ],
             [
              0.7777777777777778,
              "#fb9f3a"
             ],
             [
              0.8888888888888888,
              "#fdca26"
             ],
             [
              1,
              "#f0f921"
             ]
            ],
            "type": "surface"
           }
          ],
          "table": [
           {
            "cells": {
             "fill": {
              "color": "#EBF0F8"
             },
             "line": {
              "color": "white"
             }
            },
            "header": {
             "fill": {
              "color": "#C8D4E3"
             },
             "line": {
              "color": "white"
             }
            },
            "type": "table"
           }
          ]
         },
         "layout": {
          "annotationdefaults": {
           "arrowcolor": "#2a3f5f",
           "arrowhead": 0,
           "arrowwidth": 1
          },
          "autotypenumbers": "strict",
          "coloraxis": {
           "colorbar": {
            "outlinewidth": 0,
            "ticks": ""
           }
          },
          "colorscale": {
           "diverging": [
            [
             0,
             "#8e0152"
            ],
            [
             0.1,
             "#c51b7d"
            ],
            [
             0.2,
             "#de77ae"
            ],
            [
             0.3,
             "#f1b6da"
            ],
            [
             0.4,
             "#fde0ef"
            ],
            [
             0.5,
             "#f7f7f7"
            ],
            [
             0.6,
             "#e6f5d0"
            ],
            [
             0.7,
             "#b8e186"
            ],
            [
             0.8,
             "#7fbc41"
            ],
            [
             0.9,
             "#4d9221"
            ],
            [
             1,
             "#276419"
            ]
           ],
           "sequential": [
            [
             0,
             "#0d0887"
            ],
            [
             0.1111111111111111,
             "#46039f"
            ],
            [
             0.2222222222222222,
             "#7201a8"
            ],
            [
             0.3333333333333333,
             "#9c179e"
            ],
            [
             0.4444444444444444,
             "#bd3786"
            ],
            [
             0.5555555555555556,
             "#d8576b"
            ],
            [
             0.6666666666666666,
             "#ed7953"
            ],
            [
             0.7777777777777778,
             "#fb9f3a"
            ],
            [
             0.8888888888888888,
             "#fdca26"
            ],
            [
             1,
             "#f0f921"
            ]
           ],
           "sequentialminus": [
            [
             0,
             "#0d0887"
            ],
            [
             0.1111111111111111,
             "#46039f"
            ],
            [
             0.2222222222222222,
             "#7201a8"
            ],
            [
             0.3333333333333333,
             "#9c179e"
            ],
            [
             0.4444444444444444,
             "#bd3786"
            ],
            [
             0.5555555555555556,
             "#d8576b"
            ],
            [
             0.6666666666666666,
             "#ed7953"
            ],
            [
             0.7777777777777778,
             "#fb9f3a"
            ],
            [
             0.8888888888888888,
             "#fdca26"
            ],
            [
             1,
             "#f0f921"
            ]
           ]
          },
          "colorway": [
           "#636efa",
           "#EF553B",
           "#00cc96",
           "#ab63fa",
           "#FFA15A",
           "#19d3f3",
           "#FF6692",
           "#B6E880",
           "#FF97FF",
           "#FECB52"
          ],
          "font": {
           "color": "#2a3f5f"
          },
          "geo": {
           "bgcolor": "white",
           "lakecolor": "white",
           "landcolor": "#E5ECF6",
           "showlakes": true,
           "showland": true,
           "subunitcolor": "white"
          },
          "hoverlabel": {
           "align": "left"
          },
          "hovermode": "closest",
          "mapbox": {
           "style": "light"
          },
          "paper_bgcolor": "white",
          "plot_bgcolor": "#E5ECF6",
          "polar": {
           "angularaxis": {
            "gridcolor": "white",
            "linecolor": "white",
            "ticks": ""
           },
           "bgcolor": "#E5ECF6",
           "radialaxis": {
            "gridcolor": "white",
            "linecolor": "white",
            "ticks": ""
           }
          },
          "scene": {
           "xaxis": {
            "backgroundcolor": "#E5ECF6",
            "gridcolor": "white",
            "gridwidth": 2,
            "linecolor": "white",
            "showbackground": true,
            "ticks": "",
            "zerolinecolor": "white"
           },
           "yaxis": {
            "backgroundcolor": "#E5ECF6",
            "gridcolor": "white",
            "gridwidth": 2,
            "linecolor": "white",
            "showbackground": true,
            "ticks": "",
            "zerolinecolor": "white"
           },
           "zaxis": {
            "backgroundcolor": "#E5ECF6",
            "gridcolor": "white",
            "gridwidth": 2,
            "linecolor": "white",
            "showbackground": true,
            "ticks": "",
            "zerolinecolor": "white"
           }
          },
          "shapedefaults": {
           "line": {
            "color": "#2a3f5f"
           }
          },
          "ternary": {
           "aaxis": {
            "gridcolor": "white",
            "linecolor": "white",
            "ticks": ""
           },
           "baxis": {
            "gridcolor": "white",
            "linecolor": "white",
            "ticks": ""
           },
           "bgcolor": "#E5ECF6",
           "caxis": {
            "gridcolor": "white",
            "linecolor": "white",
            "ticks": ""
           }
          },
          "title": {
           "x": 0.05
          },
          "xaxis": {
           "automargin": true,
           "gridcolor": "white",
           "linecolor": "white",
           "ticks": "",
           "title": {
            "standoff": 15
           },
           "zerolinecolor": "white",
           "zerolinewidth": 2
          },
          "yaxis": {
           "automargin": true,
           "gridcolor": "white",
           "linecolor": "white",
           "ticks": "",
           "title": {
            "standoff": 15
           },
           "zerolinecolor": "white",
           "zerolinewidth": 2
          }
         }
        },
        "title": {
         "text": "Åldersfördelning av Sveriges Befolkning"
        },
        "xaxis": {
         "anchor": "y",
         "domain": [
          0,
          1
         ],
         "title": {
          "text": "Ålder"
         }
        },
        "yaxis": {
         "anchor": "x",
         "domain": [
          0,
          1
         ],
         "title": {
          "text": "Befolkning"
         }
        }
       }
      }
     },
     "metadata": {},
     "output_type": "display_data"
    }
   ],
   "source": [
    "fig = px.bar(Vaccinerade_kommun_ålder, x='Ålder', y='Befolkning', title='Åldersfördelning av Sveriges Befolkning', color='Kommun')\n",
    "fig.show()\n"
   ]
  },
  {
   "cell_type": "code",
   "execution_count": 18,
   "metadata": {},
   "outputs": [
    {
     "name": "stdout",
     "output_type": "stream",
     "text": [
      "                       Län  Kommun  \\\n",
      "Län_namn                             \n",
      "Blekinge län           500   53860   \n",
      "Dalarnas län          3000  308210   \n",
      "Gotlands län            90    9800   \n",
      "Gävleborgs län        2100  215290   \n",
      "Hallands län           780   82250   \n",
      "Jämtlands län         1840  186180   \n",
      "Jönköpings län         780   86200   \n",
      "Kalmar län             960  103730   \n",
      "Kronobergs län         560   61410   \n",
      "Norrbottens län       3500  355800   \n",
      "Skåne län             3960  418840   \n",
      "Stockholms län         260   39870   \n",
      "Södermanlands län      360   42730   \n",
      "Uppsala län            240   27880   \n",
      "Värmlands län         2720  282180   \n",
      "Västerbottens län     3600  365480   \n",
      "Västernorrlands län   1540  159320   \n",
      "Västmanlands län      1900  196040   \n",
      "Västra Götalands län  6860  716040   \n",
      "Örebro län            2160  224190   \n",
      "Östergötlands län      650   72760   \n",
      "\n",
      "                                                            Kommun_namn  \\\n",
      "Län_namn                                                                  \n",
      "Blekinge län          OlofströmOlofströmOlofströmOlofströmOlofströmO...   \n",
      "Dalarnas län          VansbroVansbroVansbroVansbroVansbroVansbroVans...   \n",
      "Gotlands län          GotlandGotlandGotlandGotlandGotlandGotlandGotl...   \n",
      "Gävleborgs län        OckelboOckelboOckelboOckelboOckelboOckelboOcke...   \n",
      "Hallands län          HylteHylteHylteHylteHylteHylteHylteHylteHylteH...   \n",
      "Jämtlands län         RagundaRagundaRagundaRagundaRagundaRagundaRagu...   \n",
      "Jönköpings län        AnebyAnebyAnebyAnebyAnebyAnebyAnebyAnebyAnebyA...   \n",
      "Kalmar län            HögsbyHögsbyHögsbyHögsbyHögsbyHögsbyHögsbyHögs...   \n",
      "Kronobergs län        UppvidingeUppvidingeUppvidingeUppvidingeUppvid...   \n",
      "Norrbottens län       ArvidsjaurArvidsjaurArvidsjaurArvidsjaurArvids...   \n",
      "Skåne län             SvalövSvalövSvalövSvalövSvalövSvalövSvalövSval...   \n",
      "Stockholms län        Upplands VäsbyUpplands VäsbyUpplands VäsbyUppl...   \n",
      "Södermanlands län     VingåkerVingåkerVingåkerVingåkerVingåkerVingåk...   \n",
      "Uppsala län           HåboHåboHåboHåboHåboHåboHåboHåboHåboHåboÄlvkar...   \n",
      "Värmlands län         KilKilKilKilKilKilKilKilKilKilEdaEdaEdaEdaEdaE...   \n",
      "Västerbottens län     NordmalingNordmalingNordmalingNordmalingNordma...   \n",
      "Västernorrlands län   ÅngeÅngeÅngeÅngeÅngeÅngeÅngeÅngeÅngeÅngeTimråT...   \n",
      "Västmanlands län      SkinnskattebergSkinnskattebergSkinnskattebergS...   \n",
      "Västra Götalands län  HärrydaHärrydaHärrydaHärrydaHärrydaHärrydaHärr...   \n",
      "Örebro län            LekebergLekebergLekebergLekebergLekebergLekebe...   \n",
      "Östergötlands län     ÖdeshögÖdeshögÖdeshögÖdeshögÖdeshögÖdeshögÖdes...   \n",
      "\n",
      "                                                                  Ålder  \\\n",
      "Län_namn                                                                  \n",
      "Blekinge län          12-1516-1718-2930-3940-4950-5960-6970-7980-899...   \n",
      "Dalarnas län          12-1516-1718-2930-3940-4950-5960-6970-7980-899...   \n",
      "Gotlands län          12-1516-1718-2930-3940-4950-5960-6970-7980-899...   \n",
      "Gävleborgs län        12-1516-1718-2930-3940-4950-5960-6970-7980-899...   \n",
      "Hallands län          12-1516-1718-2930-3940-4950-5960-6970-7980-899...   \n",
      "Jämtlands län         12-1516-1718-2930-3940-4950-5960-6970-7980-899...   \n",
      "Jönköpings län        12-1516-1718-2930-3940-4950-5960-6970-7980-899...   \n",
      "Kalmar län            12-1516-1718-2930-3940-4950-5960-6970-7980-899...   \n",
      "Kronobergs län        12-1516-1718-2930-3940-4950-5960-6970-7980-899...   \n",
      "Norrbottens län       12-1516-1718-2930-3940-4950-5960-6970-7980-899...   \n",
      "Skåne län             12-1516-1718-2930-3940-4950-5960-6970-7980-899...   \n",
      "Stockholms län        12-1516-1718-2930-3940-4950-5960-6970-7980-899...   \n",
      "Södermanlands län     12-1516-1718-2930-3940-4950-5960-6970-7980-899...   \n",
      "Uppsala län           12-1516-1718-2930-3940-4950-5960-6970-7980-899...   \n",
      "Värmlands län         12-1516-1718-2930-3940-4950-5960-6970-7980-899...   \n",
      "Västerbottens län     12-1516-1718-2930-3940-4950-5960-6970-7980-899...   \n",
      "Västernorrlands län   12-1516-1718-2930-3940-4950-5960-6970-7980-899...   \n",
      "Västmanlands län      12-1516-1718-2930-3940-4950-5960-6970-7980-899...   \n",
      "Västra Götalands län  12-1516-1718-2930-3940-4950-5960-6970-7980-899...   \n",
      "Örebro län            12-1516-1718-2930-3940-4950-5960-6970-7980-899...   \n",
      "Östergötlands län     12-1516-1718-2930-3940-4950-5960-6970-7980-899...   \n",
      "\n",
      "                      Befolkning  Antal minst 1 dos  Antal minst 2 doser  \\\n",
      "Län_namn                                                                   \n",
      "Blekinge län              139327             122500               120727   \n",
      "Dalarnas län              252075             221420               218009   \n",
      "Gotlands län               53924              48785                47930   \n",
      "Gävleborgs län            252216             220389               215267   \n",
      "Hallands län              295663             259143               255329   \n",
      "Jämtlands län             115398             102236               100525   \n",
      "Jönköpings län            317355             274960               270266   \n",
      "Kalmar län                216763             190931               188522   \n",
      "Kronobergs län            175503             149141               146494   \n",
      "Norrbottens län           220199             198514               195919   \n",
      "Skåne län                1215047            1007694               985309   \n",
      "Stockholms län           2094721            1741130              1678031   \n",
      "Södermanlands län         261596             227148               221339   \n",
      "Uppsala län               343478             307543               300800   \n",
      "Värmlands län             248314             225281               222677   \n",
      "Västerbottens län         239604             219914               216449   \n",
      "Västernorrlands län       214317             191020               187785   \n",
      "Västmanlands län          242630             208909               203814   \n",
      "Västra Götalands län     1519483            1299275              1266642   \n",
      "Örebro län                266544             233471               229855   \n",
      "Östergötlands län         408633             360972               355896   \n",
      "\n",
      "                      Antal 3 doser  Antal 4 doser  Andel minst 1 dos  \\\n",
      "Län_namn                                                                \n",
      "Blekinge län                92259.0        25059.0          42.822781   \n",
      "Dalarnas län               164296.0        48976.0         128.333151   \n",
      "Gotlands län                37423.0        10885.0           8.903401   \n",
      "Gävleborgs län             159636.0        45642.0          85.168444   \n",
      "Hallands län               191997.0        50583.0          51.554289   \n",
      "Jämtlands län               73332.0        19952.0          68.874393   \n",
      "Jönköpings län             199488.0        51399.0         111.805788   \n",
      "Kalmar län                 147192.0        42395.0         102.155113   \n",
      "Kronobergs län             103745.0        27664.0          65.998583   \n",
      "Norrbottens län            149293.0        40385.0         121.847453   \n",
      "Skåne län                  685222.0       167605.0         275.836219   \n",
      "Stockholms län            1192864.0       236006.0         217.325754   \n",
      "Södermanlands län          160458.0        45462.0          77.212242   \n",
      "Uppsala län                225743.0        50863.0          70.593700   \n",
      "Värmlands län              171924.0        48113.0         140.934303   \n",
      "Västerbottens län          162188.0        40847.0         133.165914   \n",
      "Västernorrlands län        142106.0        38823.0          61.058683   \n",
      "Västmanlands län           148679.0        40471.0          83.648946   \n",
      "Västra Götalands län       882706.0       213347.0         421.116158   \n",
      "Örebro län                 171382.0        44199.0         102.865782   \n",
      "Östergötlands län          269317.0        66191.0         114.310106   \n",
      "\n",
      "                      Andel minst 2 doser  Andel 3 doser  Andel 4 doser  \\\n",
      "Län_namn                                                                  \n",
      "Blekinge län                    42.099632      29.796100      12.407694   \n",
      "Dalarnas län                   126.201528      89.212802      39.655117   \n",
      "Gotlands län                     8.734112       6.224683       2.633847   \n",
      "Gävleborgs län                  82.888678      57.957835      25.300869   \n",
      "Hallands län                    50.652912      35.961010      15.476443   \n",
      "Jämtlands län                   67.517263      46.276112      19.897613   \n",
      "Jönköpings län                 110.072274      77.968563      33.699484   \n",
      "Kalmar län                     100.735698      72.362555      30.979065   \n",
      "Kronobergs län                  64.815791      44.520603      19.655853   \n",
      "Norrbottens län                119.752759      84.318602      35.622020   \n",
      "Skåne län                      270.300928     184.359300      81.298859   \n",
      "Stockholms län                 209.543410     147.763389      62.986918   \n",
      "Södermanlands län               75.010248      52.294232      23.029312   \n",
      "Uppsala län                     69.169924      49.118516      21.099460   \n",
      "Värmlands län                  139.005490      98.562951      42.774429   \n",
      "Västerbottens län              131.148950      92.780840      40.685009   \n",
      "Västernorrlands län             59.521001      42.005091      17.510267   \n",
      "Västmanlands län                81.411815      57.739257      25.648359   \n",
      "Västra Götalands län           411.447042     283.175094     124.173532   \n",
      "Örebro län                     101.213038      71.900405      30.549072   \n",
      "Östergötlands län              112.919992      81.089303      34.531550   \n",
      "\n",
      "                      Nedre_Ålder  \n",
      "Län_namn                           \n",
      "Blekinge län                 2330  \n",
      "Dalarnas län                 6990  \n",
      "Gotlands län                  466  \n",
      "Gävleborgs län               4660  \n",
      "Hallands län                 2796  \n",
      "Jämtlands län                3728  \n",
      "Jönköpings län               6058  \n",
      "Kalmar län                   5592  \n",
      "Kronobergs län               3728  \n",
      "Norrbottens län              6524  \n",
      "Skåne län                   15378  \n",
      "Stockholms län              12116  \n",
      "Södermanlands län            4194  \n",
      "Uppsala län                  3728  \n",
      "Värmlands län                7456  \n",
      "Västerbottens län            6990  \n",
      "Västernorrlands län          3262  \n",
      "Västmanlands län             4660  \n",
      "Västra Götalands län        22834  \n",
      "Örebro län                   5592  \n",
      "Östergötlands län            6058  \n"
     ]
    }
   ],
   "source": [
    "grupperade_län = Vaccinerade_kommun_ålder.groupby('Län_namn').sum()\n",
    "print(grupperade_län)"
   ]
  },
  {
   "cell_type": "code",
   "execution_count": 19,
   "metadata": {},
   "outputs": [
    {
     "data": {
      "application/vnd.plotly.v1+json": {
       "config": {
        "plotlyServerURL": "https://plot.ly"
       },
       "data": [
        {
         "alignmentgroup": "True",
         "hovertemplate": "Län_namn=%{x}<br>Andel_minst_1_dos=%{y}<extra></extra>",
         "legendgroup": "",
         "marker": {
          "color": "#636efa",
          "pattern": {
           "shape": ""
          }
         },
         "name": "",
         "offsetgroup": "",
         "orientation": "v",
         "showlegend": false,
         "textposition": "auto",
         "type": "bar",
         "x": [
          "Blekinge län",
          "Dalarnas län",
          "Gotlands län",
          "Gävleborgs län",
          "Hallands län",
          "Jämtlands län",
          "Jönköpings län",
          "Kalmar län",
          "Kronobergs län",
          "Norrbottens län",
          "Skåne län",
          "Stockholms län",
          "Södermanlands län",
          "Uppsala län",
          "Värmlands län",
          "Västerbottens län",
          "Västernorrlands län",
          "Västmanlands län",
          "Västra Götalands län",
          "Örebro län",
          "Östergötlands län"
         ],
         "xaxis": "x",
         "y": [
          0.8792265677148005,
          0.8783893682435783,
          0.9046992062903345,
          0.8738105433438006,
          0.8764809935636181,
          0.8859425639959098,
          0.8664114319925635,
          0.8808283701554233,
          0.8497917414517131,
          0.9015208970067984,
          0.8293456960924145,
          0.8311989997713299,
          0.8683160292970841,
          0.8953790344650895,
          0.9072424430358337,
          0.9178227408557453,
          0.8912965373722104,
          0.86101883526357,
          0.8550770229084498,
          0.8759191728194969,
          0.8833647796433475
         ],
         "yaxis": "y"
        }
       ],
       "layout": {
        "barmode": "relative",
        "legend": {
         "tracegroupgap": 0
        },
        "template": {
         "data": {
          "bar": [
           {
            "error_x": {
             "color": "#2a3f5f"
            },
            "error_y": {
             "color": "#2a3f5f"
            },
            "marker": {
             "line": {
              "color": "#E5ECF6",
              "width": 0.5
             },
             "pattern": {
              "fillmode": "overlay",
              "size": 10,
              "solidity": 0.2
             }
            },
            "type": "bar"
           }
          ],
          "barpolar": [
           {
            "marker": {
             "line": {
              "color": "#E5ECF6",
              "width": 0.5
             },
             "pattern": {
              "fillmode": "overlay",
              "size": 10,
              "solidity": 0.2
             }
            },
            "type": "barpolar"
           }
          ],
          "carpet": [
           {
            "aaxis": {
             "endlinecolor": "#2a3f5f",
             "gridcolor": "white",
             "linecolor": "white",
             "minorgridcolor": "white",
             "startlinecolor": "#2a3f5f"
            },
            "baxis": {
             "endlinecolor": "#2a3f5f",
             "gridcolor": "white",
             "linecolor": "white",
             "minorgridcolor": "white",
             "startlinecolor": "#2a3f5f"
            },
            "type": "carpet"
           }
          ],
          "choropleth": [
           {
            "colorbar": {
             "outlinewidth": 0,
             "ticks": ""
            },
            "type": "choropleth"
           }
          ],
          "contour": [
           {
            "colorbar": {
             "outlinewidth": 0,
             "ticks": ""
            },
            "colorscale": [
             [
              0,
              "#0d0887"
             ],
             [
              0.1111111111111111,
              "#46039f"
             ],
             [
              0.2222222222222222,
              "#7201a8"
             ],
             [
              0.3333333333333333,
              "#9c179e"
             ],
             [
              0.4444444444444444,
              "#bd3786"
             ],
             [
              0.5555555555555556,
              "#d8576b"
             ],
             [
              0.6666666666666666,
              "#ed7953"
             ],
             [
              0.7777777777777778,
              "#fb9f3a"
             ],
             [
              0.8888888888888888,
              "#fdca26"
             ],
             [
              1,
              "#f0f921"
             ]
            ],
            "type": "contour"
           }
          ],
          "contourcarpet": [
           {
            "colorbar": {
             "outlinewidth": 0,
             "ticks": ""
            },
            "type": "contourcarpet"
           }
          ],
          "heatmap": [
           {
            "colorbar": {
             "outlinewidth": 0,
             "ticks": ""
            },
            "colorscale": [
             [
              0,
              "#0d0887"
             ],
             [
              0.1111111111111111,
              "#46039f"
             ],
             [
              0.2222222222222222,
              "#7201a8"
             ],
             [
              0.3333333333333333,
              "#9c179e"
             ],
             [
              0.4444444444444444,
              "#bd3786"
             ],
             [
              0.5555555555555556,
              "#d8576b"
             ],
             [
              0.6666666666666666,
              "#ed7953"
             ],
             [
              0.7777777777777778,
              "#fb9f3a"
             ],
             [
              0.8888888888888888,
              "#fdca26"
             ],
             [
              1,
              "#f0f921"
             ]
            ],
            "type": "heatmap"
           }
          ],
          "heatmapgl": [
           {
            "colorbar": {
             "outlinewidth": 0,
             "ticks": ""
            },
            "colorscale": [
             [
              0,
              "#0d0887"
             ],
             [
              0.1111111111111111,
              "#46039f"
             ],
             [
              0.2222222222222222,
              "#7201a8"
             ],
             [
              0.3333333333333333,
              "#9c179e"
             ],
             [
              0.4444444444444444,
              "#bd3786"
             ],
             [
              0.5555555555555556,
              "#d8576b"
             ],
             [
              0.6666666666666666,
              "#ed7953"
             ],
             [
              0.7777777777777778,
              "#fb9f3a"
             ],
             [
              0.8888888888888888,
              "#fdca26"
             ],
             [
              1,
              "#f0f921"
             ]
            ],
            "type": "heatmapgl"
           }
          ],
          "histogram": [
           {
            "marker": {
             "pattern": {
              "fillmode": "overlay",
              "size": 10,
              "solidity": 0.2
             }
            },
            "type": "histogram"
           }
          ],
          "histogram2d": [
           {
            "colorbar": {
             "outlinewidth": 0,
             "ticks": ""
            },
            "colorscale": [
             [
              0,
              "#0d0887"
             ],
             [
              0.1111111111111111,
              "#46039f"
             ],
             [
              0.2222222222222222,
              "#7201a8"
             ],
             [
              0.3333333333333333,
              "#9c179e"
             ],
             [
              0.4444444444444444,
              "#bd3786"
             ],
             [
              0.5555555555555556,
              "#d8576b"
             ],
             [
              0.6666666666666666,
              "#ed7953"
             ],
             [
              0.7777777777777778,
              "#fb9f3a"
             ],
             [
              0.8888888888888888,
              "#fdca26"
             ],
             [
              1,
              "#f0f921"
             ]
            ],
            "type": "histogram2d"
           }
          ],
          "histogram2dcontour": [
           {
            "colorbar": {
             "outlinewidth": 0,
             "ticks": ""
            },
            "colorscale": [
             [
              0,
              "#0d0887"
             ],
             [
              0.1111111111111111,
              "#46039f"
             ],
             [
              0.2222222222222222,
              "#7201a8"
             ],
             [
              0.3333333333333333,
              "#9c179e"
             ],
             [
              0.4444444444444444,
              "#bd3786"
             ],
             [
              0.5555555555555556,
              "#d8576b"
             ],
             [
              0.6666666666666666,
              "#ed7953"
             ],
             [
              0.7777777777777778,
              "#fb9f3a"
             ],
             [
              0.8888888888888888,
              "#fdca26"
             ],
             [
              1,
              "#f0f921"
             ]
            ],
            "type": "histogram2dcontour"
           }
          ],
          "mesh3d": [
           {
            "colorbar": {
             "outlinewidth": 0,
             "ticks": ""
            },
            "type": "mesh3d"
           }
          ],
          "parcoords": [
           {
            "line": {
             "colorbar": {
              "outlinewidth": 0,
              "ticks": ""
             }
            },
            "type": "parcoords"
           }
          ],
          "pie": [
           {
            "automargin": true,
            "type": "pie"
           }
          ],
          "scatter": [
           {
            "fillpattern": {
             "fillmode": "overlay",
             "size": 10,
             "solidity": 0.2
            },
            "type": "scatter"
           }
          ],
          "scatter3d": [
           {
            "line": {
             "colorbar": {
              "outlinewidth": 0,
              "ticks": ""
             }
            },
            "marker": {
             "colorbar": {
              "outlinewidth": 0,
              "ticks": ""
             }
            },
            "type": "scatter3d"
           }
          ],
          "scattercarpet": [
           {
            "marker": {
             "colorbar": {
              "outlinewidth": 0,
              "ticks": ""
             }
            },
            "type": "scattercarpet"
           }
          ],
          "scattergeo": [
           {
            "marker": {
             "colorbar": {
              "outlinewidth": 0,
              "ticks": ""
             }
            },
            "type": "scattergeo"
           }
          ],
          "scattergl": [
           {
            "marker": {
             "colorbar": {
              "outlinewidth": 0,
              "ticks": ""
             }
            },
            "type": "scattergl"
           }
          ],
          "scattermapbox": [
           {
            "marker": {
             "colorbar": {
              "outlinewidth": 0,
              "ticks": ""
             }
            },
            "type": "scattermapbox"
           }
          ],
          "scatterpolar": [
           {
            "marker": {
             "colorbar": {
              "outlinewidth": 0,
              "ticks": ""
             }
            },
            "type": "scatterpolar"
           }
          ],
          "scatterpolargl": [
           {
            "marker": {
             "colorbar": {
              "outlinewidth": 0,
              "ticks": ""
             }
            },
            "type": "scatterpolargl"
           }
          ],
          "scatterternary": [
           {
            "marker": {
             "colorbar": {
              "outlinewidth": 0,
              "ticks": ""
             }
            },
            "type": "scatterternary"
           }
          ],
          "surface": [
           {
            "colorbar": {
             "outlinewidth": 0,
             "ticks": ""
            },
            "colorscale": [
             [
              0,
              "#0d0887"
             ],
             [
              0.1111111111111111,
              "#46039f"
             ],
             [
              0.2222222222222222,
              "#7201a8"
             ],
             [
              0.3333333333333333,
              "#9c179e"
             ],
             [
              0.4444444444444444,
              "#bd3786"
             ],
             [
              0.5555555555555556,
              "#d8576b"
             ],
             [
              0.6666666666666666,
              "#ed7953"
             ],
             [
              0.7777777777777778,
              "#fb9f3a"
             ],
             [
              0.8888888888888888,
              "#fdca26"
             ],
             [
              1,
              "#f0f921"
             ]
            ],
            "type": "surface"
           }
          ],
          "table": [
           {
            "cells": {
             "fill": {
              "color": "#EBF0F8"
             },
             "line": {
              "color": "white"
             }
            },
            "header": {
             "fill": {
              "color": "#C8D4E3"
             },
             "line": {
              "color": "white"
             }
            },
            "type": "table"
           }
          ]
         },
         "layout": {
          "annotationdefaults": {
           "arrowcolor": "#2a3f5f",
           "arrowhead": 0,
           "arrowwidth": 1
          },
          "autotypenumbers": "strict",
          "coloraxis": {
           "colorbar": {
            "outlinewidth": 0,
            "ticks": ""
           }
          },
          "colorscale": {
           "diverging": [
            [
             0,
             "#8e0152"
            ],
            [
             0.1,
             "#c51b7d"
            ],
            [
             0.2,
             "#de77ae"
            ],
            [
             0.3,
             "#f1b6da"
            ],
            [
             0.4,
             "#fde0ef"
            ],
            [
             0.5,
             "#f7f7f7"
            ],
            [
             0.6,
             "#e6f5d0"
            ],
            [
             0.7,
             "#b8e186"
            ],
            [
             0.8,
             "#7fbc41"
            ],
            [
             0.9,
             "#4d9221"
            ],
            [
             1,
             "#276419"
            ]
           ],
           "sequential": [
            [
             0,
             "#0d0887"
            ],
            [
             0.1111111111111111,
             "#46039f"
            ],
            [
             0.2222222222222222,
             "#7201a8"
            ],
            [
             0.3333333333333333,
             "#9c179e"
            ],
            [
             0.4444444444444444,
             "#bd3786"
            ],
            [
             0.5555555555555556,
             "#d8576b"
            ],
            [
             0.6666666666666666,
             "#ed7953"
            ],
            [
             0.7777777777777778,
             "#fb9f3a"
            ],
            [
             0.8888888888888888,
             "#fdca26"
            ],
            [
             1,
             "#f0f921"
            ]
           ],
           "sequentialminus": [
            [
             0,
             "#0d0887"
            ],
            [
             0.1111111111111111,
             "#46039f"
            ],
            [
             0.2222222222222222,
             "#7201a8"
            ],
            [
             0.3333333333333333,
             "#9c179e"
            ],
            [
             0.4444444444444444,
             "#bd3786"
            ],
            [
             0.5555555555555556,
             "#d8576b"
            ],
            [
             0.6666666666666666,
             "#ed7953"
            ],
            [
             0.7777777777777778,
             "#fb9f3a"
            ],
            [
             0.8888888888888888,
             "#fdca26"
            ],
            [
             1,
             "#f0f921"
            ]
           ]
          },
          "colorway": [
           "#636efa",
           "#EF553B",
           "#00cc96",
           "#ab63fa",
           "#FFA15A",
           "#19d3f3",
           "#FF6692",
           "#B6E880",
           "#FF97FF",
           "#FECB52"
          ],
          "font": {
           "color": "#2a3f5f"
          },
          "geo": {
           "bgcolor": "white",
           "lakecolor": "white",
           "landcolor": "#E5ECF6",
           "showlakes": true,
           "showland": true,
           "subunitcolor": "white"
          },
          "hoverlabel": {
           "align": "left"
          },
          "hovermode": "closest",
          "mapbox": {
           "style": "light"
          },
          "paper_bgcolor": "white",
          "plot_bgcolor": "#E5ECF6",
          "polar": {
           "angularaxis": {
            "gridcolor": "white",
            "linecolor": "white",
            "ticks": ""
           },
           "bgcolor": "#E5ECF6",
           "radialaxis": {
            "gridcolor": "white",
            "linecolor": "white",
            "ticks": ""
           }
          },
          "scene": {
           "xaxis": {
            "backgroundcolor": "#E5ECF6",
            "gridcolor": "white",
            "gridwidth": 2,
            "linecolor": "white",
            "showbackground": true,
            "ticks": "",
            "zerolinecolor": "white"
           },
           "yaxis": {
            "backgroundcolor": "#E5ECF6",
            "gridcolor": "white",
            "gridwidth": 2,
            "linecolor": "white",
            "showbackground": true,
            "ticks": "",
            "zerolinecolor": "white"
           },
           "zaxis": {
            "backgroundcolor": "#E5ECF6",
            "gridcolor": "white",
            "gridwidth": 2,
            "linecolor": "white",
            "showbackground": true,
            "ticks": "",
            "zerolinecolor": "white"
           }
          },
          "shapedefaults": {
           "line": {
            "color": "#2a3f5f"
           }
          },
          "ternary": {
           "aaxis": {
            "gridcolor": "white",
            "linecolor": "white",
            "ticks": ""
           },
           "baxis": {
            "gridcolor": "white",
            "linecolor": "white",
            "ticks": ""
           },
           "bgcolor": "#E5ECF6",
           "caxis": {
            "gridcolor": "white",
            "linecolor": "white",
            "ticks": ""
           }
          },
          "title": {
           "x": 0.05
          },
          "xaxis": {
           "automargin": true,
           "gridcolor": "white",
           "linecolor": "white",
           "ticks": "",
           "title": {
            "standoff": 15
           },
           "zerolinecolor": "white",
           "zerolinewidth": 2
          },
          "yaxis": {
           "automargin": true,
           "gridcolor": "white",
           "linecolor": "white",
           "ticks": "",
           "title": {
            "standoff": 15
           },
           "zerolinecolor": "white",
           "zerolinewidth": 2
          }
         }
        },
        "title": {
         "text": "Andel_minst_1_dos per Län"
        },
        "xaxis": {
         "anchor": "y",
         "domain": [
          0,
          1
         ],
         "title": {
          "text": "Län_namn"
         }
        },
        "yaxis": {
         "anchor": "x",
         "domain": [
          0,
          1
         ],
         "title": {
          "text": "Andel_minst_1_dos"
         }
        }
       }
      }
     },
     "metadata": {},
     "output_type": "display_data"
    },
    {
     "data": {
      "application/vnd.plotly.v1+json": {
       "config": {
        "plotlyServerURL": "https://plot.ly"
       },
       "data": [
        {
         "alignmentgroup": "True",
         "hovertemplate": "Län_namn=%{x}<br>Andel_minst_2_doser=%{y}<extra></extra>",
         "legendgroup": "",
         "marker": {
          "color": "#636efa",
          "pattern": {
           "shape": ""
          }
         },
         "name": "",
         "offsetgroup": "",
         "orientation": "v",
         "showlegend": false,
         "textposition": "auto",
         "type": "bar",
         "x": [
          "Blekinge län",
          "Dalarnas län",
          "Gotlands län",
          "Gävleborgs län",
          "Hallands län",
          "Jämtlands län",
          "Jönköpings län",
          "Kalmar län",
          "Kronobergs län",
          "Norrbottens län",
          "Skåne län",
          "Stockholms län",
          "Södermanlands län",
          "Uppsala län",
          "Värmlands län",
          "Västerbottens län",
          "Västernorrlands län",
          "Västmanlands län",
          "Västra Götalands län",
          "Örebro län",
          "Östergötlands län"
         ],
         "xaxis": "x",
         "y": [
          0.8665011089020793,
          0.864857681245661,
          0.8888435575995846,
          0.8535025533669554,
          0.8635811718070912,
          0.871115617255065,
          0.851620425076019,
          0.8697148498590627,
          0.8347093781872674,
          0.8897361023437891,
          0.8109225404449375,
          0.8010761337667403,
          0.8461100322634902,
          0.875747500567722,
          0.8967557205795887,
          0.9033613796096893,
          0.8762020744971234,
          0.8400197832090014,
          0.8336006391647686,
          0.8623529323488804,
          0.8709428753918553
         ],
         "yaxis": "y"
        }
       ],
       "layout": {
        "barmode": "relative",
        "legend": {
         "tracegroupgap": 0
        },
        "template": {
         "data": {
          "bar": [
           {
            "error_x": {
             "color": "#2a3f5f"
            },
            "error_y": {
             "color": "#2a3f5f"
            },
            "marker": {
             "line": {
              "color": "#E5ECF6",
              "width": 0.5
             },
             "pattern": {
              "fillmode": "overlay",
              "size": 10,
              "solidity": 0.2
             }
            },
            "type": "bar"
           }
          ],
          "barpolar": [
           {
            "marker": {
             "line": {
              "color": "#E5ECF6",
              "width": 0.5
             },
             "pattern": {
              "fillmode": "overlay",
              "size": 10,
              "solidity": 0.2
             }
            },
            "type": "barpolar"
           }
          ],
          "carpet": [
           {
            "aaxis": {
             "endlinecolor": "#2a3f5f",
             "gridcolor": "white",
             "linecolor": "white",
             "minorgridcolor": "white",
             "startlinecolor": "#2a3f5f"
            },
            "baxis": {
             "endlinecolor": "#2a3f5f",
             "gridcolor": "white",
             "linecolor": "white",
             "minorgridcolor": "white",
             "startlinecolor": "#2a3f5f"
            },
            "type": "carpet"
           }
          ],
          "choropleth": [
           {
            "colorbar": {
             "outlinewidth": 0,
             "ticks": ""
            },
            "type": "choropleth"
           }
          ],
          "contour": [
           {
            "colorbar": {
             "outlinewidth": 0,
             "ticks": ""
            },
            "colorscale": [
             [
              0,
              "#0d0887"
             ],
             [
              0.1111111111111111,
              "#46039f"
             ],
             [
              0.2222222222222222,
              "#7201a8"
             ],
             [
              0.3333333333333333,
              "#9c179e"
             ],
             [
              0.4444444444444444,
              "#bd3786"
             ],
             [
              0.5555555555555556,
              "#d8576b"
             ],
             [
              0.6666666666666666,
              "#ed7953"
             ],
             [
              0.7777777777777778,
              "#fb9f3a"
             ],
             [
              0.8888888888888888,
              "#fdca26"
             ],
             [
              1,
              "#f0f921"
             ]
            ],
            "type": "contour"
           }
          ],
          "contourcarpet": [
           {
            "colorbar": {
             "outlinewidth": 0,
             "ticks": ""
            },
            "type": "contourcarpet"
           }
          ],
          "heatmap": [
           {
            "colorbar": {
             "outlinewidth": 0,
             "ticks": ""
            },
            "colorscale": [
             [
              0,
              "#0d0887"
             ],
             [
              0.1111111111111111,
              "#46039f"
             ],
             [
              0.2222222222222222,
              "#7201a8"
             ],
             [
              0.3333333333333333,
              "#9c179e"
             ],
             [
              0.4444444444444444,
              "#bd3786"
             ],
             [
              0.5555555555555556,
              "#d8576b"
             ],
             [
              0.6666666666666666,
              "#ed7953"
             ],
             [
              0.7777777777777778,
              "#fb9f3a"
             ],
             [
              0.8888888888888888,
              "#fdca26"
             ],
             [
              1,
              "#f0f921"
             ]
            ],
            "type": "heatmap"
           }
          ],
          "heatmapgl": [
           {
            "colorbar": {
             "outlinewidth": 0,
             "ticks": ""
            },
            "colorscale": [
             [
              0,
              "#0d0887"
             ],
             [
              0.1111111111111111,
              "#46039f"
             ],
             [
              0.2222222222222222,
              "#7201a8"
             ],
             [
              0.3333333333333333,
              "#9c179e"
             ],
             [
              0.4444444444444444,
              "#bd3786"
             ],
             [
              0.5555555555555556,
              "#d8576b"
             ],
             [
              0.6666666666666666,
              "#ed7953"
             ],
             [
              0.7777777777777778,
              "#fb9f3a"
             ],
             [
              0.8888888888888888,
              "#fdca26"
             ],
             [
              1,
              "#f0f921"
             ]
            ],
            "type": "heatmapgl"
           }
          ],
          "histogram": [
           {
            "marker": {
             "pattern": {
              "fillmode": "overlay",
              "size": 10,
              "solidity": 0.2
             }
            },
            "type": "histogram"
           }
          ],
          "histogram2d": [
           {
            "colorbar": {
             "outlinewidth": 0,
             "ticks": ""
            },
            "colorscale": [
             [
              0,
              "#0d0887"
             ],
             [
              0.1111111111111111,
              "#46039f"
             ],
             [
              0.2222222222222222,
              "#7201a8"
             ],
             [
              0.3333333333333333,
              "#9c179e"
             ],
             [
              0.4444444444444444,
              "#bd3786"
             ],
             [
              0.5555555555555556,
              "#d8576b"
             ],
             [
              0.6666666666666666,
              "#ed7953"
             ],
             [
              0.7777777777777778,
              "#fb9f3a"
             ],
             [
              0.8888888888888888,
              "#fdca26"
             ],
             [
              1,
              "#f0f921"
             ]
            ],
            "type": "histogram2d"
           }
          ],
          "histogram2dcontour": [
           {
            "colorbar": {
             "outlinewidth": 0,
             "ticks": ""
            },
            "colorscale": [
             [
              0,
              "#0d0887"
             ],
             [
              0.1111111111111111,
              "#46039f"
             ],
             [
              0.2222222222222222,
              "#7201a8"
             ],
             [
              0.3333333333333333,
              "#9c179e"
             ],
             [
              0.4444444444444444,
              "#bd3786"
             ],
             [
              0.5555555555555556,
              "#d8576b"
             ],
             [
              0.6666666666666666,
              "#ed7953"
             ],
             [
              0.7777777777777778,
              "#fb9f3a"
             ],
             [
              0.8888888888888888,
              "#fdca26"
             ],
             [
              1,
              "#f0f921"
             ]
            ],
            "type": "histogram2dcontour"
           }
          ],
          "mesh3d": [
           {
            "colorbar": {
             "outlinewidth": 0,
             "ticks": ""
            },
            "type": "mesh3d"
           }
          ],
          "parcoords": [
           {
            "line": {
             "colorbar": {
              "outlinewidth": 0,
              "ticks": ""
             }
            },
            "type": "parcoords"
           }
          ],
          "pie": [
           {
            "automargin": true,
            "type": "pie"
           }
          ],
          "scatter": [
           {
            "fillpattern": {
             "fillmode": "overlay",
             "size": 10,
             "solidity": 0.2
            },
            "type": "scatter"
           }
          ],
          "scatter3d": [
           {
            "line": {
             "colorbar": {
              "outlinewidth": 0,
              "ticks": ""
             }
            },
            "marker": {
             "colorbar": {
              "outlinewidth": 0,
              "ticks": ""
             }
            },
            "type": "scatter3d"
           }
          ],
          "scattercarpet": [
           {
            "marker": {
             "colorbar": {
              "outlinewidth": 0,
              "ticks": ""
             }
            },
            "type": "scattercarpet"
           }
          ],
          "scattergeo": [
           {
            "marker": {
             "colorbar": {
              "outlinewidth": 0,
              "ticks": ""
             }
            },
            "type": "scattergeo"
           }
          ],
          "scattergl": [
           {
            "marker": {
             "colorbar": {
              "outlinewidth": 0,
              "ticks": ""
             }
            },
            "type": "scattergl"
           }
          ],
          "scattermapbox": [
           {
            "marker": {
             "colorbar": {
              "outlinewidth": 0,
              "ticks": ""
             }
            },
            "type": "scattermapbox"
           }
          ],
          "scatterpolar": [
           {
            "marker": {
             "colorbar": {
              "outlinewidth": 0,
              "ticks": ""
             }
            },
            "type": "scatterpolar"
           }
          ],
          "scatterpolargl": [
           {
            "marker": {
             "colorbar": {
              "outlinewidth": 0,
              "ticks": ""
             }
            },
            "type": "scatterpolargl"
           }
          ],
          "scatterternary": [
           {
            "marker": {
             "colorbar": {
              "outlinewidth": 0,
              "ticks": ""
             }
            },
            "type": "scatterternary"
           }
          ],
          "surface": [
           {
            "colorbar": {
             "outlinewidth": 0,
             "ticks": ""
            },
            "colorscale": [
             [
              0,
              "#0d0887"
             ],
             [
              0.1111111111111111,
              "#46039f"
             ],
             [
              0.2222222222222222,
              "#7201a8"
             ],
             [
              0.3333333333333333,
              "#9c179e"
             ],
             [
              0.4444444444444444,
              "#bd3786"
             ],
             [
              0.5555555555555556,
              "#d8576b"
             ],
             [
              0.6666666666666666,
              "#ed7953"
             ],
             [
              0.7777777777777778,
              "#fb9f3a"
             ],
             [
              0.8888888888888888,
              "#fdca26"
             ],
             [
              1,
              "#f0f921"
             ]
            ],
            "type": "surface"
           }
          ],
          "table": [
           {
            "cells": {
             "fill": {
              "color": "#EBF0F8"
             },
             "line": {
              "color": "white"
             }
            },
            "header": {
             "fill": {
              "color": "#C8D4E3"
             },
             "line": {
              "color": "white"
             }
            },
            "type": "table"
           }
          ]
         },
         "layout": {
          "annotationdefaults": {
           "arrowcolor": "#2a3f5f",
           "arrowhead": 0,
           "arrowwidth": 1
          },
          "autotypenumbers": "strict",
          "coloraxis": {
           "colorbar": {
            "outlinewidth": 0,
            "ticks": ""
           }
          },
          "colorscale": {
           "diverging": [
            [
             0,
             "#8e0152"
            ],
            [
             0.1,
             "#c51b7d"
            ],
            [
             0.2,
             "#de77ae"
            ],
            [
             0.3,
             "#f1b6da"
            ],
            [
             0.4,
             "#fde0ef"
            ],
            [
             0.5,
             "#f7f7f7"
            ],
            [
             0.6,
             "#e6f5d0"
            ],
            [
             0.7,
             "#b8e186"
            ],
            [
             0.8,
             "#7fbc41"
            ],
            [
             0.9,
             "#4d9221"
            ],
            [
             1,
             "#276419"
            ]
           ],
           "sequential": [
            [
             0,
             "#0d0887"
            ],
            [
             0.1111111111111111,
             "#46039f"
            ],
            [
             0.2222222222222222,
             "#7201a8"
            ],
            [
             0.3333333333333333,
             "#9c179e"
            ],
            [
             0.4444444444444444,
             "#bd3786"
            ],
            [
             0.5555555555555556,
             "#d8576b"
            ],
            [
             0.6666666666666666,
             "#ed7953"
            ],
            [
             0.7777777777777778,
             "#fb9f3a"
            ],
            [
             0.8888888888888888,
             "#fdca26"
            ],
            [
             1,
             "#f0f921"
            ]
           ],
           "sequentialminus": [
            [
             0,
             "#0d0887"
            ],
            [
             0.1111111111111111,
             "#46039f"
            ],
            [
             0.2222222222222222,
             "#7201a8"
            ],
            [
             0.3333333333333333,
             "#9c179e"
            ],
            [
             0.4444444444444444,
             "#bd3786"
            ],
            [
             0.5555555555555556,
             "#d8576b"
            ],
            [
             0.6666666666666666,
             "#ed7953"
            ],
            [
             0.7777777777777778,
             "#fb9f3a"
            ],
            [
             0.8888888888888888,
             "#fdca26"
            ],
            [
             1,
             "#f0f921"
            ]
           ]
          },
          "colorway": [
           "#636efa",
           "#EF553B",
           "#00cc96",
           "#ab63fa",
           "#FFA15A",
           "#19d3f3",
           "#FF6692",
           "#B6E880",
           "#FF97FF",
           "#FECB52"
          ],
          "font": {
           "color": "#2a3f5f"
          },
          "geo": {
           "bgcolor": "white",
           "lakecolor": "white",
           "landcolor": "#E5ECF6",
           "showlakes": true,
           "showland": true,
           "subunitcolor": "white"
          },
          "hoverlabel": {
           "align": "left"
          },
          "hovermode": "closest",
          "mapbox": {
           "style": "light"
          },
          "paper_bgcolor": "white",
          "plot_bgcolor": "#E5ECF6",
          "polar": {
           "angularaxis": {
            "gridcolor": "white",
            "linecolor": "white",
            "ticks": ""
           },
           "bgcolor": "#E5ECF6",
           "radialaxis": {
            "gridcolor": "white",
            "linecolor": "white",
            "ticks": ""
           }
          },
          "scene": {
           "xaxis": {
            "backgroundcolor": "#E5ECF6",
            "gridcolor": "white",
            "gridwidth": 2,
            "linecolor": "white",
            "showbackground": true,
            "ticks": "",
            "zerolinecolor": "white"
           },
           "yaxis": {
            "backgroundcolor": "#E5ECF6",
            "gridcolor": "white",
            "gridwidth": 2,
            "linecolor": "white",
            "showbackground": true,
            "ticks": "",
            "zerolinecolor": "white"
           },
           "zaxis": {
            "backgroundcolor": "#E5ECF6",
            "gridcolor": "white",
            "gridwidth": 2,
            "linecolor": "white",
            "showbackground": true,
            "ticks": "",
            "zerolinecolor": "white"
           }
          },
          "shapedefaults": {
           "line": {
            "color": "#2a3f5f"
           }
          },
          "ternary": {
           "aaxis": {
            "gridcolor": "white",
            "linecolor": "white",
            "ticks": ""
           },
           "baxis": {
            "gridcolor": "white",
            "linecolor": "white",
            "ticks": ""
           },
           "bgcolor": "#E5ECF6",
           "caxis": {
            "gridcolor": "white",
            "linecolor": "white",
            "ticks": ""
           }
          },
          "title": {
           "x": 0.05
          },
          "xaxis": {
           "automargin": true,
           "gridcolor": "white",
           "linecolor": "white",
           "ticks": "",
           "title": {
            "standoff": 15
           },
           "zerolinecolor": "white",
           "zerolinewidth": 2
          },
          "yaxis": {
           "automargin": true,
           "gridcolor": "white",
           "linecolor": "white",
           "ticks": "",
           "title": {
            "standoff": 15
           },
           "zerolinecolor": "white",
           "zerolinewidth": 2
          }
         }
        },
        "title": {
         "text": "Andel_minst_2_doser per Län"
        },
        "xaxis": {
         "anchor": "y",
         "domain": [
          0,
          1
         ],
         "title": {
          "text": "Län_namn"
         }
        },
        "yaxis": {
         "anchor": "x",
         "domain": [
          0,
          1
         ],
         "title": {
          "text": "Andel_minst_2_doser"
         }
        }
       }
      }
     },
     "metadata": {},
     "output_type": "display_data"
    },
    {
     "data": {
      "application/vnd.plotly.v1+json": {
       "config": {
        "plotlyServerURL": "https://plot.ly"
       },
       "data": [
        {
         "alignmentgroup": "True",
         "hovertemplate": "Län_namn=%{x}<br>Andel_3_doser=%{y}<extra></extra>",
         "legendgroup": "",
         "marker": {
          "color": "#636efa",
          "pattern": {
           "shape": ""
          }
         },
         "name": "",
         "offsetgroup": "",
         "orientation": "v",
         "showlegend": false,
         "textposition": "auto",
         "type": "bar",
         "x": [
          "Blekinge län",
          "Dalarnas län",
          "Gotlands län",
          "Gävleborgs län",
          "Hallands län",
          "Jämtlands län",
          "Jönköpings län",
          "Kalmar län",
          "Kronobergs län",
          "Norrbottens län",
          "Skåne län",
          "Stockholms län",
          "Södermanlands län",
          "Uppsala län",
          "Värmlands län",
          "Västerbottens län",
          "Västernorrlands län",
          "Västmanlands län",
          "Västra Götalands län",
          "Örebro län",
          "Östergötlands län"
         ],
         "xaxis": "x",
         "y": [
          0.6621760319248962,
          0.6517742735297034,
          0.693995252577702,
          0.6329336758968503,
          0.6493778389585441,
          0.6354702854468881,
          0.6285957366356288,
          0.6790457781078875,
          0.5911294963618855,
          0.67799127153166,
          0.5639469090496088,
          0.5694619951774007,
          0.6133809385464609,
          0.6572269548559151,
          0.6923653116618474,
          0.6769002186941787,
          0.66306452591255,
          0.6127807773152537,
          0.580925222592158,
          0.6429782700042019,
          0.6590681614064454
         ],
         "yaxis": "y"
        }
       ],
       "layout": {
        "barmode": "relative",
        "legend": {
         "tracegroupgap": 0
        },
        "template": {
         "data": {
          "bar": [
           {
            "error_x": {
             "color": "#2a3f5f"
            },
            "error_y": {
             "color": "#2a3f5f"
            },
            "marker": {
             "line": {
              "color": "#E5ECF6",
              "width": 0.5
             },
             "pattern": {
              "fillmode": "overlay",
              "size": 10,
              "solidity": 0.2
             }
            },
            "type": "bar"
           }
          ],
          "barpolar": [
           {
            "marker": {
             "line": {
              "color": "#E5ECF6",
              "width": 0.5
             },
             "pattern": {
              "fillmode": "overlay",
              "size": 10,
              "solidity": 0.2
             }
            },
            "type": "barpolar"
           }
          ],
          "carpet": [
           {
            "aaxis": {
             "endlinecolor": "#2a3f5f",
             "gridcolor": "white",
             "linecolor": "white",
             "minorgridcolor": "white",
             "startlinecolor": "#2a3f5f"
            },
            "baxis": {
             "endlinecolor": "#2a3f5f",
             "gridcolor": "white",
             "linecolor": "white",
             "minorgridcolor": "white",
             "startlinecolor": "#2a3f5f"
            },
            "type": "carpet"
           }
          ],
          "choropleth": [
           {
            "colorbar": {
             "outlinewidth": 0,
             "ticks": ""
            },
            "type": "choropleth"
           }
          ],
          "contour": [
           {
            "colorbar": {
             "outlinewidth": 0,
             "ticks": ""
            },
            "colorscale": [
             [
              0,
              "#0d0887"
             ],
             [
              0.1111111111111111,
              "#46039f"
             ],
             [
              0.2222222222222222,
              "#7201a8"
             ],
             [
              0.3333333333333333,
              "#9c179e"
             ],
             [
              0.4444444444444444,
              "#bd3786"
             ],
             [
              0.5555555555555556,
              "#d8576b"
             ],
             [
              0.6666666666666666,
              "#ed7953"
             ],
             [
              0.7777777777777778,
              "#fb9f3a"
             ],
             [
              0.8888888888888888,
              "#fdca26"
             ],
             [
              1,
              "#f0f921"
             ]
            ],
            "type": "contour"
           }
          ],
          "contourcarpet": [
           {
            "colorbar": {
             "outlinewidth": 0,
             "ticks": ""
            },
            "type": "contourcarpet"
           }
          ],
          "heatmap": [
           {
            "colorbar": {
             "outlinewidth": 0,
             "ticks": ""
            },
            "colorscale": [
             [
              0,
              "#0d0887"
             ],
             [
              0.1111111111111111,
              "#46039f"
             ],
             [
              0.2222222222222222,
              "#7201a8"
             ],
             [
              0.3333333333333333,
              "#9c179e"
             ],
             [
              0.4444444444444444,
              "#bd3786"
             ],
             [
              0.5555555555555556,
              "#d8576b"
             ],
             [
              0.6666666666666666,
              "#ed7953"
             ],
             [
              0.7777777777777778,
              "#fb9f3a"
             ],
             [
              0.8888888888888888,
              "#fdca26"
             ],
             [
              1,
              "#f0f921"
             ]
            ],
            "type": "heatmap"
           }
          ],
          "heatmapgl": [
           {
            "colorbar": {
             "outlinewidth": 0,
             "ticks": ""
            },
            "colorscale": [
             [
              0,
              "#0d0887"
             ],
             [
              0.1111111111111111,
              "#46039f"
             ],
             [
              0.2222222222222222,
              "#7201a8"
             ],
             [
              0.3333333333333333,
              "#9c179e"
             ],
             [
              0.4444444444444444,
              "#bd3786"
             ],
             [
              0.5555555555555556,
              "#d8576b"
             ],
             [
              0.6666666666666666,
              "#ed7953"
             ],
             [
              0.7777777777777778,
              "#fb9f3a"
             ],
             [
              0.8888888888888888,
              "#fdca26"
             ],
             [
              1,
              "#f0f921"
             ]
            ],
            "type": "heatmapgl"
           }
          ],
          "histogram": [
           {
            "marker": {
             "pattern": {
              "fillmode": "overlay",
              "size": 10,
              "solidity": 0.2
             }
            },
            "type": "histogram"
           }
          ],
          "histogram2d": [
           {
            "colorbar": {
             "outlinewidth": 0,
             "ticks": ""
            },
            "colorscale": [
             [
              0,
              "#0d0887"
             ],
             [
              0.1111111111111111,
              "#46039f"
             ],
             [
              0.2222222222222222,
              "#7201a8"
             ],
             [
              0.3333333333333333,
              "#9c179e"
             ],
             [
              0.4444444444444444,
              "#bd3786"
             ],
             [
              0.5555555555555556,
              "#d8576b"
             ],
             [
              0.6666666666666666,
              "#ed7953"
             ],
             [
              0.7777777777777778,
              "#fb9f3a"
             ],
             [
              0.8888888888888888,
              "#fdca26"
             ],
             [
              1,
              "#f0f921"
             ]
            ],
            "type": "histogram2d"
           }
          ],
          "histogram2dcontour": [
           {
            "colorbar": {
             "outlinewidth": 0,
             "ticks": ""
            },
            "colorscale": [
             [
              0,
              "#0d0887"
             ],
             [
              0.1111111111111111,
              "#46039f"
             ],
             [
              0.2222222222222222,
              "#7201a8"
             ],
             [
              0.3333333333333333,
              "#9c179e"
             ],
             [
              0.4444444444444444,
              "#bd3786"
             ],
             [
              0.5555555555555556,
              "#d8576b"
             ],
             [
              0.6666666666666666,
              "#ed7953"
             ],
             [
              0.7777777777777778,
              "#fb9f3a"
             ],
             [
              0.8888888888888888,
              "#fdca26"
             ],
             [
              1,
              "#f0f921"
             ]
            ],
            "type": "histogram2dcontour"
           }
          ],
          "mesh3d": [
           {
            "colorbar": {
             "outlinewidth": 0,
             "ticks": ""
            },
            "type": "mesh3d"
           }
          ],
          "parcoords": [
           {
            "line": {
             "colorbar": {
              "outlinewidth": 0,
              "ticks": ""
             }
            },
            "type": "parcoords"
           }
          ],
          "pie": [
           {
            "automargin": true,
            "type": "pie"
           }
          ],
          "scatter": [
           {
            "fillpattern": {
             "fillmode": "overlay",
             "size": 10,
             "solidity": 0.2
            },
            "type": "scatter"
           }
          ],
          "scatter3d": [
           {
            "line": {
             "colorbar": {
              "outlinewidth": 0,
              "ticks": ""
             }
            },
            "marker": {
             "colorbar": {
              "outlinewidth": 0,
              "ticks": ""
             }
            },
            "type": "scatter3d"
           }
          ],
          "scattercarpet": [
           {
            "marker": {
             "colorbar": {
              "outlinewidth": 0,
              "ticks": ""
             }
            },
            "type": "scattercarpet"
           }
          ],
          "scattergeo": [
           {
            "marker": {
             "colorbar": {
              "outlinewidth": 0,
              "ticks": ""
             }
            },
            "type": "scattergeo"
           }
          ],
          "scattergl": [
           {
            "marker": {
             "colorbar": {
              "outlinewidth": 0,
              "ticks": ""
             }
            },
            "type": "scattergl"
           }
          ],
          "scattermapbox": [
           {
            "marker": {
             "colorbar": {
              "outlinewidth": 0,
              "ticks": ""
             }
            },
            "type": "scattermapbox"
           }
          ],
          "scatterpolar": [
           {
            "marker": {
             "colorbar": {
              "outlinewidth": 0,
              "ticks": ""
             }
            },
            "type": "scatterpolar"
           }
          ],
          "scatterpolargl": [
           {
            "marker": {
             "colorbar": {
              "outlinewidth": 0,
              "ticks": ""
             }
            },
            "type": "scatterpolargl"
           }
          ],
          "scatterternary": [
           {
            "marker": {
             "colorbar": {
              "outlinewidth": 0,
              "ticks": ""
             }
            },
            "type": "scatterternary"
           }
          ],
          "surface": [
           {
            "colorbar": {
             "outlinewidth": 0,
             "ticks": ""
            },
            "colorscale": [
             [
              0,
              "#0d0887"
             ],
             [
              0.1111111111111111,
              "#46039f"
             ],
             [
              0.2222222222222222,
              "#7201a8"
             ],
             [
              0.3333333333333333,
              "#9c179e"
             ],
             [
              0.4444444444444444,
              "#bd3786"
             ],
             [
              0.5555555555555556,
              "#d8576b"
             ],
             [
              0.6666666666666666,
              "#ed7953"
             ],
             [
              0.7777777777777778,
              "#fb9f3a"
             ],
             [
              0.8888888888888888,
              "#fdca26"
             ],
             [
              1,
              "#f0f921"
             ]
            ],
            "type": "surface"
           }
          ],
          "table": [
           {
            "cells": {
             "fill": {
              "color": "#EBF0F8"
             },
             "line": {
              "color": "white"
             }
            },
            "header": {
             "fill": {
              "color": "#C8D4E3"
             },
             "line": {
              "color": "white"
             }
            },
            "type": "table"
           }
          ]
         },
         "layout": {
          "annotationdefaults": {
           "arrowcolor": "#2a3f5f",
           "arrowhead": 0,
           "arrowwidth": 1
          },
          "autotypenumbers": "strict",
          "coloraxis": {
           "colorbar": {
            "outlinewidth": 0,
            "ticks": ""
           }
          },
          "colorscale": {
           "diverging": [
            [
             0,
             "#8e0152"
            ],
            [
             0.1,
             "#c51b7d"
            ],
            [
             0.2,
             "#de77ae"
            ],
            [
             0.3,
             "#f1b6da"
            ],
            [
             0.4,
             "#fde0ef"
            ],
            [
             0.5,
             "#f7f7f7"
            ],
            [
             0.6,
             "#e6f5d0"
            ],
            [
             0.7,
             "#b8e186"
            ],
            [
             0.8,
             "#7fbc41"
            ],
            [
             0.9,
             "#4d9221"
            ],
            [
             1,
             "#276419"
            ]
           ],
           "sequential": [
            [
             0,
             "#0d0887"
            ],
            [
             0.1111111111111111,
             "#46039f"
            ],
            [
             0.2222222222222222,
             "#7201a8"
            ],
            [
             0.3333333333333333,
             "#9c179e"
            ],
            [
             0.4444444444444444,
             "#bd3786"
            ],
            [
             0.5555555555555556,
             "#d8576b"
            ],
            [
             0.6666666666666666,
             "#ed7953"
            ],
            [
             0.7777777777777778,
             "#fb9f3a"
            ],
            [
             0.8888888888888888,
             "#fdca26"
            ],
            [
             1,
             "#f0f921"
            ]
           ],
           "sequentialminus": [
            [
             0,
             "#0d0887"
            ],
            [
             0.1111111111111111,
             "#46039f"
            ],
            [
             0.2222222222222222,
             "#7201a8"
            ],
            [
             0.3333333333333333,
             "#9c179e"
            ],
            [
             0.4444444444444444,
             "#bd3786"
            ],
            [
             0.5555555555555556,
             "#d8576b"
            ],
            [
             0.6666666666666666,
             "#ed7953"
            ],
            [
             0.7777777777777778,
             "#fb9f3a"
            ],
            [
             0.8888888888888888,
             "#fdca26"
            ],
            [
             1,
             "#f0f921"
            ]
           ]
          },
          "colorway": [
           "#636efa",
           "#EF553B",
           "#00cc96",
           "#ab63fa",
           "#FFA15A",
           "#19d3f3",
           "#FF6692",
           "#B6E880",
           "#FF97FF",
           "#FECB52"
          ],
          "font": {
           "color": "#2a3f5f"
          },
          "geo": {
           "bgcolor": "white",
           "lakecolor": "white",
           "landcolor": "#E5ECF6",
           "showlakes": true,
           "showland": true,
           "subunitcolor": "white"
          },
          "hoverlabel": {
           "align": "left"
          },
          "hovermode": "closest",
          "mapbox": {
           "style": "light"
          },
          "paper_bgcolor": "white",
          "plot_bgcolor": "#E5ECF6",
          "polar": {
           "angularaxis": {
            "gridcolor": "white",
            "linecolor": "white",
            "ticks": ""
           },
           "bgcolor": "#E5ECF6",
           "radialaxis": {
            "gridcolor": "white",
            "linecolor": "white",
            "ticks": ""
           }
          },
          "scene": {
           "xaxis": {
            "backgroundcolor": "#E5ECF6",
            "gridcolor": "white",
            "gridwidth": 2,
            "linecolor": "white",
            "showbackground": true,
            "ticks": "",
            "zerolinecolor": "white"
           },
           "yaxis": {
            "backgroundcolor": "#E5ECF6",
            "gridcolor": "white",
            "gridwidth": 2,
            "linecolor": "white",
            "showbackground": true,
            "ticks": "",
            "zerolinecolor": "white"
           },
           "zaxis": {
            "backgroundcolor": "#E5ECF6",
            "gridcolor": "white",
            "gridwidth": 2,
            "linecolor": "white",
            "showbackground": true,
            "ticks": "",
            "zerolinecolor": "white"
           }
          },
          "shapedefaults": {
           "line": {
            "color": "#2a3f5f"
           }
          },
          "ternary": {
           "aaxis": {
            "gridcolor": "white",
            "linecolor": "white",
            "ticks": ""
           },
           "baxis": {
            "gridcolor": "white",
            "linecolor": "white",
            "ticks": ""
           },
           "bgcolor": "#E5ECF6",
           "caxis": {
            "gridcolor": "white",
            "linecolor": "white",
            "ticks": ""
           }
          },
          "title": {
           "x": 0.05
          },
          "xaxis": {
           "automargin": true,
           "gridcolor": "white",
           "linecolor": "white",
           "ticks": "",
           "title": {
            "standoff": 15
           },
           "zerolinecolor": "white",
           "zerolinewidth": 2
          },
          "yaxis": {
           "automargin": true,
           "gridcolor": "white",
           "linecolor": "white",
           "ticks": "",
           "title": {
            "standoff": 15
           },
           "zerolinecolor": "white",
           "zerolinewidth": 2
          }
         }
        },
        "title": {
         "text": "Andel_3_doser per Län"
        },
        "xaxis": {
         "anchor": "y",
         "domain": [
          0,
          1
         ],
         "title": {
          "text": "Län_namn"
         }
        },
        "yaxis": {
         "anchor": "x",
         "domain": [
          0,
          1
         ],
         "title": {
          "text": "Andel_3_doser"
         }
        }
       }
      }
     },
     "metadata": {},
     "output_type": "display_data"
    },
    {
     "data": {
      "application/vnd.plotly.v1+json": {
       "config": {
        "plotlyServerURL": "https://plot.ly"
       },
       "data": [
        {
         "alignmentgroup": "True",
         "hovertemplate": "Län_namn=%{x}<br>Andel_4_doser=%{y}<extra></extra>",
         "legendgroup": "",
         "marker": {
          "color": "#636efa",
          "pattern": {
           "shape": ""
          }
         },
         "name": "",
         "offsetgroup": "",
         "orientation": "v",
         "showlegend": false,
         "textposition": "auto",
         "type": "bar",
         "x": [
          "Blekinge län",
          "Dalarnas län",
          "Gotlands län",
          "Gävleborgs län",
          "Hallands län",
          "Jämtlands län",
          "Jönköpings län",
          "Kalmar län",
          "Kronobergs län",
          "Norrbottens län",
          "Skåne län",
          "Stockholms län",
          "Södermanlands län",
          "Uppsala län",
          "Värmlands län",
          "Västerbottens län",
          "Västernorrlands län",
          "Västmanlands län",
          "Västra Götalands län",
          "Örebro län",
          "Östergötlands län"
         ],
         "xaxis": "x",
         "y": [
          0.17985745763563415,
          0.19429138153327383,
          0.2018581707588458,
          0.18096393567418403,
          0.17108329415584636,
          0.17289727724917242,
          0.16196058042255518,
          0.1955822718821939,
          0.15762693515210566,
          0.18340228611392423,
          0.13794116606188897,
          0.11266703298434493,
          0.17378706096423494,
          0.14808226436627672,
          0.1937587087316865,
          0.1704771205822941,
          0.18114755245734124,
          0.1668013023945926,
          0.14040762548840624,
          0.165822528363047,
          0.16198153355211156
         ],
         "yaxis": "y"
        }
       ],
       "layout": {
        "barmode": "relative",
        "legend": {
         "tracegroupgap": 0
        },
        "template": {
         "data": {
          "bar": [
           {
            "error_x": {
             "color": "#2a3f5f"
            },
            "error_y": {
             "color": "#2a3f5f"
            },
            "marker": {
             "line": {
              "color": "#E5ECF6",
              "width": 0.5
             },
             "pattern": {
              "fillmode": "overlay",
              "size": 10,
              "solidity": 0.2
             }
            },
            "type": "bar"
           }
          ],
          "barpolar": [
           {
            "marker": {
             "line": {
              "color": "#E5ECF6",
              "width": 0.5
             },
             "pattern": {
              "fillmode": "overlay",
              "size": 10,
              "solidity": 0.2
             }
            },
            "type": "barpolar"
           }
          ],
          "carpet": [
           {
            "aaxis": {
             "endlinecolor": "#2a3f5f",
             "gridcolor": "white",
             "linecolor": "white",
             "minorgridcolor": "white",
             "startlinecolor": "#2a3f5f"
            },
            "baxis": {
             "endlinecolor": "#2a3f5f",
             "gridcolor": "white",
             "linecolor": "white",
             "minorgridcolor": "white",
             "startlinecolor": "#2a3f5f"
            },
            "type": "carpet"
           }
          ],
          "choropleth": [
           {
            "colorbar": {
             "outlinewidth": 0,
             "ticks": ""
            },
            "type": "choropleth"
           }
          ],
          "contour": [
           {
            "colorbar": {
             "outlinewidth": 0,
             "ticks": ""
            },
            "colorscale": [
             [
              0,
              "#0d0887"
             ],
             [
              0.1111111111111111,
              "#46039f"
             ],
             [
              0.2222222222222222,
              "#7201a8"
             ],
             [
              0.3333333333333333,
              "#9c179e"
             ],
             [
              0.4444444444444444,
              "#bd3786"
             ],
             [
              0.5555555555555556,
              "#d8576b"
             ],
             [
              0.6666666666666666,
              "#ed7953"
             ],
             [
              0.7777777777777778,
              "#fb9f3a"
             ],
             [
              0.8888888888888888,
              "#fdca26"
             ],
             [
              1,
              "#f0f921"
             ]
            ],
            "type": "contour"
           }
          ],
          "contourcarpet": [
           {
            "colorbar": {
             "outlinewidth": 0,
             "ticks": ""
            },
            "type": "contourcarpet"
           }
          ],
          "heatmap": [
           {
            "colorbar": {
             "outlinewidth": 0,
             "ticks": ""
            },
            "colorscale": [
             [
              0,
              "#0d0887"
             ],
             [
              0.1111111111111111,
              "#46039f"
             ],
             [
              0.2222222222222222,
              "#7201a8"
             ],
             [
              0.3333333333333333,
              "#9c179e"
             ],
             [
              0.4444444444444444,
              "#bd3786"
             ],
             [
              0.5555555555555556,
              "#d8576b"
             ],
             [
              0.6666666666666666,
              "#ed7953"
             ],
             [
              0.7777777777777778,
              "#fb9f3a"
             ],
             [
              0.8888888888888888,
              "#fdca26"
             ],
             [
              1,
              "#f0f921"
             ]
            ],
            "type": "heatmap"
           }
          ],
          "heatmapgl": [
           {
            "colorbar": {
             "outlinewidth": 0,
             "ticks": ""
            },
            "colorscale": [
             [
              0,
              "#0d0887"
             ],
             [
              0.1111111111111111,
              "#46039f"
             ],
             [
              0.2222222222222222,
              "#7201a8"
             ],
             [
              0.3333333333333333,
              "#9c179e"
             ],
             [
              0.4444444444444444,
              "#bd3786"
             ],
             [
              0.5555555555555556,
              "#d8576b"
             ],
             [
              0.6666666666666666,
              "#ed7953"
             ],
             [
              0.7777777777777778,
              "#fb9f3a"
             ],
             [
              0.8888888888888888,
              "#fdca26"
             ],
             [
              1,
              "#f0f921"
             ]
            ],
            "type": "heatmapgl"
           }
          ],
          "histogram": [
           {
            "marker": {
             "pattern": {
              "fillmode": "overlay",
              "size": 10,
              "solidity": 0.2
             }
            },
            "type": "histogram"
           }
          ],
          "histogram2d": [
           {
            "colorbar": {
             "outlinewidth": 0,
             "ticks": ""
            },
            "colorscale": [
             [
              0,
              "#0d0887"
             ],
             [
              0.1111111111111111,
              "#46039f"
             ],
             [
              0.2222222222222222,
              "#7201a8"
             ],
             [
              0.3333333333333333,
              "#9c179e"
             ],
             [
              0.4444444444444444,
              "#bd3786"
             ],
             [
              0.5555555555555556,
              "#d8576b"
             ],
             [
              0.6666666666666666,
              "#ed7953"
             ],
             [
              0.7777777777777778,
              "#fb9f3a"
             ],
             [
              0.8888888888888888,
              "#fdca26"
             ],
             [
              1,
              "#f0f921"
             ]
            ],
            "type": "histogram2d"
           }
          ],
          "histogram2dcontour": [
           {
            "colorbar": {
             "outlinewidth": 0,
             "ticks": ""
            },
            "colorscale": [
             [
              0,
              "#0d0887"
             ],
             [
              0.1111111111111111,
              "#46039f"
             ],
             [
              0.2222222222222222,
              "#7201a8"
             ],
             [
              0.3333333333333333,
              "#9c179e"
             ],
             [
              0.4444444444444444,
              "#bd3786"
             ],
             [
              0.5555555555555556,
              "#d8576b"
             ],
             [
              0.6666666666666666,
              "#ed7953"
             ],
             [
              0.7777777777777778,
              "#fb9f3a"
             ],
             [
              0.8888888888888888,
              "#fdca26"
             ],
             [
              1,
              "#f0f921"
             ]
            ],
            "type": "histogram2dcontour"
           }
          ],
          "mesh3d": [
           {
            "colorbar": {
             "outlinewidth": 0,
             "ticks": ""
            },
            "type": "mesh3d"
           }
          ],
          "parcoords": [
           {
            "line": {
             "colorbar": {
              "outlinewidth": 0,
              "ticks": ""
             }
            },
            "type": "parcoords"
           }
          ],
          "pie": [
           {
            "automargin": true,
            "type": "pie"
           }
          ],
          "scatter": [
           {
            "fillpattern": {
             "fillmode": "overlay",
             "size": 10,
             "solidity": 0.2
            },
            "type": "scatter"
           }
          ],
          "scatter3d": [
           {
            "line": {
             "colorbar": {
              "outlinewidth": 0,
              "ticks": ""
             }
            },
            "marker": {
             "colorbar": {
              "outlinewidth": 0,
              "ticks": ""
             }
            },
            "type": "scatter3d"
           }
          ],
          "scattercarpet": [
           {
            "marker": {
             "colorbar": {
              "outlinewidth": 0,
              "ticks": ""
             }
            },
            "type": "scattercarpet"
           }
          ],
          "scattergeo": [
           {
            "marker": {
             "colorbar": {
              "outlinewidth": 0,
              "ticks": ""
             }
            },
            "type": "scattergeo"
           }
          ],
          "scattergl": [
           {
            "marker": {
             "colorbar": {
              "outlinewidth": 0,
              "ticks": ""
             }
            },
            "type": "scattergl"
           }
          ],
          "scattermapbox": [
           {
            "marker": {
             "colorbar": {
              "outlinewidth": 0,
              "ticks": ""
             }
            },
            "type": "scattermapbox"
           }
          ],
          "scatterpolar": [
           {
            "marker": {
             "colorbar": {
              "outlinewidth": 0,
              "ticks": ""
             }
            },
            "type": "scatterpolar"
           }
          ],
          "scatterpolargl": [
           {
            "marker": {
             "colorbar": {
              "outlinewidth": 0,
              "ticks": ""
             }
            },
            "type": "scatterpolargl"
           }
          ],
          "scatterternary": [
           {
            "marker": {
             "colorbar": {
              "outlinewidth": 0,
              "ticks": ""
             }
            },
            "type": "scatterternary"
           }
          ],
          "surface": [
           {
            "colorbar": {
             "outlinewidth": 0,
             "ticks": ""
            },
            "colorscale": [
             [
              0,
              "#0d0887"
             ],
             [
              0.1111111111111111,
              "#46039f"
             ],
             [
              0.2222222222222222,
              "#7201a8"
             ],
             [
              0.3333333333333333,
              "#9c179e"
             ],
             [
              0.4444444444444444,
              "#bd3786"
             ],
             [
              0.5555555555555556,
              "#d8576b"
             ],
             [
              0.6666666666666666,
              "#ed7953"
             ],
             [
              0.7777777777777778,
              "#fb9f3a"
             ],
             [
              0.8888888888888888,
              "#fdca26"
             ],
             [
              1,
              "#f0f921"
             ]
            ],
            "type": "surface"
           }
          ],
          "table": [
           {
            "cells": {
             "fill": {
              "color": "#EBF0F8"
             },
             "line": {
              "color": "white"
             }
            },
            "header": {
             "fill": {
              "color": "#C8D4E3"
             },
             "line": {
              "color": "white"
             }
            },
            "type": "table"
           }
          ]
         },
         "layout": {
          "annotationdefaults": {
           "arrowcolor": "#2a3f5f",
           "arrowhead": 0,
           "arrowwidth": 1
          },
          "autotypenumbers": "strict",
          "coloraxis": {
           "colorbar": {
            "outlinewidth": 0,
            "ticks": ""
           }
          },
          "colorscale": {
           "diverging": [
            [
             0,
             "#8e0152"
            ],
            [
             0.1,
             "#c51b7d"
            ],
            [
             0.2,
             "#de77ae"
            ],
            [
             0.3,
             "#f1b6da"
            ],
            [
             0.4,
             "#fde0ef"
            ],
            [
             0.5,
             "#f7f7f7"
            ],
            [
             0.6,
             "#e6f5d0"
            ],
            [
             0.7,
             "#b8e186"
            ],
            [
             0.8,
             "#7fbc41"
            ],
            [
             0.9,
             "#4d9221"
            ],
            [
             1,
             "#276419"
            ]
           ],
           "sequential": [
            [
             0,
             "#0d0887"
            ],
            [
             0.1111111111111111,
             "#46039f"
            ],
            [
             0.2222222222222222,
             "#7201a8"
            ],
            [
             0.3333333333333333,
             "#9c179e"
            ],
            [
             0.4444444444444444,
             "#bd3786"
            ],
            [
             0.5555555555555556,
             "#d8576b"
            ],
            [
             0.6666666666666666,
             "#ed7953"
            ],
            [
             0.7777777777777778,
             "#fb9f3a"
            ],
            [
             0.8888888888888888,
             "#fdca26"
            ],
            [
             1,
             "#f0f921"
            ]
           ],
           "sequentialminus": [
            [
             0,
             "#0d0887"
            ],
            [
             0.1111111111111111,
             "#46039f"
            ],
            [
             0.2222222222222222,
             "#7201a8"
            ],
            [
             0.3333333333333333,
             "#9c179e"
            ],
            [
             0.4444444444444444,
             "#bd3786"
            ],
            [
             0.5555555555555556,
             "#d8576b"
            ],
            [
             0.6666666666666666,
             "#ed7953"
            ],
            [
             0.7777777777777778,
             "#fb9f3a"
            ],
            [
             0.8888888888888888,
             "#fdca26"
            ],
            [
             1,
             "#f0f921"
            ]
           ]
          },
          "colorway": [
           "#636efa",
           "#EF553B",
           "#00cc96",
           "#ab63fa",
           "#FFA15A",
           "#19d3f3",
           "#FF6692",
           "#B6E880",
           "#FF97FF",
           "#FECB52"
          ],
          "font": {
           "color": "#2a3f5f"
          },
          "geo": {
           "bgcolor": "white",
           "lakecolor": "white",
           "landcolor": "#E5ECF6",
           "showlakes": true,
           "showland": true,
           "subunitcolor": "white"
          },
          "hoverlabel": {
           "align": "left"
          },
          "hovermode": "closest",
          "mapbox": {
           "style": "light"
          },
          "paper_bgcolor": "white",
          "plot_bgcolor": "#E5ECF6",
          "polar": {
           "angularaxis": {
            "gridcolor": "white",
            "linecolor": "white",
            "ticks": ""
           },
           "bgcolor": "#E5ECF6",
           "radialaxis": {
            "gridcolor": "white",
            "linecolor": "white",
            "ticks": ""
           }
          },
          "scene": {
           "xaxis": {
            "backgroundcolor": "#E5ECF6",
            "gridcolor": "white",
            "gridwidth": 2,
            "linecolor": "white",
            "showbackground": true,
            "ticks": "",
            "zerolinecolor": "white"
           },
           "yaxis": {
            "backgroundcolor": "#E5ECF6",
            "gridcolor": "white",
            "gridwidth": 2,
            "linecolor": "white",
            "showbackground": true,
            "ticks": "",
            "zerolinecolor": "white"
           },
           "zaxis": {
            "backgroundcolor": "#E5ECF6",
            "gridcolor": "white",
            "gridwidth": 2,
            "linecolor": "white",
            "showbackground": true,
            "ticks": "",
            "zerolinecolor": "white"
           }
          },
          "shapedefaults": {
           "line": {
            "color": "#2a3f5f"
           }
          },
          "ternary": {
           "aaxis": {
            "gridcolor": "white",
            "linecolor": "white",
            "ticks": ""
           },
           "baxis": {
            "gridcolor": "white",
            "linecolor": "white",
            "ticks": ""
           },
           "bgcolor": "#E5ECF6",
           "caxis": {
            "gridcolor": "white",
            "linecolor": "white",
            "ticks": ""
           }
          },
          "title": {
           "x": 0.05
          },
          "xaxis": {
           "automargin": true,
           "gridcolor": "white",
           "linecolor": "white",
           "ticks": "",
           "title": {
            "standoff": 15
           },
           "zerolinecolor": "white",
           "zerolinewidth": 2
          },
          "yaxis": {
           "automargin": true,
           "gridcolor": "white",
           "linecolor": "white",
           "ticks": "",
           "title": {
            "standoff": 15
           },
           "zerolinecolor": "white",
           "zerolinewidth": 2
          }
         }
        },
        "title": {
         "text": "Andel_4_doser per Län"
        },
        "xaxis": {
         "anchor": "y",
         "domain": [
          0,
          1
         ],
         "title": {
          "text": "Län_namn"
         }
        },
        "yaxis": {
         "anchor": "x",
         "domain": [
          0,
          1
         ],
         "title": {
          "text": "Andel_4_doser"
         }
        }
       }
      }
     },
     "metadata": {},
     "output_type": "display_data"
    }
   ],
   "source": [
    "grupperade_län['Andel_minst_1_dos'] = grupperade_län['Antal minst 1 dos'] / grupperade_län['Befolkning']\n",
    "grupperade_län['Andel_minst_2_doser'] = grupperade_län['Antal minst 2 doser'] / grupperade_län['Befolkning']\n",
    "grupperade_län['Andel_3_doser'] = grupperade_län['Antal 3 doser'] / grupperade_län['Befolkning']\n",
    "grupperade_län['Andel_4_doser'] = grupperade_län['Antal 4 doser'] / grupperade_län['Befolkning']\n",
    "\n",
    "for dos in ['Andel_minst_1_dos', 'Andel_minst_2_doser', 'Andel_3_doser', 'Andel_4_doser']:\n",
    "    fig = px.bar(grupperade_län, x=grupperade_län.index, y=dos, title=f'{dos} per Län')\n",
    "    fig.show()\n"
   ]
  },
  {
   "cell_type": "code",
   "execution_count": 21,
   "metadata": {},
   "outputs": [
    {
     "data": {
      "application/vnd.plotly.v1+json": {
       "config": {
        "plotlyServerURL": "https://plot.ly"
       },
       "data": [
        {
         "alignmentgroup": "True",
         "hovertemplate": "Län_namn=%{x}<br>Andel_minst_1_dos=%{y}<extra></extra>",
         "legendgroup": "",
         "marker": {
          "color": "#636efa",
          "pattern": {
           "shape": ""
          }
         },
         "name": "",
         "offsetgroup": "",
         "orientation": "v",
         "showlegend": false,
         "textposition": "auto",
         "type": "bar",
         "x": [
          "Stockholms län",
          "Västra Götalands län"
         ],
         "xaxis": "x",
         "y": [
          0.8311989997713299,
          0.8550770229084498
         ],
         "yaxis": "y"
        }
       ],
       "layout": {
        "barmode": "relative",
        "legend": {
         "tracegroupgap": 0
        },
        "template": {
         "data": {
          "bar": [
           {
            "error_x": {
             "color": "#2a3f5f"
            },
            "error_y": {
             "color": "#2a3f5f"
            },
            "marker": {
             "line": {
              "color": "#E5ECF6",
              "width": 0.5
             },
             "pattern": {
              "fillmode": "overlay",
              "size": 10,
              "solidity": 0.2
             }
            },
            "type": "bar"
           }
          ],
          "barpolar": [
           {
            "marker": {
             "line": {
              "color": "#E5ECF6",
              "width": 0.5
             },
             "pattern": {
              "fillmode": "overlay",
              "size": 10,
              "solidity": 0.2
             }
            },
            "type": "barpolar"
           }
          ],
          "carpet": [
           {
            "aaxis": {
             "endlinecolor": "#2a3f5f",
             "gridcolor": "white",
             "linecolor": "white",
             "minorgridcolor": "white",
             "startlinecolor": "#2a3f5f"
            },
            "baxis": {
             "endlinecolor": "#2a3f5f",
             "gridcolor": "white",
             "linecolor": "white",
             "minorgridcolor": "white",
             "startlinecolor": "#2a3f5f"
            },
            "type": "carpet"
           }
          ],
          "choropleth": [
           {
            "colorbar": {
             "outlinewidth": 0,
             "ticks": ""
            },
            "type": "choropleth"
           }
          ],
          "contour": [
           {
            "colorbar": {
             "outlinewidth": 0,
             "ticks": ""
            },
            "colorscale": [
             [
              0,
              "#0d0887"
             ],
             [
              0.1111111111111111,
              "#46039f"
             ],
             [
              0.2222222222222222,
              "#7201a8"
             ],
             [
              0.3333333333333333,
              "#9c179e"
             ],
             [
              0.4444444444444444,
              "#bd3786"
             ],
             [
              0.5555555555555556,
              "#d8576b"
             ],
             [
              0.6666666666666666,
              "#ed7953"
             ],
             [
              0.7777777777777778,
              "#fb9f3a"
             ],
             [
              0.8888888888888888,
              "#fdca26"
             ],
             [
              1,
              "#f0f921"
             ]
            ],
            "type": "contour"
           }
          ],
          "contourcarpet": [
           {
            "colorbar": {
             "outlinewidth": 0,
             "ticks": ""
            },
            "type": "contourcarpet"
           }
          ],
          "heatmap": [
           {
            "colorbar": {
             "outlinewidth": 0,
             "ticks": ""
            },
            "colorscale": [
             [
              0,
              "#0d0887"
             ],
             [
              0.1111111111111111,
              "#46039f"
             ],
             [
              0.2222222222222222,
              "#7201a8"
             ],
             [
              0.3333333333333333,
              "#9c179e"
             ],
             [
              0.4444444444444444,
              "#bd3786"
             ],
             [
              0.5555555555555556,
              "#d8576b"
             ],
             [
              0.6666666666666666,
              "#ed7953"
             ],
             [
              0.7777777777777778,
              "#fb9f3a"
             ],
             [
              0.8888888888888888,
              "#fdca26"
             ],
             [
              1,
              "#f0f921"
             ]
            ],
            "type": "heatmap"
           }
          ],
          "heatmapgl": [
           {
            "colorbar": {
             "outlinewidth": 0,
             "ticks": ""
            },
            "colorscale": [
             [
              0,
              "#0d0887"
             ],
             [
              0.1111111111111111,
              "#46039f"
             ],
             [
              0.2222222222222222,
              "#7201a8"
             ],
             [
              0.3333333333333333,
              "#9c179e"
             ],
             [
              0.4444444444444444,
              "#bd3786"
             ],
             [
              0.5555555555555556,
              "#d8576b"
             ],
             [
              0.6666666666666666,
              "#ed7953"
             ],
             [
              0.7777777777777778,
              "#fb9f3a"
             ],
             [
              0.8888888888888888,
              "#fdca26"
             ],
             [
              1,
              "#f0f921"
             ]
            ],
            "type": "heatmapgl"
           }
          ],
          "histogram": [
           {
            "marker": {
             "pattern": {
              "fillmode": "overlay",
              "size": 10,
              "solidity": 0.2
             }
            },
            "type": "histogram"
           }
          ],
          "histogram2d": [
           {
            "colorbar": {
             "outlinewidth": 0,
             "ticks": ""
            },
            "colorscale": [
             [
              0,
              "#0d0887"
             ],
             [
              0.1111111111111111,
              "#46039f"
             ],
             [
              0.2222222222222222,
              "#7201a8"
             ],
             [
              0.3333333333333333,
              "#9c179e"
             ],
             [
              0.4444444444444444,
              "#bd3786"
             ],
             [
              0.5555555555555556,
              "#d8576b"
             ],
             [
              0.6666666666666666,
              "#ed7953"
             ],
             [
              0.7777777777777778,
              "#fb9f3a"
             ],
             [
              0.8888888888888888,
              "#fdca26"
             ],
             [
              1,
              "#f0f921"
             ]
            ],
            "type": "histogram2d"
           }
          ],
          "histogram2dcontour": [
           {
            "colorbar": {
             "outlinewidth": 0,
             "ticks": ""
            },
            "colorscale": [
             [
              0,
              "#0d0887"
             ],
             [
              0.1111111111111111,
              "#46039f"
             ],
             [
              0.2222222222222222,
              "#7201a8"
             ],
             [
              0.3333333333333333,
              "#9c179e"
             ],
             [
              0.4444444444444444,
              "#bd3786"
             ],
             [
              0.5555555555555556,
              "#d8576b"
             ],
             [
              0.6666666666666666,
              "#ed7953"
             ],
             [
              0.7777777777777778,
              "#fb9f3a"
             ],
             [
              0.8888888888888888,
              "#fdca26"
             ],
             [
              1,
              "#f0f921"
             ]
            ],
            "type": "histogram2dcontour"
           }
          ],
          "mesh3d": [
           {
            "colorbar": {
             "outlinewidth": 0,
             "ticks": ""
            },
            "type": "mesh3d"
           }
          ],
          "parcoords": [
           {
            "line": {
             "colorbar": {
              "outlinewidth": 0,
              "ticks": ""
             }
            },
            "type": "parcoords"
           }
          ],
          "pie": [
           {
            "automargin": true,
            "type": "pie"
           }
          ],
          "scatter": [
           {
            "fillpattern": {
             "fillmode": "overlay",
             "size": 10,
             "solidity": 0.2
            },
            "type": "scatter"
           }
          ],
          "scatter3d": [
           {
            "line": {
             "colorbar": {
              "outlinewidth": 0,
              "ticks": ""
             }
            },
            "marker": {
             "colorbar": {
              "outlinewidth": 0,
              "ticks": ""
             }
            },
            "type": "scatter3d"
           }
          ],
          "scattercarpet": [
           {
            "marker": {
             "colorbar": {
              "outlinewidth": 0,
              "ticks": ""
             }
            },
            "type": "scattercarpet"
           }
          ],
          "scattergeo": [
           {
            "marker": {
             "colorbar": {
              "outlinewidth": 0,
              "ticks": ""
             }
            },
            "type": "scattergeo"
           }
          ],
          "scattergl": [
           {
            "marker": {
             "colorbar": {
              "outlinewidth": 0,
              "ticks": ""
             }
            },
            "type": "scattergl"
           }
          ],
          "scattermapbox": [
           {
            "marker": {
             "colorbar": {
              "outlinewidth": 0,
              "ticks": ""
             }
            },
            "type": "scattermapbox"
           }
          ],
          "scatterpolar": [
           {
            "marker": {
             "colorbar": {
              "outlinewidth": 0,
              "ticks": ""
             }
            },
            "type": "scatterpolar"
           }
          ],
          "scatterpolargl": [
           {
            "marker": {
             "colorbar": {
              "outlinewidth": 0,
              "ticks": ""
             }
            },
            "type": "scatterpolargl"
           }
          ],
          "scatterternary": [
           {
            "marker": {
             "colorbar": {
              "outlinewidth": 0,
              "ticks": ""
             }
            },
            "type": "scatterternary"
           }
          ],
          "surface": [
           {
            "colorbar": {
             "outlinewidth": 0,
             "ticks": ""
            },
            "colorscale": [
             [
              0,
              "#0d0887"
             ],
             [
              0.1111111111111111,
              "#46039f"
             ],
             [
              0.2222222222222222,
              "#7201a8"
             ],
             [
              0.3333333333333333,
              "#9c179e"
             ],
             [
              0.4444444444444444,
              "#bd3786"
             ],
             [
              0.5555555555555556,
              "#d8576b"
             ],
             [
              0.6666666666666666,
              "#ed7953"
             ],
             [
              0.7777777777777778,
              "#fb9f3a"
             ],
             [
              0.8888888888888888,
              "#fdca26"
             ],
             [
              1,
              "#f0f921"
             ]
            ],
            "type": "surface"
           }
          ],
          "table": [
           {
            "cells": {
             "fill": {
              "color": "#EBF0F8"
             },
             "line": {
              "color": "white"
             }
            },
            "header": {
             "fill": {
              "color": "#C8D4E3"
             },
             "line": {
              "color": "white"
             }
            },
            "type": "table"
           }
          ]
         },
         "layout": {
          "annotationdefaults": {
           "arrowcolor": "#2a3f5f",
           "arrowhead": 0,
           "arrowwidth": 1
          },
          "autotypenumbers": "strict",
          "coloraxis": {
           "colorbar": {
            "outlinewidth": 0,
            "ticks": ""
           }
          },
          "colorscale": {
           "diverging": [
            [
             0,
             "#8e0152"
            ],
            [
             0.1,
             "#c51b7d"
            ],
            [
             0.2,
             "#de77ae"
            ],
            [
             0.3,
             "#f1b6da"
            ],
            [
             0.4,
             "#fde0ef"
            ],
            [
             0.5,
             "#f7f7f7"
            ],
            [
             0.6,
             "#e6f5d0"
            ],
            [
             0.7,
             "#b8e186"
            ],
            [
             0.8,
             "#7fbc41"
            ],
            [
             0.9,
             "#4d9221"
            ],
            [
             1,
             "#276419"
            ]
           ],
           "sequential": [
            [
             0,
             "#0d0887"
            ],
            [
             0.1111111111111111,
             "#46039f"
            ],
            [
             0.2222222222222222,
             "#7201a8"
            ],
            [
             0.3333333333333333,
             "#9c179e"
            ],
            [
             0.4444444444444444,
             "#bd3786"
            ],
            [
             0.5555555555555556,
             "#d8576b"
            ],
            [
             0.6666666666666666,
             "#ed7953"
            ],
            [
             0.7777777777777778,
             "#fb9f3a"
            ],
            [
             0.8888888888888888,
             "#fdca26"
            ],
            [
             1,
             "#f0f921"
            ]
           ],
           "sequentialminus": [
            [
             0,
             "#0d0887"
            ],
            [
             0.1111111111111111,
             "#46039f"
            ],
            [
             0.2222222222222222,
             "#7201a8"
            ],
            [
             0.3333333333333333,
             "#9c179e"
            ],
            [
             0.4444444444444444,
             "#bd3786"
            ],
            [
             0.5555555555555556,
             "#d8576b"
            ],
            [
             0.6666666666666666,
             "#ed7953"
            ],
            [
             0.7777777777777778,
             "#fb9f3a"
            ],
            [
             0.8888888888888888,
             "#fdca26"
            ],
            [
             1,
             "#f0f921"
            ]
           ]
          },
          "colorway": [
           "#636efa",
           "#EF553B",
           "#00cc96",
           "#ab63fa",
           "#FFA15A",
           "#19d3f3",
           "#FF6692",
           "#B6E880",
           "#FF97FF",
           "#FECB52"
          ],
          "font": {
           "color": "#2a3f5f"
          },
          "geo": {
           "bgcolor": "white",
           "lakecolor": "white",
           "landcolor": "#E5ECF6",
           "showlakes": true,
           "showland": true,
           "subunitcolor": "white"
          },
          "hoverlabel": {
           "align": "left"
          },
          "hovermode": "closest",
          "mapbox": {
           "style": "light"
          },
          "paper_bgcolor": "white",
          "plot_bgcolor": "#E5ECF6",
          "polar": {
           "angularaxis": {
            "gridcolor": "white",
            "linecolor": "white",
            "ticks": ""
           },
           "bgcolor": "#E5ECF6",
           "radialaxis": {
            "gridcolor": "white",
            "linecolor": "white",
            "ticks": ""
           }
          },
          "scene": {
           "xaxis": {
            "backgroundcolor": "#E5ECF6",
            "gridcolor": "white",
            "gridwidth": 2,
            "linecolor": "white",
            "showbackground": true,
            "ticks": "",
            "zerolinecolor": "white"
           },
           "yaxis": {
            "backgroundcolor": "#E5ECF6",
            "gridcolor": "white",
            "gridwidth": 2,
            "linecolor": "white",
            "showbackground": true,
            "ticks": "",
            "zerolinecolor": "white"
           },
           "zaxis": {
            "backgroundcolor": "#E5ECF6",
            "gridcolor": "white",
            "gridwidth": 2,
            "linecolor": "white",
            "showbackground": true,
            "ticks": "",
            "zerolinecolor": "white"
           }
          },
          "shapedefaults": {
           "line": {
            "color": "#2a3f5f"
           }
          },
          "ternary": {
           "aaxis": {
            "gridcolor": "white",
            "linecolor": "white",
            "ticks": ""
           },
           "baxis": {
            "gridcolor": "white",
            "linecolor": "white",
            "ticks": ""
           },
           "bgcolor": "#E5ECF6",
           "caxis": {
            "gridcolor": "white",
            "linecolor": "white",
            "ticks": ""
           }
          },
          "title": {
           "x": 0.05
          },
          "xaxis": {
           "automargin": true,
           "gridcolor": "white",
           "linecolor": "white",
           "ticks": "",
           "title": {
            "standoff": 15
           },
           "zerolinecolor": "white",
           "zerolinewidth": 2
          },
          "yaxis": {
           "automargin": true,
           "gridcolor": "white",
           "linecolor": "white",
           "ticks": "",
           "title": {
            "standoff": 15
           },
           "zerolinecolor": "white",
           "zerolinewidth": 2
          }
         }
        },
        "title": {
         "text": "Andel_minst_1_dos i Västra Götalands län och Stockholms län"
        },
        "xaxis": {
         "anchor": "y",
         "domain": [
          0,
          1
         ],
         "title": {
          "text": "Län_namn"
         }
        },
        "yaxis": {
         "anchor": "x",
         "domain": [
          0,
          1
         ],
         "title": {
          "text": "Andel_minst_1_dos"
         }
        }
       }
      }
     },
     "metadata": {},
     "output_type": "display_data"
    },
    {
     "data": {
      "application/vnd.plotly.v1+json": {
       "config": {
        "plotlyServerURL": "https://plot.ly"
       },
       "data": [
        {
         "alignmentgroup": "True",
         "hovertemplate": "Län_namn=%{x}<br>Andel_minst_2_doser=%{y}<extra></extra>",
         "legendgroup": "",
         "marker": {
          "color": "#636efa",
          "pattern": {
           "shape": ""
          }
         },
         "name": "",
         "offsetgroup": "",
         "orientation": "v",
         "showlegend": false,
         "textposition": "auto",
         "type": "bar",
         "x": [
          "Stockholms län",
          "Västra Götalands län"
         ],
         "xaxis": "x",
         "y": [
          0.8010761337667403,
          0.8336006391647686
         ],
         "yaxis": "y"
        }
       ],
       "layout": {
        "barmode": "relative",
        "legend": {
         "tracegroupgap": 0
        },
        "template": {
         "data": {
          "bar": [
           {
            "error_x": {
             "color": "#2a3f5f"
            },
            "error_y": {
             "color": "#2a3f5f"
            },
            "marker": {
             "line": {
              "color": "#E5ECF6",
              "width": 0.5
             },
             "pattern": {
              "fillmode": "overlay",
              "size": 10,
              "solidity": 0.2
             }
            },
            "type": "bar"
           }
          ],
          "barpolar": [
           {
            "marker": {
             "line": {
              "color": "#E5ECF6",
              "width": 0.5
             },
             "pattern": {
              "fillmode": "overlay",
              "size": 10,
              "solidity": 0.2
             }
            },
            "type": "barpolar"
           }
          ],
          "carpet": [
           {
            "aaxis": {
             "endlinecolor": "#2a3f5f",
             "gridcolor": "white",
             "linecolor": "white",
             "minorgridcolor": "white",
             "startlinecolor": "#2a3f5f"
            },
            "baxis": {
             "endlinecolor": "#2a3f5f",
             "gridcolor": "white",
             "linecolor": "white",
             "minorgridcolor": "white",
             "startlinecolor": "#2a3f5f"
            },
            "type": "carpet"
           }
          ],
          "choropleth": [
           {
            "colorbar": {
             "outlinewidth": 0,
             "ticks": ""
            },
            "type": "choropleth"
           }
          ],
          "contour": [
           {
            "colorbar": {
             "outlinewidth": 0,
             "ticks": ""
            },
            "colorscale": [
             [
              0,
              "#0d0887"
             ],
             [
              0.1111111111111111,
              "#46039f"
             ],
             [
              0.2222222222222222,
              "#7201a8"
             ],
             [
              0.3333333333333333,
              "#9c179e"
             ],
             [
              0.4444444444444444,
              "#bd3786"
             ],
             [
              0.5555555555555556,
              "#d8576b"
             ],
             [
              0.6666666666666666,
              "#ed7953"
             ],
             [
              0.7777777777777778,
              "#fb9f3a"
             ],
             [
              0.8888888888888888,
              "#fdca26"
             ],
             [
              1,
              "#f0f921"
             ]
            ],
            "type": "contour"
           }
          ],
          "contourcarpet": [
           {
            "colorbar": {
             "outlinewidth": 0,
             "ticks": ""
            },
            "type": "contourcarpet"
           }
          ],
          "heatmap": [
           {
            "colorbar": {
             "outlinewidth": 0,
             "ticks": ""
            },
            "colorscale": [
             [
              0,
              "#0d0887"
             ],
             [
              0.1111111111111111,
              "#46039f"
             ],
             [
              0.2222222222222222,
              "#7201a8"
             ],
             [
              0.3333333333333333,
              "#9c179e"
             ],
             [
              0.4444444444444444,
              "#bd3786"
             ],
             [
              0.5555555555555556,
              "#d8576b"
             ],
             [
              0.6666666666666666,
              "#ed7953"
             ],
             [
              0.7777777777777778,
              "#fb9f3a"
             ],
             [
              0.8888888888888888,
              "#fdca26"
             ],
             [
              1,
              "#f0f921"
             ]
            ],
            "type": "heatmap"
           }
          ],
          "heatmapgl": [
           {
            "colorbar": {
             "outlinewidth": 0,
             "ticks": ""
            },
            "colorscale": [
             [
              0,
              "#0d0887"
             ],
             [
              0.1111111111111111,
              "#46039f"
             ],
             [
              0.2222222222222222,
              "#7201a8"
             ],
             [
              0.3333333333333333,
              "#9c179e"
             ],
             [
              0.4444444444444444,
              "#bd3786"
             ],
             [
              0.5555555555555556,
              "#d8576b"
             ],
             [
              0.6666666666666666,
              "#ed7953"
             ],
             [
              0.7777777777777778,
              "#fb9f3a"
             ],
             [
              0.8888888888888888,
              "#fdca26"
             ],
             [
              1,
              "#f0f921"
             ]
            ],
            "type": "heatmapgl"
           }
          ],
          "histogram": [
           {
            "marker": {
             "pattern": {
              "fillmode": "overlay",
              "size": 10,
              "solidity": 0.2
             }
            },
            "type": "histogram"
           }
          ],
          "histogram2d": [
           {
            "colorbar": {
             "outlinewidth": 0,
             "ticks": ""
            },
            "colorscale": [
             [
              0,
              "#0d0887"
             ],
             [
              0.1111111111111111,
              "#46039f"
             ],
             [
              0.2222222222222222,
              "#7201a8"
             ],
             [
              0.3333333333333333,
              "#9c179e"
             ],
             [
              0.4444444444444444,
              "#bd3786"
             ],
             [
              0.5555555555555556,
              "#d8576b"
             ],
             [
              0.6666666666666666,
              "#ed7953"
             ],
             [
              0.7777777777777778,
              "#fb9f3a"
             ],
             [
              0.8888888888888888,
              "#fdca26"
             ],
             [
              1,
              "#f0f921"
             ]
            ],
            "type": "histogram2d"
           }
          ],
          "histogram2dcontour": [
           {
            "colorbar": {
             "outlinewidth": 0,
             "ticks": ""
            },
            "colorscale": [
             [
              0,
              "#0d0887"
             ],
             [
              0.1111111111111111,
              "#46039f"
             ],
             [
              0.2222222222222222,
              "#7201a8"
             ],
             [
              0.3333333333333333,
              "#9c179e"
             ],
             [
              0.4444444444444444,
              "#bd3786"
             ],
             [
              0.5555555555555556,
              "#d8576b"
             ],
             [
              0.6666666666666666,
              "#ed7953"
             ],
             [
              0.7777777777777778,
              "#fb9f3a"
             ],
             [
              0.8888888888888888,
              "#fdca26"
             ],
             [
              1,
              "#f0f921"
             ]
            ],
            "type": "histogram2dcontour"
           }
          ],
          "mesh3d": [
           {
            "colorbar": {
             "outlinewidth": 0,
             "ticks": ""
            },
            "type": "mesh3d"
           }
          ],
          "parcoords": [
           {
            "line": {
             "colorbar": {
              "outlinewidth": 0,
              "ticks": ""
             }
            },
            "type": "parcoords"
           }
          ],
          "pie": [
           {
            "automargin": true,
            "type": "pie"
           }
          ],
          "scatter": [
           {
            "fillpattern": {
             "fillmode": "overlay",
             "size": 10,
             "solidity": 0.2
            },
            "type": "scatter"
           }
          ],
          "scatter3d": [
           {
            "line": {
             "colorbar": {
              "outlinewidth": 0,
              "ticks": ""
             }
            },
            "marker": {
             "colorbar": {
              "outlinewidth": 0,
              "ticks": ""
             }
            },
            "type": "scatter3d"
           }
          ],
          "scattercarpet": [
           {
            "marker": {
             "colorbar": {
              "outlinewidth": 0,
              "ticks": ""
             }
            },
            "type": "scattercarpet"
           }
          ],
          "scattergeo": [
           {
            "marker": {
             "colorbar": {
              "outlinewidth": 0,
              "ticks": ""
             }
            },
            "type": "scattergeo"
           }
          ],
          "scattergl": [
           {
            "marker": {
             "colorbar": {
              "outlinewidth": 0,
              "ticks": ""
             }
            },
            "type": "scattergl"
           }
          ],
          "scattermapbox": [
           {
            "marker": {
             "colorbar": {
              "outlinewidth": 0,
              "ticks": ""
             }
            },
            "type": "scattermapbox"
           }
          ],
          "scatterpolar": [
           {
            "marker": {
             "colorbar": {
              "outlinewidth": 0,
              "ticks": ""
             }
            },
            "type": "scatterpolar"
           }
          ],
          "scatterpolargl": [
           {
            "marker": {
             "colorbar": {
              "outlinewidth": 0,
              "ticks": ""
             }
            },
            "type": "scatterpolargl"
           }
          ],
          "scatterternary": [
           {
            "marker": {
             "colorbar": {
              "outlinewidth": 0,
              "ticks": ""
             }
            },
            "type": "scatterternary"
           }
          ],
          "surface": [
           {
            "colorbar": {
             "outlinewidth": 0,
             "ticks": ""
            },
            "colorscale": [
             [
              0,
              "#0d0887"
             ],
             [
              0.1111111111111111,
              "#46039f"
             ],
             [
              0.2222222222222222,
              "#7201a8"
             ],
             [
              0.3333333333333333,
              "#9c179e"
             ],
             [
              0.4444444444444444,
              "#bd3786"
             ],
             [
              0.5555555555555556,
              "#d8576b"
             ],
             [
              0.6666666666666666,
              "#ed7953"
             ],
             [
              0.7777777777777778,
              "#fb9f3a"
             ],
             [
              0.8888888888888888,
              "#fdca26"
             ],
             [
              1,
              "#f0f921"
             ]
            ],
            "type": "surface"
           }
          ],
          "table": [
           {
            "cells": {
             "fill": {
              "color": "#EBF0F8"
             },
             "line": {
              "color": "white"
             }
            },
            "header": {
             "fill": {
              "color": "#C8D4E3"
             },
             "line": {
              "color": "white"
             }
            },
            "type": "table"
           }
          ]
         },
         "layout": {
          "annotationdefaults": {
           "arrowcolor": "#2a3f5f",
           "arrowhead": 0,
           "arrowwidth": 1
          },
          "autotypenumbers": "strict",
          "coloraxis": {
           "colorbar": {
            "outlinewidth": 0,
            "ticks": ""
           }
          },
          "colorscale": {
           "diverging": [
            [
             0,
             "#8e0152"
            ],
            [
             0.1,
             "#c51b7d"
            ],
            [
             0.2,
             "#de77ae"
            ],
            [
             0.3,
             "#f1b6da"
            ],
            [
             0.4,
             "#fde0ef"
            ],
            [
             0.5,
             "#f7f7f7"
            ],
            [
             0.6,
             "#e6f5d0"
            ],
            [
             0.7,
             "#b8e186"
            ],
            [
             0.8,
             "#7fbc41"
            ],
            [
             0.9,
             "#4d9221"
            ],
            [
             1,
             "#276419"
            ]
           ],
           "sequential": [
            [
             0,
             "#0d0887"
            ],
            [
             0.1111111111111111,
             "#46039f"
            ],
            [
             0.2222222222222222,
             "#7201a8"
            ],
            [
             0.3333333333333333,
             "#9c179e"
            ],
            [
             0.4444444444444444,
             "#bd3786"
            ],
            [
             0.5555555555555556,
             "#d8576b"
            ],
            [
             0.6666666666666666,
             "#ed7953"
            ],
            [
             0.7777777777777778,
             "#fb9f3a"
            ],
            [
             0.8888888888888888,
             "#fdca26"
            ],
            [
             1,
             "#f0f921"
            ]
           ],
           "sequentialminus": [
            [
             0,
             "#0d0887"
            ],
            [
             0.1111111111111111,
             "#46039f"
            ],
            [
             0.2222222222222222,
             "#7201a8"
            ],
            [
             0.3333333333333333,
             "#9c179e"
            ],
            [
             0.4444444444444444,
             "#bd3786"
            ],
            [
             0.5555555555555556,
             "#d8576b"
            ],
            [
             0.6666666666666666,
             "#ed7953"
            ],
            [
             0.7777777777777778,
             "#fb9f3a"
            ],
            [
             0.8888888888888888,
             "#fdca26"
            ],
            [
             1,
             "#f0f921"
            ]
           ]
          },
          "colorway": [
           "#636efa",
           "#EF553B",
           "#00cc96",
           "#ab63fa",
           "#FFA15A",
           "#19d3f3",
           "#FF6692",
           "#B6E880",
           "#FF97FF",
           "#FECB52"
          ],
          "font": {
           "color": "#2a3f5f"
          },
          "geo": {
           "bgcolor": "white",
           "lakecolor": "white",
           "landcolor": "#E5ECF6",
           "showlakes": true,
           "showland": true,
           "subunitcolor": "white"
          },
          "hoverlabel": {
           "align": "left"
          },
          "hovermode": "closest",
          "mapbox": {
           "style": "light"
          },
          "paper_bgcolor": "white",
          "plot_bgcolor": "#E5ECF6",
          "polar": {
           "angularaxis": {
            "gridcolor": "white",
            "linecolor": "white",
            "ticks": ""
           },
           "bgcolor": "#E5ECF6",
           "radialaxis": {
            "gridcolor": "white",
            "linecolor": "white",
            "ticks": ""
           }
          },
          "scene": {
           "xaxis": {
            "backgroundcolor": "#E5ECF6",
            "gridcolor": "white",
            "gridwidth": 2,
            "linecolor": "white",
            "showbackground": true,
            "ticks": "",
            "zerolinecolor": "white"
           },
           "yaxis": {
            "backgroundcolor": "#E5ECF6",
            "gridcolor": "white",
            "gridwidth": 2,
            "linecolor": "white",
            "showbackground": true,
            "ticks": "",
            "zerolinecolor": "white"
           },
           "zaxis": {
            "backgroundcolor": "#E5ECF6",
            "gridcolor": "white",
            "gridwidth": 2,
            "linecolor": "white",
            "showbackground": true,
            "ticks": "",
            "zerolinecolor": "white"
           }
          },
          "shapedefaults": {
           "line": {
            "color": "#2a3f5f"
           }
          },
          "ternary": {
           "aaxis": {
            "gridcolor": "white",
            "linecolor": "white",
            "ticks": ""
           },
           "baxis": {
            "gridcolor": "white",
            "linecolor": "white",
            "ticks": ""
           },
           "bgcolor": "#E5ECF6",
           "caxis": {
            "gridcolor": "white",
            "linecolor": "white",
            "ticks": ""
           }
          },
          "title": {
           "x": 0.05
          },
          "xaxis": {
           "automargin": true,
           "gridcolor": "white",
           "linecolor": "white",
           "ticks": "",
           "title": {
            "standoff": 15
           },
           "zerolinecolor": "white",
           "zerolinewidth": 2
          },
          "yaxis": {
           "automargin": true,
           "gridcolor": "white",
           "linecolor": "white",
           "ticks": "",
           "title": {
            "standoff": 15
           },
           "zerolinecolor": "white",
           "zerolinewidth": 2
          }
         }
        },
        "title": {
         "text": "Andel_minst_2_doser i Västra Götalands län och Stockholms län"
        },
        "xaxis": {
         "anchor": "y",
         "domain": [
          0,
          1
         ],
         "title": {
          "text": "Län_namn"
         }
        },
        "yaxis": {
         "anchor": "x",
         "domain": [
          0,
          1
         ],
         "title": {
          "text": "Andel_minst_2_doser"
         }
        }
       }
      }
     },
     "metadata": {},
     "output_type": "display_data"
    },
    {
     "data": {
      "application/vnd.plotly.v1+json": {
       "config": {
        "plotlyServerURL": "https://plot.ly"
       },
       "data": [
        {
         "alignmentgroup": "True",
         "hovertemplate": "Län_namn=%{x}<br>Andel_3_doser=%{y}<extra></extra>",
         "legendgroup": "",
         "marker": {
          "color": "#636efa",
          "pattern": {
           "shape": ""
          }
         },
         "name": "",
         "offsetgroup": "",
         "orientation": "v",
         "showlegend": false,
         "textposition": "auto",
         "type": "bar",
         "x": [
          "Stockholms län",
          "Västra Götalands län"
         ],
         "xaxis": "x",
         "y": [
          0.5694619951774007,
          0.580925222592158
         ],
         "yaxis": "y"
        }
       ],
       "layout": {
        "barmode": "relative",
        "legend": {
         "tracegroupgap": 0
        },
        "template": {
         "data": {
          "bar": [
           {
            "error_x": {
             "color": "#2a3f5f"
            },
            "error_y": {
             "color": "#2a3f5f"
            },
            "marker": {
             "line": {
              "color": "#E5ECF6",
              "width": 0.5
             },
             "pattern": {
              "fillmode": "overlay",
              "size": 10,
              "solidity": 0.2
             }
            },
            "type": "bar"
           }
          ],
          "barpolar": [
           {
            "marker": {
             "line": {
              "color": "#E5ECF6",
              "width": 0.5
             },
             "pattern": {
              "fillmode": "overlay",
              "size": 10,
              "solidity": 0.2
             }
            },
            "type": "barpolar"
           }
          ],
          "carpet": [
           {
            "aaxis": {
             "endlinecolor": "#2a3f5f",
             "gridcolor": "white",
             "linecolor": "white",
             "minorgridcolor": "white",
             "startlinecolor": "#2a3f5f"
            },
            "baxis": {
             "endlinecolor": "#2a3f5f",
             "gridcolor": "white",
             "linecolor": "white",
             "minorgridcolor": "white",
             "startlinecolor": "#2a3f5f"
            },
            "type": "carpet"
           }
          ],
          "choropleth": [
           {
            "colorbar": {
             "outlinewidth": 0,
             "ticks": ""
            },
            "type": "choropleth"
           }
          ],
          "contour": [
           {
            "colorbar": {
             "outlinewidth": 0,
             "ticks": ""
            },
            "colorscale": [
             [
              0,
              "#0d0887"
             ],
             [
              0.1111111111111111,
              "#46039f"
             ],
             [
              0.2222222222222222,
              "#7201a8"
             ],
             [
              0.3333333333333333,
              "#9c179e"
             ],
             [
              0.4444444444444444,
              "#bd3786"
             ],
             [
              0.5555555555555556,
              "#d8576b"
             ],
             [
              0.6666666666666666,
              "#ed7953"
             ],
             [
              0.7777777777777778,
              "#fb9f3a"
             ],
             [
              0.8888888888888888,
              "#fdca26"
             ],
             [
              1,
              "#f0f921"
             ]
            ],
            "type": "contour"
           }
          ],
          "contourcarpet": [
           {
            "colorbar": {
             "outlinewidth": 0,
             "ticks": ""
            },
            "type": "contourcarpet"
           }
          ],
          "heatmap": [
           {
            "colorbar": {
             "outlinewidth": 0,
             "ticks": ""
            },
            "colorscale": [
             [
              0,
              "#0d0887"
             ],
             [
              0.1111111111111111,
              "#46039f"
             ],
             [
              0.2222222222222222,
              "#7201a8"
             ],
             [
              0.3333333333333333,
              "#9c179e"
             ],
             [
              0.4444444444444444,
              "#bd3786"
             ],
             [
              0.5555555555555556,
              "#d8576b"
             ],
             [
              0.6666666666666666,
              "#ed7953"
             ],
             [
              0.7777777777777778,
              "#fb9f3a"
             ],
             [
              0.8888888888888888,
              "#fdca26"
             ],
             [
              1,
              "#f0f921"
             ]
            ],
            "type": "heatmap"
           }
          ],
          "heatmapgl": [
           {
            "colorbar": {
             "outlinewidth": 0,
             "ticks": ""
            },
            "colorscale": [
             [
              0,
              "#0d0887"
             ],
             [
              0.1111111111111111,
              "#46039f"
             ],
             [
              0.2222222222222222,
              "#7201a8"
             ],
             [
              0.3333333333333333,
              "#9c179e"
             ],
             [
              0.4444444444444444,
              "#bd3786"
             ],
             [
              0.5555555555555556,
              "#d8576b"
             ],
             [
              0.6666666666666666,
              "#ed7953"
             ],
             [
              0.7777777777777778,
              "#fb9f3a"
             ],
             [
              0.8888888888888888,
              "#fdca26"
             ],
             [
              1,
              "#f0f921"
             ]
            ],
            "type": "heatmapgl"
           }
          ],
          "histogram": [
           {
            "marker": {
             "pattern": {
              "fillmode": "overlay",
              "size": 10,
              "solidity": 0.2
             }
            },
            "type": "histogram"
           }
          ],
          "histogram2d": [
           {
            "colorbar": {
             "outlinewidth": 0,
             "ticks": ""
            },
            "colorscale": [
             [
              0,
              "#0d0887"
             ],
             [
              0.1111111111111111,
              "#46039f"
             ],
             [
              0.2222222222222222,
              "#7201a8"
             ],
             [
              0.3333333333333333,
              "#9c179e"
             ],
             [
              0.4444444444444444,
              "#bd3786"
             ],
             [
              0.5555555555555556,
              "#d8576b"
             ],
             [
              0.6666666666666666,
              "#ed7953"
             ],
             [
              0.7777777777777778,
              "#fb9f3a"
             ],
             [
              0.8888888888888888,
              "#fdca26"
             ],
             [
              1,
              "#f0f921"
             ]
            ],
            "type": "histogram2d"
           }
          ],
          "histogram2dcontour": [
           {
            "colorbar": {
             "outlinewidth": 0,
             "ticks": ""
            },
            "colorscale": [
             [
              0,
              "#0d0887"
             ],
             [
              0.1111111111111111,
              "#46039f"
             ],
             [
              0.2222222222222222,
              "#7201a8"
             ],
             [
              0.3333333333333333,
              "#9c179e"
             ],
             [
              0.4444444444444444,
              "#bd3786"
             ],
             [
              0.5555555555555556,
              "#d8576b"
             ],
             [
              0.6666666666666666,
              "#ed7953"
             ],
             [
              0.7777777777777778,
              "#fb9f3a"
             ],
             [
              0.8888888888888888,
              "#fdca26"
             ],
             [
              1,
              "#f0f921"
             ]
            ],
            "type": "histogram2dcontour"
           }
          ],
          "mesh3d": [
           {
            "colorbar": {
             "outlinewidth": 0,
             "ticks": ""
            },
            "type": "mesh3d"
           }
          ],
          "parcoords": [
           {
            "line": {
             "colorbar": {
              "outlinewidth": 0,
              "ticks": ""
             }
            },
            "type": "parcoords"
           }
          ],
          "pie": [
           {
            "automargin": true,
            "type": "pie"
           }
          ],
          "scatter": [
           {
            "fillpattern": {
             "fillmode": "overlay",
             "size": 10,
             "solidity": 0.2
            },
            "type": "scatter"
           }
          ],
          "scatter3d": [
           {
            "line": {
             "colorbar": {
              "outlinewidth": 0,
              "ticks": ""
             }
            },
            "marker": {
             "colorbar": {
              "outlinewidth": 0,
              "ticks": ""
             }
            },
            "type": "scatter3d"
           }
          ],
          "scattercarpet": [
           {
            "marker": {
             "colorbar": {
              "outlinewidth": 0,
              "ticks": ""
             }
            },
            "type": "scattercarpet"
           }
          ],
          "scattergeo": [
           {
            "marker": {
             "colorbar": {
              "outlinewidth": 0,
              "ticks": ""
             }
            },
            "type": "scattergeo"
           }
          ],
          "scattergl": [
           {
            "marker": {
             "colorbar": {
              "outlinewidth": 0,
              "ticks": ""
             }
            },
            "type": "scattergl"
           }
          ],
          "scattermapbox": [
           {
            "marker": {
             "colorbar": {
              "outlinewidth": 0,
              "ticks": ""
             }
            },
            "type": "scattermapbox"
           }
          ],
          "scatterpolar": [
           {
            "marker": {
             "colorbar": {
              "outlinewidth": 0,
              "ticks": ""
             }
            },
            "type": "scatterpolar"
           }
          ],
          "scatterpolargl": [
           {
            "marker": {
             "colorbar": {
              "outlinewidth": 0,
              "ticks": ""
             }
            },
            "type": "scatterpolargl"
           }
          ],
          "scatterternary": [
           {
            "marker": {
             "colorbar": {
              "outlinewidth": 0,
              "ticks": ""
             }
            },
            "type": "scatterternary"
           }
          ],
          "surface": [
           {
            "colorbar": {
             "outlinewidth": 0,
             "ticks": ""
            },
            "colorscale": [
             [
              0,
              "#0d0887"
             ],
             [
              0.1111111111111111,
              "#46039f"
             ],
             [
              0.2222222222222222,
              "#7201a8"
             ],
             [
              0.3333333333333333,
              "#9c179e"
             ],
             [
              0.4444444444444444,
              "#bd3786"
             ],
             [
              0.5555555555555556,
              "#d8576b"
             ],
             [
              0.6666666666666666,
              "#ed7953"
             ],
             [
              0.7777777777777778,
              "#fb9f3a"
             ],
             [
              0.8888888888888888,
              "#fdca26"
             ],
             [
              1,
              "#f0f921"
             ]
            ],
            "type": "surface"
           }
          ],
          "table": [
           {
            "cells": {
             "fill": {
              "color": "#EBF0F8"
             },
             "line": {
              "color": "white"
             }
            },
            "header": {
             "fill": {
              "color": "#C8D4E3"
             },
             "line": {
              "color": "white"
             }
            },
            "type": "table"
           }
          ]
         },
         "layout": {
          "annotationdefaults": {
           "arrowcolor": "#2a3f5f",
           "arrowhead": 0,
           "arrowwidth": 1
          },
          "autotypenumbers": "strict",
          "coloraxis": {
           "colorbar": {
            "outlinewidth": 0,
            "ticks": ""
           }
          },
          "colorscale": {
           "diverging": [
            [
             0,
             "#8e0152"
            ],
            [
             0.1,
             "#c51b7d"
            ],
            [
             0.2,
             "#de77ae"
            ],
            [
             0.3,
             "#f1b6da"
            ],
            [
             0.4,
             "#fde0ef"
            ],
            [
             0.5,
             "#f7f7f7"
            ],
            [
             0.6,
             "#e6f5d0"
            ],
            [
             0.7,
             "#b8e186"
            ],
            [
             0.8,
             "#7fbc41"
            ],
            [
             0.9,
             "#4d9221"
            ],
            [
             1,
             "#276419"
            ]
           ],
           "sequential": [
            [
             0,
             "#0d0887"
            ],
            [
             0.1111111111111111,
             "#46039f"
            ],
            [
             0.2222222222222222,
             "#7201a8"
            ],
            [
             0.3333333333333333,
             "#9c179e"
            ],
            [
             0.4444444444444444,
             "#bd3786"
            ],
            [
             0.5555555555555556,
             "#d8576b"
            ],
            [
             0.6666666666666666,
             "#ed7953"
            ],
            [
             0.7777777777777778,
             "#fb9f3a"
            ],
            [
             0.8888888888888888,
             "#fdca26"
            ],
            [
             1,
             "#f0f921"
            ]
           ],
           "sequentialminus": [
            [
             0,
             "#0d0887"
            ],
            [
             0.1111111111111111,
             "#46039f"
            ],
            [
             0.2222222222222222,
             "#7201a8"
            ],
            [
             0.3333333333333333,
             "#9c179e"
            ],
            [
             0.4444444444444444,
             "#bd3786"
            ],
            [
             0.5555555555555556,
             "#d8576b"
            ],
            [
             0.6666666666666666,
             "#ed7953"
            ],
            [
             0.7777777777777778,
             "#fb9f3a"
            ],
            [
             0.8888888888888888,
             "#fdca26"
            ],
            [
             1,
             "#f0f921"
            ]
           ]
          },
          "colorway": [
           "#636efa",
           "#EF553B",
           "#00cc96",
           "#ab63fa",
           "#FFA15A",
           "#19d3f3",
           "#FF6692",
           "#B6E880",
           "#FF97FF",
           "#FECB52"
          ],
          "font": {
           "color": "#2a3f5f"
          },
          "geo": {
           "bgcolor": "white",
           "lakecolor": "white",
           "landcolor": "#E5ECF6",
           "showlakes": true,
           "showland": true,
           "subunitcolor": "white"
          },
          "hoverlabel": {
           "align": "left"
          },
          "hovermode": "closest",
          "mapbox": {
           "style": "light"
          },
          "paper_bgcolor": "white",
          "plot_bgcolor": "#E5ECF6",
          "polar": {
           "angularaxis": {
            "gridcolor": "white",
            "linecolor": "white",
            "ticks": ""
           },
           "bgcolor": "#E5ECF6",
           "radialaxis": {
            "gridcolor": "white",
            "linecolor": "white",
            "ticks": ""
           }
          },
          "scene": {
           "xaxis": {
            "backgroundcolor": "#E5ECF6",
            "gridcolor": "white",
            "gridwidth": 2,
            "linecolor": "white",
            "showbackground": true,
            "ticks": "",
            "zerolinecolor": "white"
           },
           "yaxis": {
            "backgroundcolor": "#E5ECF6",
            "gridcolor": "white",
            "gridwidth": 2,
            "linecolor": "white",
            "showbackground": true,
            "ticks": "",
            "zerolinecolor": "white"
           },
           "zaxis": {
            "backgroundcolor": "#E5ECF6",
            "gridcolor": "white",
            "gridwidth": 2,
            "linecolor": "white",
            "showbackground": true,
            "ticks": "",
            "zerolinecolor": "white"
           }
          },
          "shapedefaults": {
           "line": {
            "color": "#2a3f5f"
           }
          },
          "ternary": {
           "aaxis": {
            "gridcolor": "white",
            "linecolor": "white",
            "ticks": ""
           },
           "baxis": {
            "gridcolor": "white",
            "linecolor": "white",
            "ticks": ""
           },
           "bgcolor": "#E5ECF6",
           "caxis": {
            "gridcolor": "white",
            "linecolor": "white",
            "ticks": ""
           }
          },
          "title": {
           "x": 0.05
          },
          "xaxis": {
           "automargin": true,
           "gridcolor": "white",
           "linecolor": "white",
           "ticks": "",
           "title": {
            "standoff": 15
           },
           "zerolinecolor": "white",
           "zerolinewidth": 2
          },
          "yaxis": {
           "automargin": true,
           "gridcolor": "white",
           "linecolor": "white",
           "ticks": "",
           "title": {
            "standoff": 15
           },
           "zerolinecolor": "white",
           "zerolinewidth": 2
          }
         }
        },
        "title": {
         "text": "Andel_3_doser i Västra Götalands län och Stockholms län"
        },
        "xaxis": {
         "anchor": "y",
         "domain": [
          0,
          1
         ],
         "title": {
          "text": "Län_namn"
         }
        },
        "yaxis": {
         "anchor": "x",
         "domain": [
          0,
          1
         ],
         "title": {
          "text": "Andel_3_doser"
         }
        }
       }
      }
     },
     "metadata": {},
     "output_type": "display_data"
    },
    {
     "data": {
      "application/vnd.plotly.v1+json": {
       "config": {
        "plotlyServerURL": "https://plot.ly"
       },
       "data": [
        {
         "alignmentgroup": "True",
         "hovertemplate": "Län_namn=%{x}<br>Andel_4_doser=%{y}<extra></extra>",
         "legendgroup": "",
         "marker": {
          "color": "#636efa",
          "pattern": {
           "shape": ""
          }
         },
         "name": "",
         "offsetgroup": "",
         "orientation": "v",
         "showlegend": false,
         "textposition": "auto",
         "type": "bar",
         "x": [
          "Stockholms län",
          "Västra Götalands län"
         ],
         "xaxis": "x",
         "y": [
          0.11266703298434493,
          0.14040762548840624
         ],
         "yaxis": "y"
        }
       ],
       "layout": {
        "barmode": "relative",
        "legend": {
         "tracegroupgap": 0
        },
        "template": {
         "data": {
          "bar": [
           {
            "error_x": {
             "color": "#2a3f5f"
            },
            "error_y": {
             "color": "#2a3f5f"
            },
            "marker": {
             "line": {
              "color": "#E5ECF6",
              "width": 0.5
             },
             "pattern": {
              "fillmode": "overlay",
              "size": 10,
              "solidity": 0.2
             }
            },
            "type": "bar"
           }
          ],
          "barpolar": [
           {
            "marker": {
             "line": {
              "color": "#E5ECF6",
              "width": 0.5
             },
             "pattern": {
              "fillmode": "overlay",
              "size": 10,
              "solidity": 0.2
             }
            },
            "type": "barpolar"
           }
          ],
          "carpet": [
           {
            "aaxis": {
             "endlinecolor": "#2a3f5f",
             "gridcolor": "white",
             "linecolor": "white",
             "minorgridcolor": "white",
             "startlinecolor": "#2a3f5f"
            },
            "baxis": {
             "endlinecolor": "#2a3f5f",
             "gridcolor": "white",
             "linecolor": "white",
             "minorgridcolor": "white",
             "startlinecolor": "#2a3f5f"
            },
            "type": "carpet"
           }
          ],
          "choropleth": [
           {
            "colorbar": {
             "outlinewidth": 0,
             "ticks": ""
            },
            "type": "choropleth"
           }
          ],
          "contour": [
           {
            "colorbar": {
             "outlinewidth": 0,
             "ticks": ""
            },
            "colorscale": [
             [
              0,
              "#0d0887"
             ],
             [
              0.1111111111111111,
              "#46039f"
             ],
             [
              0.2222222222222222,
              "#7201a8"
             ],
             [
              0.3333333333333333,
              "#9c179e"
             ],
             [
              0.4444444444444444,
              "#bd3786"
             ],
             [
              0.5555555555555556,
              "#d8576b"
             ],
             [
              0.6666666666666666,
              "#ed7953"
             ],
             [
              0.7777777777777778,
              "#fb9f3a"
             ],
             [
              0.8888888888888888,
              "#fdca26"
             ],
             [
              1,
              "#f0f921"
             ]
            ],
            "type": "contour"
           }
          ],
          "contourcarpet": [
           {
            "colorbar": {
             "outlinewidth": 0,
             "ticks": ""
            },
            "type": "contourcarpet"
           }
          ],
          "heatmap": [
           {
            "colorbar": {
             "outlinewidth": 0,
             "ticks": ""
            },
            "colorscale": [
             [
              0,
              "#0d0887"
             ],
             [
              0.1111111111111111,
              "#46039f"
             ],
             [
              0.2222222222222222,
              "#7201a8"
             ],
             [
              0.3333333333333333,
              "#9c179e"
             ],
             [
              0.4444444444444444,
              "#bd3786"
             ],
             [
              0.5555555555555556,
              "#d8576b"
             ],
             [
              0.6666666666666666,
              "#ed7953"
             ],
             [
              0.7777777777777778,
              "#fb9f3a"
             ],
             [
              0.8888888888888888,
              "#fdca26"
             ],
             [
              1,
              "#f0f921"
             ]
            ],
            "type": "heatmap"
           }
          ],
          "heatmapgl": [
           {
            "colorbar": {
             "outlinewidth": 0,
             "ticks": ""
            },
            "colorscale": [
             [
              0,
              "#0d0887"
             ],
             [
              0.1111111111111111,
              "#46039f"
             ],
             [
              0.2222222222222222,
              "#7201a8"
             ],
             [
              0.3333333333333333,
              "#9c179e"
             ],
             [
              0.4444444444444444,
              "#bd3786"
             ],
             [
              0.5555555555555556,
              "#d8576b"
             ],
             [
              0.6666666666666666,
              "#ed7953"
             ],
             [
              0.7777777777777778,
              "#fb9f3a"
             ],
             [
              0.8888888888888888,
              "#fdca26"
             ],
             [
              1,
              "#f0f921"
             ]
            ],
            "type": "heatmapgl"
           }
          ],
          "histogram": [
           {
            "marker": {
             "pattern": {
              "fillmode": "overlay",
              "size": 10,
              "solidity": 0.2
             }
            },
            "type": "histogram"
           }
          ],
          "histogram2d": [
           {
            "colorbar": {
             "outlinewidth": 0,
             "ticks": ""
            },
            "colorscale": [
             [
              0,
              "#0d0887"
             ],
             [
              0.1111111111111111,
              "#46039f"
             ],
             [
              0.2222222222222222,
              "#7201a8"
             ],
             [
              0.3333333333333333,
              "#9c179e"
             ],
             [
              0.4444444444444444,
              "#bd3786"
             ],
             [
              0.5555555555555556,
              "#d8576b"
             ],
             [
              0.6666666666666666,
              "#ed7953"
             ],
             [
              0.7777777777777778,
              "#fb9f3a"
             ],
             [
              0.8888888888888888,
              "#fdca26"
             ],
             [
              1,
              "#f0f921"
             ]
            ],
            "type": "histogram2d"
           }
          ],
          "histogram2dcontour": [
           {
            "colorbar": {
             "outlinewidth": 0,
             "ticks": ""
            },
            "colorscale": [
             [
              0,
              "#0d0887"
             ],
             [
              0.1111111111111111,
              "#46039f"
             ],
             [
              0.2222222222222222,
              "#7201a8"
             ],
             [
              0.3333333333333333,
              "#9c179e"
             ],
             [
              0.4444444444444444,
              "#bd3786"
             ],
             [
              0.5555555555555556,
              "#d8576b"
             ],
             [
              0.6666666666666666,
              "#ed7953"
             ],
             [
              0.7777777777777778,
              "#fb9f3a"
             ],
             [
              0.8888888888888888,
              "#fdca26"
             ],
             [
              1,
              "#f0f921"
             ]
            ],
            "type": "histogram2dcontour"
           }
          ],
          "mesh3d": [
           {
            "colorbar": {
             "outlinewidth": 0,
             "ticks": ""
            },
            "type": "mesh3d"
           }
          ],
          "parcoords": [
           {
            "line": {
             "colorbar": {
              "outlinewidth": 0,
              "ticks": ""
             }
            },
            "type": "parcoords"
           }
          ],
          "pie": [
           {
            "automargin": true,
            "type": "pie"
           }
          ],
          "scatter": [
           {
            "fillpattern": {
             "fillmode": "overlay",
             "size": 10,
             "solidity": 0.2
            },
            "type": "scatter"
           }
          ],
          "scatter3d": [
           {
            "line": {
             "colorbar": {
              "outlinewidth": 0,
              "ticks": ""
             }
            },
            "marker": {
             "colorbar": {
              "outlinewidth": 0,
              "ticks": ""
             }
            },
            "type": "scatter3d"
           }
          ],
          "scattercarpet": [
           {
            "marker": {
             "colorbar": {
              "outlinewidth": 0,
              "ticks": ""
             }
            },
            "type": "scattercarpet"
           }
          ],
          "scattergeo": [
           {
            "marker": {
             "colorbar": {
              "outlinewidth": 0,
              "ticks": ""
             }
            },
            "type": "scattergeo"
           }
          ],
          "scattergl": [
           {
            "marker": {
             "colorbar": {
              "outlinewidth": 0,
              "ticks": ""
             }
            },
            "type": "scattergl"
           }
          ],
          "scattermapbox": [
           {
            "marker": {
             "colorbar": {
              "outlinewidth": 0,
              "ticks": ""
             }
            },
            "type": "scattermapbox"
           }
          ],
          "scatterpolar": [
           {
            "marker": {
             "colorbar": {
              "outlinewidth": 0,
              "ticks": ""
             }
            },
            "type": "scatterpolar"
           }
          ],
          "scatterpolargl": [
           {
            "marker": {
             "colorbar": {
              "outlinewidth": 0,
              "ticks": ""
             }
            },
            "type": "scatterpolargl"
           }
          ],
          "scatterternary": [
           {
            "marker": {
             "colorbar": {
              "outlinewidth": 0,
              "ticks": ""
             }
            },
            "type": "scatterternary"
           }
          ],
          "surface": [
           {
            "colorbar": {
             "outlinewidth": 0,
             "ticks": ""
            },
            "colorscale": [
             [
              0,
              "#0d0887"
             ],
             [
              0.1111111111111111,
              "#46039f"
             ],
             [
              0.2222222222222222,
              "#7201a8"
             ],
             [
              0.3333333333333333,
              "#9c179e"
             ],
             [
              0.4444444444444444,
              "#bd3786"
             ],
             [
              0.5555555555555556,
              "#d8576b"
             ],
             [
              0.6666666666666666,
              "#ed7953"
             ],
             [
              0.7777777777777778,
              "#fb9f3a"
             ],
             [
              0.8888888888888888,
              "#fdca26"
             ],
             [
              1,
              "#f0f921"
             ]
            ],
            "type": "surface"
           }
          ],
          "table": [
           {
            "cells": {
             "fill": {
              "color": "#EBF0F8"
             },
             "line": {
              "color": "white"
             }
            },
            "header": {
             "fill": {
              "color": "#C8D4E3"
             },
             "line": {
              "color": "white"
             }
            },
            "type": "table"
           }
          ]
         },
         "layout": {
          "annotationdefaults": {
           "arrowcolor": "#2a3f5f",
           "arrowhead": 0,
           "arrowwidth": 1
          },
          "autotypenumbers": "strict",
          "coloraxis": {
           "colorbar": {
            "outlinewidth": 0,
            "ticks": ""
           }
          },
          "colorscale": {
           "diverging": [
            [
             0,
             "#8e0152"
            ],
            [
             0.1,
             "#c51b7d"
            ],
            [
             0.2,
             "#de77ae"
            ],
            [
             0.3,
             "#f1b6da"
            ],
            [
             0.4,
             "#fde0ef"
            ],
            [
             0.5,
             "#f7f7f7"
            ],
            [
             0.6,
             "#e6f5d0"
            ],
            [
             0.7,
             "#b8e186"
            ],
            [
             0.8,
             "#7fbc41"
            ],
            [
             0.9,
             "#4d9221"
            ],
            [
             1,
             "#276419"
            ]
           ],
           "sequential": [
            [
             0,
             "#0d0887"
            ],
            [
             0.1111111111111111,
             "#46039f"
            ],
            [
             0.2222222222222222,
             "#7201a8"
            ],
            [
             0.3333333333333333,
             "#9c179e"
            ],
            [
             0.4444444444444444,
             "#bd3786"
            ],
            [
             0.5555555555555556,
             "#d8576b"
            ],
            [
             0.6666666666666666,
             "#ed7953"
            ],
            [
             0.7777777777777778,
             "#fb9f3a"
            ],
            [
             0.8888888888888888,
             "#fdca26"
            ],
            [
             1,
             "#f0f921"
            ]
           ],
           "sequentialminus": [
            [
             0,
             "#0d0887"
            ],
            [
             0.1111111111111111,
             "#46039f"
            ],
            [
             0.2222222222222222,
             "#7201a8"
            ],
            [
             0.3333333333333333,
             "#9c179e"
            ],
            [
             0.4444444444444444,
             "#bd3786"
            ],
            [
             0.5555555555555556,
             "#d8576b"
            ],
            [
             0.6666666666666666,
             "#ed7953"
            ],
            [
             0.7777777777777778,
             "#fb9f3a"
            ],
            [
             0.8888888888888888,
             "#fdca26"
            ],
            [
             1,
             "#f0f921"
            ]
           ]
          },
          "colorway": [
           "#636efa",
           "#EF553B",
           "#00cc96",
           "#ab63fa",
           "#FFA15A",
           "#19d3f3",
           "#FF6692",
           "#B6E880",
           "#FF97FF",
           "#FECB52"
          ],
          "font": {
           "color": "#2a3f5f"
          },
          "geo": {
           "bgcolor": "white",
           "lakecolor": "white",
           "landcolor": "#E5ECF6",
           "showlakes": true,
           "showland": true,
           "subunitcolor": "white"
          },
          "hoverlabel": {
           "align": "left"
          },
          "hovermode": "closest",
          "mapbox": {
           "style": "light"
          },
          "paper_bgcolor": "white",
          "plot_bgcolor": "#E5ECF6",
          "polar": {
           "angularaxis": {
            "gridcolor": "white",
            "linecolor": "white",
            "ticks": ""
           },
           "bgcolor": "#E5ECF6",
           "radialaxis": {
            "gridcolor": "white",
            "linecolor": "white",
            "ticks": ""
           }
          },
          "scene": {
           "xaxis": {
            "backgroundcolor": "#E5ECF6",
            "gridcolor": "white",
            "gridwidth": 2,
            "linecolor": "white",
            "showbackground": true,
            "ticks": "",
            "zerolinecolor": "white"
           },
           "yaxis": {
            "backgroundcolor": "#E5ECF6",
            "gridcolor": "white",
            "gridwidth": 2,
            "linecolor": "white",
            "showbackground": true,
            "ticks": "",
            "zerolinecolor": "white"
           },
           "zaxis": {
            "backgroundcolor": "#E5ECF6",
            "gridcolor": "white",
            "gridwidth": 2,
            "linecolor": "white",
            "showbackground": true,
            "ticks": "",
            "zerolinecolor": "white"
           }
          },
          "shapedefaults": {
           "line": {
            "color": "#2a3f5f"
           }
          },
          "ternary": {
           "aaxis": {
            "gridcolor": "white",
            "linecolor": "white",
            "ticks": ""
           },
           "baxis": {
            "gridcolor": "white",
            "linecolor": "white",
            "ticks": ""
           },
           "bgcolor": "#E5ECF6",
           "caxis": {
            "gridcolor": "white",
            "linecolor": "white",
            "ticks": ""
           }
          },
          "title": {
           "x": 0.05
          },
          "xaxis": {
           "automargin": true,
           "gridcolor": "white",
           "linecolor": "white",
           "ticks": "",
           "title": {
            "standoff": 15
           },
           "zerolinecolor": "white",
           "zerolinewidth": 2
          },
          "yaxis": {
           "automargin": true,
           "gridcolor": "white",
           "linecolor": "white",
           "ticks": "",
           "title": {
            "standoff": 15
           },
           "zerolinecolor": "white",
           "zerolinewidth": 2
          }
         }
        },
        "title": {
         "text": "Andel_4_doser i Västra Götalands län och Stockholms län"
        },
        "xaxis": {
         "anchor": "y",
         "domain": [
          0,
          1
         ],
         "title": {
          "text": "Län_namn"
         }
        },
        "yaxis": {
         "anchor": "x",
         "domain": [
          0,
          1
         ],
         "title": {
          "text": "Andel_4_doser"
         }
        }
       }
      }
     },
     "metadata": {},
     "output_type": "display_data"
    }
   ],
   "source": [
    "\n",
    "valda_lan = Vaccinerade_kommun_ålder[(Vaccinerade_kommun_ålder['Län_namn'] == 'Västra Götalands län') | (Vaccinerade_kommun_ålder['Län_namn'] == 'Stockholms län')]\n",
    "\n",
    "\n",
    "grupperade_lan = valda_lan.groupby('Län_namn').sum()\n",
    "grupperade_lan['Andel_minst_1_dos'] = grupperade_lan['Antal minst 1 dos'] / grupperade_lan['Befolkning']\n",
    "grupperade_lan['Andel_minst_2_doser'] = grupperade_lan['Antal minst 2 doser'] / grupperade_lan['Befolkning']\n",
    "grupperade_lan['Andel_3_doser'] = grupperade_lan['Antal 3 doser'] / grupperade_lan['Befolkning']\n",
    "grupperade_lan['Andel_4_doser'] = grupperade_lan['Antal 4 doser'] / grupperade_lan['Befolkning']\n",
    "\n",
    "for dos in ['Andel_minst_1_dos', 'Andel_minst_2_doser', 'Andel_3_doser', 'Andel_4_doser']:\n",
    "    fig = px.bar(grupperade_lan, x=grupperade_lan.index, y=dos, title=f'{dos} i Västra Götalands län och Stockholms län')\n",
    "    fig.show()\n"
   ]
  }
 ],
 "metadata": {
  "kernelspec": {
   "display_name": "Databehandling",
   "language": "python",
   "name": "myvenv"
  },
  "language_info": {
   "codemirror_mode": {
    "name": "ipython",
    "version": 3
   },
   "file_extension": ".py",
   "mimetype": "text/x-python",
   "name": "python",
   "nbconvert_exporter": "python",
   "pygments_lexer": "ipython3",
   "version": "3.11.7"
  }
 },
 "nbformat": 4,
 "nbformat_minor": 2
}
