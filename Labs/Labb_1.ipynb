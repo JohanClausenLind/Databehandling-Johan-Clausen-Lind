{
 "cells": [
  {
   "cell_type": "code",
   "execution_count": null,
   "metadata": {},
   "outputs": [],
   "source": [
    "import pandas as pd\n",
    "\n",
    "file_path = 'C:\\Users\\Johan\\OneDrive\\Documents\\GitHub\\Databehandling-Johan-Clausen-Lind\\Data\\Folkhalsomyndigheten_Covid19'\n",
    "covid_data = pd.read_excel(file_path, sheet_name='Veckodata Riket')\n",
    "\n",
    "\n",
    "\n",
    "\n"
   ]
  }
 ],
 "metadata": {
  "kernelspec": {
   "display_name": "Databehandling",
   "language": "python",
   "name": "myvenv"
  },
  "language_info": {
   "name": "python",
   "version": "3.11.6"
  }
 },
 "nbformat": 4,
 "nbformat_minor": 2
}
